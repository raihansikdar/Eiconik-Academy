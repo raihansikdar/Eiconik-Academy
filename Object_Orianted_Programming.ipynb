{
 "cells": [
  {
   "cell_type": "markdown",
   "metadata": {},
   "source": [
    "## Basic OOP"
   ]
  },
  {
   "cell_type": "code",
   "execution_count": 1,
   "metadata": {},
   "outputs": [
    {
     "name": "stdout",
     "output_type": "stream",
     "text": [
      "id = 101 cgpa = 3.75 \n"
     ]
    }
   ],
   "source": [
    "class student:\n",
    "    id = \"\"\n",
    "    cgpa = \"\"\n",
    "\n",
    "raihan = student()\n",
    "raihan.id = 101\n",
    "raihan.cgpa = 3.75\n",
    "\n",
    "print(f\"id = {raihan.id} cgpa = {raihan.cgpa} \")"
   ]
  },
  {
   "cell_type": "code",
   "execution_count": 2,
   "metadata": {},
   "outputs": [
    {
     "name": "stdout",
     "output_type": "stream",
     "text": [
      "id = 101 cgpa = 3.75 \n"
     ]
    }
   ],
   "source": [
    "class student:\n",
    "    id = \"\"\n",
    "    cgpa = \"\"\n",
    "    \n",
    "    # Methods\n",
    "    def display(self):\n",
    "        print(f\"id = {raihan.id} cgpa = {raihan.cgpa} \")\n",
    "\n",
    "raihan = student()\n",
    "raihan.id = 101\n",
    "raihan.cgpa = 3.75 \n",
    "raihan.display()"
   ]
  },
  {
   "cell_type": "code",
   "execution_count": 3,
   "metadata": {},
   "outputs": [
    {
     "name": "stdout",
     "output_type": "stream",
     "text": [
      "id = 101 cgpa = 3.75\n"
     ]
    }
   ],
   "source": [
    " # Creating Constructor\n",
    "class student:\n",
    "    id = \"\"\n",
    "    cgpa = \"\"\n",
    "    \n",
    "    def __init__(self,id,cgpa):    # Constructor\n",
    "        self.id = id\n",
    "        self.cgpa = cgpa\n",
    "\n",
    "    def display(self):\n",
    "        print(f\"id = {raihan.id} cgpa = {raihan.cgpa}\")\n",
    "\n",
    "raihan = student(101,3.75)\n",
    "raihan.display()"
   ]
  },
  {
   "cell_type": "code",
   "execution_count": 4,
   "metadata": {},
   "outputs": [
    {
     "name": "stdout",
     "output_type": "stream",
     "text": [
      "id = 101 , name = Raihan Sikdar\n"
     ]
    }
   ],
   "source": [
    "class student:\n",
    "    \n",
    "    def __init__(self,id,name) -> None:\n",
    "        self.id = id\n",
    "        self.name = name\n",
    "\n",
    "    def __repr__(self) -> str:\n",
    "        return \"id = {} , name = {}\".format(self.id,self.name)\n",
    "\n",
    "obj = student(101,\"Raihan Sikdar\")\n",
    "print(obj)"
   ]
  },
  {
   "cell_type": "code",
   "execution_count": 5,
   "metadata": {},
   "outputs": [
    {
     "name": "stdout",
     "output_type": "stream",
     "text": [
      "25.0\n"
     ]
    }
   ],
   "source": [
    "class triangle:\n",
    "    def __init__(self,base,height) -> None:\n",
    "        self.base = base\n",
    "        self.height = height\n",
    "        \n",
    "    def calculate_area(self):\n",
    "        area = 0.5*(self.base*self.height)\n",
    "        print(area)\n",
    "\n",
    "t1 = triangle(5,10)\n",
    "t1.calculate_area()"
   ]
  },
  {
   "cell_type": "markdown",
   "metadata": {},
   "source": [
    "## Course"
   ]
  },
  {
   "cell_type": "code",
   "execution_count": 6,
   "metadata": {},
   "outputs": [],
   "source": [
    "# Create Class\n",
    "class Product:\n",
    "    \n",
    "    # Global Attribute\n",
    "    platform = 'AMAZON'\n",
    "\n",
    "    # Constructor\n",
    "    def __init__(self,id: int, title: str, price: float) -> None:\n",
    "        self.id = id\n",
    "        self.title = title\n",
    "        self.price = price\n",
    "    \n",
    "    # Methods\n",
    "    def getInfo(self) -> str:\n",
    "        return (self.id,self.title,self.price)\n",
    "    \n",
    "    def getDiscount(self) -> float:\n",
    "        return self.price - (self.price*(15/100))\n",
    "\n",
    "    def __str__(self) -> str:\n",
    "        return f'Product(id = {self.id},title = {self.title},price = {self.price})'\n",
    "\n",
    "    # def __repr__(self) -> str:\n",
    "    #     return f'Product(id = {self.id},title = {self.title})'"
   ]
  },
  {
   "cell_type": "code",
   "execution_count": 7,
   "metadata": {},
   "outputs": [
    {
     "name": "stdout",
     "output_type": "stream",
     "text": [
      "Product(id = 133,title = Iphone,price = 12000.0)\n"
     ]
    }
   ],
   "source": [
    "# Creating Object \n",
    "p1 = Product(133,'Iphone',12000.00)\n",
    "print(p1)\n",
    "# p1.getInfo()"
   ]
  },
  {
   "cell_type": "code",
   "execution_count": 8,
   "metadata": {},
   "outputs": [
    {
     "name": "stdout",
     "output_type": "stream",
     "text": [
      "Product(id = 101,title = Samsung,price = 150000.0)\n"
     ]
    }
   ],
   "source": [
    "p2 = Product(101,'Samsung',150000.00)\n",
    "print(p2)"
   ]
  },
  {
   "cell_type": "code",
   "execution_count": 9,
   "metadata": {},
   "outputs": [
    {
     "name": "stdout",
     "output_type": "stream",
     "text": [
      "AMAZON\n",
      "AMAZON\n"
     ]
    }
   ],
   "source": [
    "print(p1.platform)\n",
    "print(p2.platform)"
   ]
  },
  {
   "cell_type": "code",
   "execution_count": 10,
   "metadata": {},
   "outputs": [
    {
     "data": {
      "text/plain": [
       "(133, 'Iphone', 12000.0)"
      ]
     },
     "execution_count": 10,
     "metadata": {},
     "output_type": "execute_result"
    }
   ],
   "source": [
    "p1.getInfo()"
   ]
  },
  {
   "cell_type": "code",
   "execution_count": 11,
   "metadata": {},
   "outputs": [
    {
     "data": {
      "text/plain": [
       "(101, 'Samsung', 150000.0)"
      ]
     },
     "execution_count": 11,
     "metadata": {},
     "output_type": "execute_result"
    }
   ],
   "source": [
    "p2.getInfo()"
   ]
  },
  {
   "cell_type": "code",
   "execution_count": 12,
   "metadata": {},
   "outputs": [
    {
     "data": {
      "text/plain": [
       "10200.0"
      ]
     },
     "execution_count": 12,
     "metadata": {},
     "output_type": "execute_result"
    }
   ],
   "source": [
    "p1.getDiscount()"
   ]
  },
  {
   "cell_type": "code",
   "execution_count": 13,
   "metadata": {},
   "outputs": [
    {
     "data": {
      "text/plain": [
       "127500.0"
      ]
     },
     "execution_count": 13,
     "metadata": {},
     "output_type": "execute_result"
    }
   ],
   "source": [
    "p2.getDiscount()"
   ]
  },
  {
   "cell_type": "code",
   "execution_count": 14,
   "metadata": {},
   "outputs": [
    {
     "data": {
      "text/plain": [
       "'Iphone'"
      ]
     },
     "execution_count": 14,
     "metadata": {},
     "output_type": "execute_result"
    }
   ],
   "source": [
    "p1.title"
   ]
  },
  {
   "cell_type": "code",
   "execution_count": 15,
   "metadata": {},
   "outputs": [
    {
     "data": {
      "text/plain": [
       "'Samsung'"
      ]
     },
     "execution_count": 15,
     "metadata": {},
     "output_type": "execute_result"
    }
   ],
   "source": [
    "p2.title"
   ]
  },
  {
   "cell_type": "markdown",
   "metadata": {},
   "source": [
    "## Getter,Setter and Deleter"
   ]
  },
  {
   "cell_type": "code",
   "execution_count": 16,
   "metadata": {},
   "outputs": [],
   "source": [
    "class Product:\n",
    "\n",
    "    Platform = \"Amazon\"\n",
    "\n",
    "    def __init__(self,id: int,title: str,price: float) -> None:\n",
    "        self.id = id\n",
    "        self.title = title\n",
    "        self.price = price\n",
    "        self.__code = 553311     # Private Attribute\n",
    "\n",
    "    @property                    # Getter\n",
    "    def code(self) -> int:\n",
    "        return self.__code\n",
    "    \n",
    "    @code.setter                 # Setter\n",
    "    def code(self,new: int) -> None:\n",
    "           self.__code = new\n",
    "    \n",
    "    @code.deleter                # Deleter\n",
    "    def code(self) -> None:\n",
    "        del self.__code\n",
    "   \n",
    "    def getInfo(self) -> str:\n",
    "        return (self.id,self.price,self.title)\n",
    "\n",
    "    def __str__(self) -> str:\n",
    "        return \"id: {}, title: {}, price: {}\".format(self.id,self.title,self.price)"
   ]
  },
  {
   "cell_type": "code",
   "execution_count": 17,
   "metadata": {},
   "outputs": [
    {
     "name": "stdout",
     "output_type": "stream",
     "text": [
      "id: 101, title: Iphone 13 pro max, price: 150000.0\n"
     ]
    }
   ],
   "source": [
    "p1 = Product(101,\"Iphone 13 pro max\",150000.00)\n",
    "print(p1)"
   ]
  },
  {
   "cell_type": "code",
   "execution_count": 18,
   "metadata": {},
   "outputs": [
    {
     "data": {
      "text/plain": [
       "553311"
      ]
     },
     "execution_count": 18,
     "metadata": {},
     "output_type": "execute_result"
    }
   ],
   "source": [
    "p1.code"
   ]
  },
  {
   "cell_type": "code",
   "execution_count": 19,
   "metadata": {},
   "outputs": [],
   "source": [
    "# without setter\n",
    "# p1.code = 112233\n",
    "# AttributeError: can't set attribute"
   ]
  },
  {
   "cell_type": "code",
   "execution_count": 20,
   "metadata": {},
   "outputs": [
    {
     "data": {
      "text/plain": [
       "112233"
      ]
     },
     "execution_count": 20,
     "metadata": {},
     "output_type": "execute_result"
    }
   ],
   "source": [
    "# with setter\n",
    "p1.code = 112233\n",
    "p1.code"
   ]
  },
  {
   "cell_type": "code",
   "execution_count": 21,
   "metadata": {},
   "outputs": [],
   "source": [
    "# without deleter\n",
    "\n",
    "# del p1.code\n",
    "# AttributeError: can't delete attribute"
   ]
  },
  {
   "cell_type": "code",
   "execution_count": 22,
   "metadata": {},
   "outputs": [],
   "source": [
    "# with deleter\n",
    "del p1.code"
   ]
  },
  {
   "cell_type": "code",
   "execution_count": 23,
   "metadata": {},
   "outputs": [
    {
     "ename": "AttributeError",
     "evalue": "'Product' object has no attribute '_Product__code'",
     "output_type": "error",
     "traceback": [
      "\u001b[1;31m---------------------------------------------------------------------------\u001b[0m",
      "\u001b[1;31mAttributeError\u001b[0m                            Traceback (most recent call last)",
      "Cell \u001b[1;32mIn [23], line 1\u001b[0m\n\u001b[1;32m----> 1\u001b[0m p1\u001b[38;5;241m.\u001b[39mcode\n",
      "Cell \u001b[1;32mIn [16], line 13\u001b[0m, in \u001b[0;36mProduct.code\u001b[1;34m(self)\u001b[0m\n\u001b[0;32m     11\u001b[0m \u001b[38;5;129m@property\u001b[39m                    \u001b[38;5;66;03m# Getter\u001b[39;00m\n\u001b[0;32m     12\u001b[0m \u001b[38;5;28;01mdef\u001b[39;00m \u001b[38;5;21mcode\u001b[39m(\u001b[38;5;28mself\u001b[39m) \u001b[38;5;241m-\u001b[39m\u001b[38;5;241m>\u001b[39m \u001b[38;5;28mint\u001b[39m:\n\u001b[1;32m---> 13\u001b[0m     \u001b[38;5;28;01mreturn\u001b[39;00m \u001b[38;5;28;43mself\u001b[39;49m\u001b[38;5;241;43m.\u001b[39;49m\u001b[43m__code\u001b[49m\n",
      "\u001b[1;31mAttributeError\u001b[0m: 'Product' object has no attribute '_Product__code'"
     ]
    }
   ],
   "source": [
    "p1.code          # deleter delete code"
   ]
  },
  {
   "cell_type": "markdown",
   "metadata": {},
   "source": [
    "## Class Method"
   ]
  },
  {
   "cell_type": "code",
   "execution_count": 24,
   "metadata": {},
   "outputs": [],
   "source": [
    "# Create Class\n",
    "class Product:\n",
    "    \n",
    "    # Global Attribute\n",
    "    platform = 'AMAZON'\n",
    "\n",
    "    # Constructor\n",
    "    def __init__(self,id: int, title: str, price: float) -> None:\n",
    "        self.id = id\n",
    "        self.title = title\n",
    "        self.price = price\n",
    "    \n",
    "    @classmethod\n",
    "    def Objectfromstr(cls,string: str):\n",
    "        id,title,price = string.split('-')\n",
    "        return cls(int(id),title,float(price))\n",
    "\n",
    "    def __str__(self) -> str:\n",
    "        return f'Product(id = {self.id},title = {self.title},price = {self.price})'"
   ]
  },
  {
   "cell_type": "code",
   "execution_count": 25,
   "metadata": {},
   "outputs": [
    {
     "name": "stdout",
     "output_type": "stream",
     "text": [
      "Product(id = 101,title = Iphone 14 pro,price = 150000.0)\n"
     ]
    }
   ],
   "source": [
    "p1= Product.Objectfromstr('101-Iphone 14 pro-150000')\n",
    "print(p1)"
   ]
  },
  {
   "cell_type": "markdown",
   "metadata": {},
   "source": [
    "## Static Method"
   ]
  },
  {
   "cell_type": "code",
   "execution_count": 26,
   "metadata": {},
   "outputs": [],
   "source": [
    "# Create Class\n",
    "class Product:\n",
    "    \n",
    "    # Global Attribute\n",
    "    platform = 'AMAZON'\n",
    "\n",
    "    # Constructor\n",
    "    def __init__(self,id: int, title: str, price: float) -> None:\n",
    "        self.id = id\n",
    "        self.title = title\n",
    "        self.price = price\n",
    "    \n",
    "    @staticmethod             # we can call without creating object\n",
    "    def add(x: int,y:int) -> int:\n",
    "      return x+y\n",
    "\n",
    "    def __str__(self) -> str:\n",
    "        return f'Product(id = {self.id},title = {self.title},price = {self.price})'"
   ]
  },
  {
   "cell_type": "code",
   "execution_count": 27,
   "metadata": {},
   "outputs": [
    {
     "data": {
      "text/plain": [
       "13"
      ]
     },
     "execution_count": 27,
     "metadata": {},
     "output_type": "execute_result"
    }
   ],
   "source": [
    "Product.add(5,8)"
   ]
  },
  {
   "cell_type": "markdown",
   "metadata": {},
   "source": [
    "## Magic Method"
   ]
  },
  {
   "cell_type": "code",
   "execution_count": 28,
   "metadata": {},
   "outputs": [],
   "source": [
    "# Create Class\n",
    "class Product:\n",
    "    \n",
    "    # Global Attribute\n",
    "    platform = 'AMAZON'\n",
    "\n",
    "    # Constructor\n",
    "    def __init__(self,id: int, title: str, price: float) -> None:\n",
    "        self.id = id\n",
    "        self.title = title\n",
    "        self.price = price\n",
    "    \n",
    "    def __gt__(self,others: Product) -> bool:\n",
    "        return self.price > others.price\n",
    "\n",
    "    def __ge__(self,others: Product) -> bool:\n",
    "        return self.price >= others.price\n",
    "\n",
    "    def __add__(self,others: Product) -> int:\n",
    "        return self.price + others.price\n",
    "\n",
    "    def __str__(self) -> str:\n",
    "        return f'Product(id = {self.id},title = {self.title},price = {self.price})'"
   ]
  },
  {
   "cell_type": "code",
   "execution_count": 29,
   "metadata": {},
   "outputs": [],
   "source": [
    "p1 = Product(101,'Iphon X',120000.00)\n",
    "p2 = Product(102,'Iphon XIV',150000.00)"
   ]
  },
  {
   "cell_type": "code",
   "execution_count": 30,
   "metadata": {},
   "outputs": [
    {
     "data": {
      "text/plain": [
       "(False, True)"
      ]
     },
     "execution_count": 30,
     "metadata": {},
     "output_type": "execute_result"
    }
   ],
   "source": [
    "p1 > p2, p2 > p1 "
   ]
  },
  {
   "cell_type": "code",
   "execution_count": 31,
   "metadata": {},
   "outputs": [
    {
     "data": {
      "text/plain": [
       "(False, True)"
      ]
     },
     "execution_count": 31,
     "metadata": {},
     "output_type": "execute_result"
    }
   ],
   "source": [
    "p1 >= p2, p2 >= p1"
   ]
  },
  {
   "cell_type": "code",
   "execution_count": 32,
   "metadata": {},
   "outputs": [
    {
     "data": {
      "text/plain": [
       "270000.0"
      ]
     },
     "execution_count": 32,
     "metadata": {},
     "output_type": "execute_result"
    }
   ],
   "source": [
    "p1 + p2"
   ]
  },
  {
   "cell_type": "markdown",
   "metadata": {},
   "source": [
    "## Inheritance"
   ]
  },
  {
   "cell_type": "code",
   "execution_count": 33,
   "metadata": {},
   "outputs": [],
   "source": [
    "# Create Class\n",
    "class Product:\n",
    "    \n",
    "    # Global Attribute\n",
    "    platform = 'AMAZON'\n",
    "\n",
    "    # Constructor\n",
    "    def __init__(self,id: int, title: str, price: float) -> None:\n",
    "        self.id = id\n",
    "        self.title = title\n",
    "        self.price = price\n",
    "    \n",
    "    def __repr__(self) -> str:\n",
    "        return f'Product(id = {self.id},title = {self.title},price = {self.price})'"
   ]
  },
  {
   "cell_type": "code",
   "execution_count": 34,
   "metadata": {},
   "outputs": [],
   "source": [
    "# single inheritance and plymorphism compile and runtime (support)\n",
    "class Cloth(Product):\n",
    "    \n",
    "    def __init__(self, id: int, title: str, price: float,size: str) -> None:\n",
    "        self.size = size\n",
    "        super().__init__(id, title, price)\n",
    "\n",
    "    # overriding of it's parents __repr__() method\n",
    "    def __repr__(self) -> str:\n",
    "        return f'Product(id = {self.id},title = {self.title},price = {self.price},size = {self.size})'"
   ]
  },
  {
   "cell_type": "code",
   "execution_count": 35,
   "metadata": {},
   "outputs": [
    {
     "name": "stdout",
     "output_type": "stream",
     "text": [
      "Product(id = 101,title = T-shirt,price = 25000,size = XXXL)\n"
     ]
    }
   ],
   "source": [
    "p1 = Cloth(101,'T-shirt',25000,'XXXL')\n",
    "print(p1)"
   ]
  },
  {
   "cell_type": "code",
   "execution_count": 36,
   "metadata": {},
   "outputs": [
    {
     "data": {
      "text/plain": [
       "(__main__.Cloth, __main__.Product, object)"
      ]
     },
     "execution_count": 36,
     "metadata": {},
     "output_type": "execute_result"
    }
   ],
   "source": [
    "Cloth.__mro__ # Method Resolution Order"
   ]
  },
  {
   "cell_type": "markdown",
   "metadata": {},
   "source": [
    "## Multiple Level Inheritance"
   ]
  },
  {
   "cell_type": "code",
   "execution_count": 37,
   "metadata": {},
   "outputs": [],
   "source": [
    "class Product:\n",
    "\n",
    "    def __init__(self,id: int, title: str,price: float) -> None:\n",
    "        self.id = id\n",
    "        self.title = title\n",
    "        self.price = price\n",
    "    \n",
    "    def __repr__(self) -> str:\n",
    "        return f\"Product(id:{self.id},title:{self.title},price:{self.price})\"\n",
    "\n",
    "        \n",
    "\n",
    "class Cloth(Product):\n",
    "\n",
    "    def __init__(self, id: int, title: str, price: float,size: str) -> None:\n",
    "        self.size = size\n",
    "        super().__init__(id, title, price)\n",
    "    \n",
    "    # overriding of it's parents __repr__() method\n",
    "    def __repr__(self) -> str:\n",
    "        return f\"Product(id:{self.id},title:{self.title},price:{self.price},size:{self.size})\"\n",
    "\n",
    "\n",
    "\n",
    "class Topwear(Cloth):\n",
    "\n",
    "    def __init__(self, id: int, title: str, price: float, size: str, febric:str) -> None:\n",
    "        self.febric = febric\n",
    "        super().__init__(id, title, price, size)\n",
    "    \n",
    "     # overriding of it's parents __repr__() method\n",
    "    def __repr__(self) -> str:\n",
    "        return f\"Product(id:{self.id}, title:{self.title}, price:{self.price}, size:{self.size}, febric:{self.febric})\""
   ]
  },
  {
   "cell_type": "code",
   "execution_count": 38,
   "metadata": {},
   "outputs": [
    {
     "data": {
      "text/plain": [
       "Product(id:101, title:T-shirt, price:1200, size:XXXL, febric:Cotton)"
      ]
     },
     "execution_count": 38,
     "metadata": {},
     "output_type": "execute_result"
    }
   ],
   "source": [
    "p1 = Topwear(101,'T-shirt',1200,'XXXL','Cotton')\n",
    "p1"
   ]
  },
  {
   "cell_type": "code",
   "execution_count": 39,
   "metadata": {},
   "outputs": [
    {
     "data": {
      "text/plain": [
       "(__main__.Topwear, __main__.Cloth, __main__.Product, object)"
      ]
     },
     "execution_count": 39,
     "metadata": {},
     "output_type": "execute_result"
    }
   ],
   "source": [
    "Topwear.__mro__ "
   ]
  },
  {
   "cell_type": "markdown",
   "metadata": {},
   "source": [
    "## Multiple Inheritance"
   ]
  },
  {
   "cell_type": "code",
   "execution_count": 40,
   "metadata": {},
   "outputs": [],
   "source": [
    "class Product:\n",
    "\n",
    "    Platform = \"Amazon\"\n",
    "\n",
    "    def __init__(self,id: int, title: str,price: float) -> None:\n",
    "        self.id = id\n",
    "        self.title = title\n",
    "        self.price = price\n",
    "    \n",
    "    def __repr__(self) -> str:\n",
    "        return f\"Product(id:{self.id},title:{self.title},price:{self.price})\"\n",
    "\n",
    "class Seller:\n",
    "\n",
    "    def __init__(self,s_id,s_name) -> None:\n",
    "        self.s_id = s_id\n",
    "        self.s_name = s_name\n",
    "\n",
    "\n",
    "class Cloth(Product,Seller):\n",
    "    def __init__(self, id: int, title: str, price: float,size:str,s_id: int,s_name:str) -> None:\n",
    "\n",
    "        self.size = size\n",
    "        Product.__init__(self,id, title, price)\n",
    "        Seller.__init__(self,s_id,s_name)\n",
    "\n",
    "    def get_Product_Info(self):                        # return only Product class info\n",
    "        return Product.__repr__(self),Product.Platform\n",
    "\n",
    "    \n",
    "\n",
    "    def __repr__(self) -> str:\n",
    "        return f\"Product(id:{self.id}, title:{self.title}, price:{self.price}, size:{self.size}, s_id:{self.s_id}, s_name:{self.s_name})\"\n"
   ]
  },
  {
   "cell_type": "code",
   "execution_count": 41,
   "metadata": {},
   "outputs": [
    {
     "data": {
      "text/plain": [
       "Product(id:101, title:T-shirt, price:1200.0, size:XXXL, s_id:8001, s_name:Md Sakil)"
      ]
     },
     "execution_count": 41,
     "metadata": {},
     "output_type": "execute_result"
    }
   ],
   "source": [
    "p1 = Cloth(101,'T-shirt',1200.00,'XXXL',8001,'Md Sakil')\n",
    "p1"
   ]
  },
  {
   "cell_type": "code",
   "execution_count": 42,
   "metadata": {},
   "outputs": [
    {
     "data": {
      "text/plain": [
       "('Product(id:101,title:T-shirt,price:1200.0)', 'Amazon')"
      ]
     },
     "execution_count": 42,
     "metadata": {},
     "output_type": "execute_result"
    }
   ],
   "source": [
    "p1.get_Product_Info()"
   ]
  },
  {
   "cell_type": "code",
   "execution_count": 43,
   "metadata": {},
   "outputs": [
    {
     "data": {
      "text/plain": [
       "(__main__.Cloth, __main__.Product, __main__.Seller, object)"
      ]
     },
     "execution_count": 43,
     "metadata": {},
     "output_type": "execute_result"
    }
   ],
   "source": [
    "Cloth.__mro__"
   ]
  },
  {
   "cell_type": "markdown",
   "metadata": {},
   "source": [
    "## Stoping Inheritance"
   ]
  },
  {
   "cell_type": "code",
   "execution_count": 44,
   "metadata": {},
   "outputs": [],
   "source": [
    "class Meta(type):\n",
    "    def __new__(cls,name,bases,classdict):\n",
    "        # for base in bases:\n",
    "        #     if isinstance(base,Meta):\n",
    "        #         raise TypeError(f'Can not Inherit class{base.__name__}')\n",
    "             return type.__new__(cls,name,bases,classdict) "
   ]
  },
  {
   "cell_type": "code",
   "execution_count": 45,
   "metadata": {},
   "outputs": [],
   "source": [
    "class Product:\n",
    "\n",
    "    Platform = \"Amazon\"\n",
    "\n",
    "    def __init__(self,id: int, title: str,price: float) -> None:\n",
    "        self.id = id\n",
    "        self.title = title\n",
    "        self.price = price\n",
    "    \n",
    "    def __init_subclass__(cls, **kwargs) -> None:\n",
    "        if cls is not Meta:\n",
    "            raise TypeError(f'cannot Inherit class  ***{cls.__name__}')\n",
    "        super().__init__subclass__(cls, **kwargs)\n",
    "    \n",
    "    def __repr__(self) -> str:\n",
    "        return f\"Product(id:{self.id},title:{self.title},price:{self.price})\""
   ]
  },
  {
   "cell_type": "code",
   "execution_count": 46,
   "metadata": {},
   "outputs": [
    {
     "ename": "TypeError",
     "evalue": "cannot Inherit class  ***Cloth",
     "output_type": "error",
     "traceback": [
      "\u001b[1;31m---------------------------------------------------------------------------\u001b[0m",
      "\u001b[1;31mTypeError\u001b[0m                                 Traceback (most recent call last)",
      "Cell \u001b[1;32mIn [46], line 1\u001b[0m\n\u001b[1;32m----> 1\u001b[0m \u001b[38;5;28;01mclass\u001b[39;00m \u001b[38;5;21;01mCloth\u001b[39;00m(Product):\n\u001b[0;32m      2\u001b[0m     \u001b[38;5;28;01mdef\u001b[39;00m \u001b[38;5;21m__init__\u001b[39m(\u001b[38;5;28mself\u001b[39m, \u001b[38;5;28mid\u001b[39m: \u001b[38;5;28mint\u001b[39m, title: \u001b[38;5;28mstr\u001b[39m, price: \u001b[38;5;28mfloat\u001b[39m,size:\u001b[38;5;28mstr\u001b[39m) \u001b[38;5;241m-\u001b[39m\u001b[38;5;241m>\u001b[39m \u001b[38;5;28;01mNone\u001b[39;00m:\n\u001b[0;32m      4\u001b[0m         \u001b[38;5;28mself\u001b[39m\u001b[38;5;241m.\u001b[39msize \u001b[38;5;241m=\u001b[39m size\n",
      "Cell \u001b[1;32mIn [45], line 12\u001b[0m, in \u001b[0;36mProduct.__init_subclass__\u001b[1;34m(cls, **kwargs)\u001b[0m\n\u001b[0;32m     10\u001b[0m \u001b[38;5;28;01mdef\u001b[39;00m \u001b[38;5;21m__init_subclass__\u001b[39m(\u001b[38;5;28mcls\u001b[39m, \u001b[38;5;241m*\u001b[39m\u001b[38;5;241m*\u001b[39mkwargs) \u001b[38;5;241m-\u001b[39m\u001b[38;5;241m>\u001b[39m \u001b[38;5;28;01mNone\u001b[39;00m:\n\u001b[0;32m     11\u001b[0m     \u001b[38;5;28;01mif\u001b[39;00m \u001b[38;5;28mcls\u001b[39m \u001b[38;5;129;01mis\u001b[39;00m \u001b[38;5;129;01mnot\u001b[39;00m Meta:\n\u001b[1;32m---> 12\u001b[0m         \u001b[38;5;28;01mraise\u001b[39;00m \u001b[38;5;167;01mTypeError\u001b[39;00m(\u001b[38;5;124mf\u001b[39m\u001b[38;5;124m'\u001b[39m\u001b[38;5;124mcannot Inherit class  ***\u001b[39m\u001b[38;5;132;01m{\u001b[39;00m\u001b[38;5;28mcls\u001b[39m\u001b[38;5;241m.\u001b[39m\u001b[38;5;18m__name__\u001b[39m\u001b[38;5;132;01m}\u001b[39;00m\u001b[38;5;124m'\u001b[39m)\n\u001b[0;32m     13\u001b[0m     \u001b[38;5;28msuper\u001b[39m()\u001b[38;5;241m.\u001b[39m__init__subclass__(\u001b[38;5;28mcls\u001b[39m, \u001b[38;5;241m*\u001b[39m\u001b[38;5;241m*\u001b[39mkwargs)\n",
      "\u001b[1;31mTypeError\u001b[0m: cannot Inherit class  ***Cloth"
     ]
    }
   ],
   "source": [
    "class Cloth(Product):\n",
    "    def __init__(self, id: int, title: str, price: float,size:str) -> None:\n",
    "\n",
    "        self.size = size\n",
    "        super().__init__(self,id, title, price)\n",
    "\n",
    "    def __repr__(self) -> str:\n",
    "        return f\"Product(id:{self.id}, title:{self.title}, price:{self.price}, size:{self.size})\""
   ]
  },
  {
   "cell_type": "markdown",
   "metadata": {},
   "source": [
    "## **************************Exception Handling*************************"
   ]
  },
  {
   "cell_type": "markdown",
   "metadata": {},
   "source": [
    "# try and except"
   ]
  },
  {
   "cell_type": "code",
   "execution_count": 48,
   "metadata": {},
   "outputs": [
    {
     "name": "stdout",
     "output_type": "stream",
     "text": [
      "division by zero\n"
     ]
    }
   ],
   "source": [
    "try:\n",
    "    num = 25\n",
    "    div = 0\n",
    "\n",
    "    res = num/div\n",
    "    print(res)\n",
    "except Exception as e:\n",
    "    print(e)"
   ]
  },
  {
   "cell_type": "code",
   "execution_count": 49,
   "metadata": {},
   "outputs": [
    {
     "name": "stdout",
     "output_type": "stream",
     "text": [
      "unsupported operand type(s) for /: 'int' and 'str'\n"
     ]
    }
   ],
   "source": [
    "try:\n",
    "    num = 25\n",
    "    div = 'w'\n",
    "    res = num/div\n",
    "    print(res)\n",
    "\n",
    "except ValueError as e:\n",
    "    print(e)\n",
    "\n",
    "except ZeroDivisionError as e:\n",
    "    print(e)\n",
    "\n",
    "except SyntaxError as e:\n",
    "    print(e)\n",
    "\n",
    "except KeyError as e:\n",
    "    print(e)\n",
    "    \n",
    "except Exception as e:\n",
    "    print(e)"
   ]
  },
  {
   "cell_type": "markdown",
   "metadata": {},
   "source": [
    "## finally and else"
   ]
  },
  {
   "cell_type": "markdown",
   "metadata": {},
   "source": [
    "### finally"
   ]
  },
  {
   "cell_type": "code",
   "execution_count": 51,
   "metadata": {},
   "outputs": [
    {
     "name": "stdout",
     "output_type": "stream",
     "text": [
      "unsupported operand type(s) for /: 'int' and 'str'\n",
      "We did it.\n"
     ]
    }
   ],
   "source": [
    "try:\n",
    "    num = 25\n",
    "    div = ';'\n",
    "    res = num/div\n",
    "    print(res)\n",
    "\n",
    "except ValueError as e:\n",
    "    print(e)\n",
    "\n",
    "except ZeroDivisionError as e:\n",
    "    print(e)\n",
    "\n",
    "except SyntaxError as e:\n",
    "    print(e)\n",
    "\n",
    "except KeyError as e:\n",
    "    print(e)\n",
    "    \n",
    "except Exception as e:\n",
    "    print(e)\n",
    "    \n",
    "finally:\n",
    "    print(\"We did it.\")"
   ]
  },
  {
   "cell_type": "markdown",
   "metadata": {},
   "source": [
    "### else"
   ]
  },
  {
   "cell_type": "code",
   "execution_count": 52,
   "metadata": {},
   "outputs": [
    {
     "name": "stdout",
     "output_type": "stream",
     "text": [
      "12.5\n",
      "We did it.\n"
     ]
    }
   ],
   "source": [
    "try:\n",
    "    num = 25\n",
    "    div = 2\n",
    "    res = num/div\n",
    "    print(res)\n",
    "\n",
    "except ValueError as e:\n",
    "    print(e)\n",
    "\n",
    "except ZeroDivisionError as e:\n",
    "    print(e)\n",
    "\n",
    "except SyntaxError as e:\n",
    "    print(e)\n",
    "\n",
    "except KeyError as e:\n",
    "    print(e)\n",
    "    \n",
    "except Exception as e:\n",
    "    print(e)\n",
    "    \n",
    "else:\n",
    "    print(\"We did it.\")"
   ]
  },
  {
   "cell_type": "markdown",
   "metadata": {},
   "source": [
    "# Custome Exception Handling"
   ]
  },
  {
   "cell_type": "markdown",
   "metadata": {},
   "source": [
    "### raise"
   ]
  },
  {
   "cell_type": "code",
   "execution_count": 54,
   "metadata": {},
   "outputs": [
    {
     "ename": "Exception",
     "evalue": "age<20",
     "output_type": "error",
     "traceback": [
      "\u001b[1;31m---------------------------------------------------------------------------\u001b[0m",
      "\u001b[1;31mException\u001b[0m                                 Traceback (most recent call last)",
      "Cell \u001b[1;32mIn [54], line 3\u001b[0m\n\u001b[0;32m      1\u001b[0m age \u001b[38;5;241m=\u001b[39m \u001b[38;5;241m18\u001b[39m\n\u001b[0;32m      2\u001b[0m \u001b[38;5;28;01mif\u001b[39;00m age\u001b[38;5;241m<\u001b[39m\u001b[38;5;241m20\u001b[39m:\n\u001b[1;32m----> 3\u001b[0m     \u001b[38;5;28;01mraise\u001b[39;00m \u001b[38;5;167;01mException\u001b[39;00m(\u001b[38;5;124m'\u001b[39m\u001b[38;5;124mage<20\u001b[39m\u001b[38;5;124m'\u001b[39m)\n\u001b[0;32m      4\u001b[0m \u001b[38;5;28mprint\u001b[39m(age)\n",
      "\u001b[1;31mException\u001b[0m: age<20"
     ]
    }
   ],
   "source": [
    "age = 18\n",
    "if age<20:\n",
    "    raise Exception('age<20')\n",
    "print(age)"
   ]
  },
  {
   "cell_type": "markdown",
   "metadata": {},
   "source": [
    "### Custome"
   ]
  },
  {
   "cell_type": "code",
   "execution_count": 55,
   "metadata": {},
   "outputs": [],
   "source": [
    "class EligiblityError(Exception):\n",
    "    pass"
   ]
  },
  {
   "cell_type": "code",
   "execution_count": 58,
   "metadata": {},
   "outputs": [
    {
     "ename": "EligiblityError",
     "evalue": "age<20",
     "output_type": "error",
     "traceback": [
      "\u001b[1;31m---------------------------------------------------------------------------\u001b[0m",
      "\u001b[1;31mEligiblityError\u001b[0m                           Traceback (most recent call last)",
      "Cell \u001b[1;32mIn [58], line 3\u001b[0m\n\u001b[0;32m      1\u001b[0m age \u001b[38;5;241m=\u001b[39m \u001b[38;5;241m18\u001b[39m\n\u001b[0;32m      2\u001b[0m \u001b[38;5;28;01mif\u001b[39;00m age\u001b[38;5;241m<\u001b[39m\u001b[38;5;241m20\u001b[39m:\n\u001b[1;32m----> 3\u001b[0m     \u001b[38;5;28;01mraise\u001b[39;00m EligiblityError(\u001b[38;5;124m'\u001b[39m\u001b[38;5;124mage<20\u001b[39m\u001b[38;5;124m'\u001b[39m)\n\u001b[0;32m      4\u001b[0m \u001b[38;5;28mprint\u001b[39m(age)\n",
      "\u001b[1;31mEligiblityError\u001b[0m: age<20"
     ]
    }
   ],
   "source": [
    "age = 18\n",
    "if age<20:\n",
    "    raise EligiblityError('age<20')\n",
    "print(age)"
   ]
  },
  {
   "cell_type": "code",
   "execution_count": 60,
   "metadata": {},
   "outputs": [
    {
     "name": "stdout",
     "output_type": "stream",
     "text": [
      "age<20\n",
      "18\n"
     ]
    }
   ],
   "source": [
    "try:\n",
    "    age = 18\n",
    "    if age<20:\n",
    "      raise EligiblityError('age<20')\n",
    "except EligiblityError as e:\n",
    "    print(e)\n",
    "print(age)"
   ]
  },
  {
   "cell_type": "code",
   "execution_count": 61,
   "metadata": {},
   "outputs": [],
   "source": [
    "class MaxNumberException(Exception):\n",
    "    pass\n",
    "class MinNumberException(Exception):\n",
    "    pass"
   ]
  },
  {
   "cell_type": "code",
   "execution_count": 62,
   "metadata": {},
   "outputs": [],
   "source": [
    "def function(num):\n",
    "    try:\n",
    "        if num > 50:\n",
    "            raise MaxNumberException\n",
    "        if num < 10:\n",
    "            raise MinNumberException\n",
    "            \n",
    "        return (100/num)\n",
    "    \n",
    "    except MaxNumberException as e:\n",
    "        print(\"Max Number Exceeded\")\n",
    "        \n",
    "    except MinNumberException as e:\n",
    "        print(\"Min Number Exceeded\")\n",
    "        \n",
    "    except Exception as e:\n",
    "        print(e)"
   ]
  },
  {
   "cell_type": "code",
   "execution_count": 63,
   "metadata": {},
   "outputs": [
    {
     "data": {
      "text/plain": [
       "4.0"
      ]
     },
     "execution_count": 63,
     "metadata": {},
     "output_type": "execute_result"
    }
   ],
   "source": [
    "function(25)"
   ]
  },
  {
   "cell_type": "code",
   "execution_count": 64,
   "metadata": {},
   "outputs": [
    {
     "name": "stdout",
     "output_type": "stream",
     "text": [
      "Min Number Exceeded\n"
     ]
    }
   ],
   "source": [
    "function(5)"
   ]
  },
  {
   "cell_type": "code",
   "execution_count": 65,
   "metadata": {},
   "outputs": [
    {
     "name": "stdout",
     "output_type": "stream",
     "text": [
      "Max Number Exceeded\n"
     ]
    }
   ],
   "source": [
    "function(100)"
   ]
  },
  {
   "cell_type": "markdown",
   "metadata": {},
   "source": [
    "# Assertion"
   ]
  },
  {
   "cell_type": "code",
   "execution_count": 66,
   "metadata": {},
   "outputs": [
    {
     "ename": "AssertionError",
     "evalue": "age<20",
     "output_type": "error",
     "traceback": [
      "\u001b[1;31m---------------------------------------------------------------------------\u001b[0m",
      "\u001b[1;31mAssertionError\u001b[0m                            Traceback (most recent call last)",
      "Cell \u001b[1;32mIn [66], line 2\u001b[0m\n\u001b[0;32m      1\u001b[0m age \u001b[38;5;241m=\u001b[39m \u001b[38;5;241m15\u001b[39m\n\u001b[1;32m----> 2\u001b[0m \u001b[38;5;28;01massert\u001b[39;00m age\u001b[38;5;241m>\u001b[39m\u001b[38;5;241m20\u001b[39m,\u001b[38;5;124m'\u001b[39m\u001b[38;5;124mage<20\u001b[39m\u001b[38;5;124m'\u001b[39m\n\u001b[0;32m      3\u001b[0m \u001b[38;5;28mprint\u001b[39m(age)\n",
      "\u001b[1;31mAssertionError\u001b[0m: age<20"
     ]
    }
   ],
   "source": [
    "age = 15\n",
    "assert age>20,'age<20'\n",
    "print(age)"
   ]
  }
 ],
 "metadata": {
  "kernelspec": {
   "display_name": "Python 3.8.8 ('base')",
   "language": "python",
   "name": "python3"
  },
  "language_info": {
   "codemirror_mode": {
    "name": "ipython",
    "version": 3
   },
   "file_extension": ".py",
   "mimetype": "text/x-python",
   "name": "python",
   "nbconvert_exporter": "python",
   "pygments_lexer": "ipython3",
   "version": "3.8.8"
  },
  "orig_nbformat": 4,
  "vscode": {
   "interpreter": {
    "hash": "f08154012ddadd8e950e6e9e035c7a7b32c136e7647e9b7c77e02eb723a8bedb"
   }
  }
 },
 "nbformat": 4,
 "nbformat_minor": 2
}
