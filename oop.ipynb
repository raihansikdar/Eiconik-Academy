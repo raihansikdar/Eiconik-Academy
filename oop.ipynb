{
 "cells": [
  {
   "cell_type": "code",
   "execution_count": 7,
   "metadata": {},
   "outputs": [
    {
     "name": "stdout",
     "output_type": "stream",
     "text": [
      "id:101 cgpa:3.75\n"
     ]
    }
   ],
   "source": [
    "class student:\n",
    "    id = \"\"\n",
    "    cgpa = \"\"\n",
    "\n",
    "raihan = student()\n",
    "raihan.id = 101\n",
    "raihan.cgpa = 3.75\n",
    "print(\"id:{} cgpa:{}\".format(raihan.id,raihan.cgpa))"
   ]
  },
  {
   "cell_type": "code",
   "execution_count": 8,
   "metadata": {},
   "outputs": [
    {
     "name": "stdout",
     "output_type": "stream",
     "text": [
      "id:101 cgpa:3.75\n"
     ]
    }
   ],
   "source": [
    "class student:\n",
    "    id = \"\"\n",
    "    cgpa = \"\"\n",
    "    def display(self):\n",
    "        print(\"id:{} cgpa:{}\".format(raihan.id,raihan.cgpa)) \n",
    "raihan = student()\n",
    "raihan.id = 101\n",
    "raihan.cgpa = 3.75\n",
    "raihan.display\n"
   ]
  },
  {
   "cell_type": "code",
   "execution_count": 3,
   "metadata": {},
   "outputs": [
    {
     "name": "stdout",
     "output_type": "stream",
     "text": [
      "id:101 cgpa:3.85\n"
     ]
    }
   ],
   "source": [
    "class student:\n",
    "    id = \"\"\n",
    "    cgpa = \"\"\n",
    "    def __init__(self,id,cgpa) -> None:\n",
    "        self.id = id\n",
    "        self.cgpa = cgpa\n",
    "\n",
    "    def display(self):\n",
    "        print(\"id:{} cgpa:{}\".format(raihan.id,raihan.cgpa)) \n",
    "\n",
    "raihan = student(101,3.85)\n",
    "raihan.display()"
   ]
  },
  {
   "cell_type": "code",
   "execution_count": 10,
   "metadata": {},
   "outputs": [
    {
     "name": "stdout",
     "output_type": "stream",
     "text": [
      "id:101  cgpa:3.85\n"
     ]
    }
   ],
   "source": [
    "class student:\n",
    "    id = \"\"\n",
    "    cgpa = \"\"\n",
    "    def __init__(self,id,cgpa) -> None:\n",
    "        self.id = id\n",
    "        self.cgpa = cgpa\n",
    "\n",
    "    def __repr__(self) ->str:\n",
    "        return \"id:{}  cgpa:{}\".format(self.id,self.cgpa)\n",
    "           \n",
    "\n",
    "raihan = student(101,3.85)\n",
    "print(raihan)"
   ]
  },
  {
   "cell_type": "code",
   "execution_count": 37,
   "metadata": {},
   "outputs": [],
   "source": [
    "class Product:\n",
    "    platform = \"Amazon\"\n",
    "\n",
    "    def __init__(self,id:int,title:str,price:float) -> None:\n",
    "        self.id = id\n",
    "        self.title = title\n",
    "        self.price = price\n",
    "\n",
    "    def getInfo(self)-> str:\n",
    "        return (self.id,self.title,self.price)\n",
    "        \n",
    "    def getdiscount(self) ->str:\n",
    "        return self.price - (self.price*(15/100))\n",
    "\n",
    "    def __str__(self) -> str:\n",
    "        return f'Product(id = {self.id},title = {self.title},price = {self.price})'"
   ]
  },
  {
   "cell_type": "code",
   "execution_count": 38,
   "metadata": {},
   "outputs": [
    {
     "name": "stdout",
     "output_type": "stream",
     "text": [
      "Product(id = 101,title = Iphone,price = 120000.0)\n"
     ]
    }
   ],
   "source": [
    "p1 = Product(101,\"Iphone\",120000.000)\n",
    "print(p1)"
   ]
  },
  {
   "cell_type": "code",
   "execution_count": 39,
   "metadata": {},
   "outputs": [
    {
     "name": "stdout",
     "output_type": "stream",
     "text": [
      "Product(id = 102,title = Iphone x,price = 150000.0)\n"
     ]
    }
   ],
   "source": [
    "p2 = Product(102,\"Iphone x\",150000.000)\n",
    "print(p2)"
   ]
  },
  {
   "cell_type": "code",
   "execution_count": 30,
   "metadata": {},
   "outputs": [
    {
     "name": "stdout",
     "output_type": "stream",
     "text": [
      "Amazon\n",
      "Amazon\n"
     ]
    }
   ],
   "source": [
    "print(p1.platform)\n",
    "print(p2.platform)"
   ]
  },
  {
   "cell_type": "code",
   "execution_count": 31,
   "metadata": {},
   "outputs": [
    {
     "data": {
      "text/plain": [
       "(101, 'Iphone', 120000.0)"
      ]
     },
     "execution_count": 31,
     "metadata": {},
     "output_type": "execute_result"
    }
   ],
   "source": [
    "p1.getInfo()"
   ]
  },
  {
   "cell_type": "code",
   "execution_count": 32,
   "metadata": {},
   "outputs": [
    {
     "data": {
      "text/plain": [
       "(102, 'Iphone x', 150000.0)"
      ]
     },
     "execution_count": 32,
     "metadata": {},
     "output_type": "execute_result"
    }
   ],
   "source": [
    "p2.getInfo()"
   ]
  },
  {
   "cell_type": "code",
   "execution_count": 40,
   "metadata": {},
   "outputs": [
    {
     "data": {
      "text/plain": [
       "102000.0"
      ]
     },
     "execution_count": 40,
     "metadata": {},
     "output_type": "execute_result"
    }
   ],
   "source": [
    "p1.getdiscount()"
   ]
  },
  {
   "cell_type": "code",
   "execution_count": 41,
   "metadata": {},
   "outputs": [
    {
     "data": {
      "text/plain": [
       "127500.0"
      ]
     },
     "execution_count": 41,
     "metadata": {},
     "output_type": "execute_result"
    }
   ],
   "source": [
    "p2.getdiscount()"
   ]
  },
  {
   "cell_type": "code",
   "execution_count": 42,
   "metadata": {},
   "outputs": [],
   "source": [
    "class Product:\n",
    "    platform = \"Amazon\"\n",
    "\n",
    "    def __init__(self,id:int,title:str,price:float) -> None:\n",
    "        self.id = id\n",
    "        self.title = title\n",
    "        self.price = price\n",
    "\n",
    "    def __repr__(self) -> str:\n",
    "        return f'Product(id = {self.id},title = {self.title},price = {self.price})'"
   ]
  },
  {
   "cell_type": "code",
   "execution_count": 46,
   "metadata": {},
   "outputs": [],
   "source": [
    "class Cloth(Product):\n",
    "    def __init__(self, id: int, title: str, price: float,size:str) -> None:\n",
    "        self.size = size\n",
    "        super().__init__(id, title, price)\n",
    "    def __repr__(self) -> str:\n",
    "        return f'Product(id={self.id},title={self.title},price={self.price},size={self.size}'"
   ]
  },
  {
   "cell_type": "code",
   "execution_count": 47,
   "metadata": {},
   "outputs": [
    {
     "name": "stdout",
     "output_type": "stream",
     "text": [
      "Product(id=101,title=T-shirt,price=25000,size=XXL\n"
     ]
    }
   ],
   "source": [
    "p1 = Cloth(101,'T-shirt',25000,'XXL')\n",
    "print(p1)"
   ]
  },
  {
   "cell_type": "code",
   "execution_count": 48,
   "metadata": {},
   "outputs": [
    {
     "data": {
      "text/plain": [
       "(__main__.Cloth, __main__.Product, object)"
      ]
     },
     "execution_count": 48,
     "metadata": {},
     "output_type": "execute_result"
    }
   ],
   "source": [
    "Cloth.__mro__"
   ]
  },
  {
   "cell_type": "code",
   "execution_count": 59,
   "metadata": {},
   "outputs": [],
   "source": [
    "class Product:\n",
    "    platform = \"Amazon\"\n",
    "\n",
    "    def __init__(self,id:int,title:str,price:float) -> None:\n",
    "        self.id = id\n",
    "        self.title = title\n",
    "        self.price = price\n",
    "\n",
    "\n",
    "class Cloth(Product):\n",
    "    def __init__(self, id: int, title: str, price: float,size:str) -> None:\n",
    "        self.size = size\n",
    "        super().__init__(id, title, price)\n",
    "    \n",
    "\n",
    "class Topware(Cloth):\n",
    "\n",
    "    def __init__(self, id: int, title: str, price: float, size: str,febric:str) -> None:\n",
    "        self.febric = febric\n",
    "        super().__init__(id, title, price, size)\n",
    "\n",
    "    def __repr__(self) -> str:\n",
    "        return f\"Product(id:{self.id}, title:{self.title}, price:{self.price}, size:{self.size}, febric:{self.febric})\""
   ]
  },
  {
   "cell_type": "code",
   "execution_count": 60,
   "metadata": {},
   "outputs": [
    {
     "name": "stdout",
     "output_type": "stream",
     "text": [
      "Product(id:101, title:T-shirt, price:25000, size:XXL, febric:Cotton)\n"
     ]
    }
   ],
   "source": [
    "p1 = Topware(101,'T-shirt',25000,'XXL','Cotton')\n",
    "print(p1)"
   ]
  },
  {
   "cell_type": "code",
   "execution_count": 58,
   "metadata": {},
   "outputs": [
    {
     "data": {
      "text/plain": [
       "(__main__.Topware, __main__.Cloth, __main__.Product, object)"
      ]
     },
     "execution_count": 58,
     "metadata": {},
     "output_type": "execute_result"
    }
   ],
   "source": [
    "Topware.__mro__"
   ]
  },
  {
   "cell_type": "code",
   "execution_count": 65,
   "metadata": {},
   "outputs": [],
   "source": [
    "class Product:\n",
    "    platform = \"Amazon\"\n",
    "\n",
    "    def __init__(self,id:int,title:str,price:float) -> None:\n",
    "        self.id = id\n",
    "        self.title = title\n",
    "        self.price = price\n",
    "\n",
    "class Seller:\n",
    "    def __init__(self,s_id:int,s_name:str) -> None:\n",
    "        self.s_id = s_id\n",
    "        self.s_name = s_name\n",
    "\n",
    "class Cloth(Product,Seller):\n",
    "    def __init__(self, id: int, title: str, price: float,size:str,s_id:int,s_name:str) -> None:\n",
    "        self.size = size\n",
    "        Product.__init__(self,id, title, price)\n",
    "        Seller.__init__(self,s_id,s_name)\n",
    "\n",
    "    def __repr__(self) -> str:\n",
    "        return f\"Product(id:{self.id}, title:{self.title}, price:{self.price}, size:{self.size}, s_id:{self.s_id}, s_name:{self.s_name})\"\n",
    "    "
   ]
  },
  {
   "cell_type": "code",
   "execution_count": 66,
   "metadata": {},
   "outputs": [
    {
     "data": {
      "text/plain": [
       "Product(id:101, title:T-shirt, price:1200.0, size:XXXL, s_id:8001, s_name:Md Sakil)"
      ]
     },
     "execution_count": 66,
     "metadata": {},
     "output_type": "execute_result"
    }
   ],
   "source": [
    "p1 = Cloth(101,'T-shirt',1200.00,'XXXL',8001,'Md Sakil')\n",
    "p1"
   ]
  },
  {
   "cell_type": "code",
   "execution_count": 6,
   "metadata": {},
   "outputs": [
    {
     "name": "stdout",
     "output_type": "stream",
     "text": [
      "4\n",
      "3\n",
      "2\n"
     ]
    },
    {
     "data": {
      "text/plain": [
       "1"
      ]
     },
     "execution_count": 6,
     "metadata": {},
     "output_type": "execute_result"
    }
   ],
   "source": [
    "def myfunction(n):\n",
    "    if n in [0,1]:\n",
    "        return n\n",
    "    else:\n",
    "        print(n)\n",
    "        return myfunction(n-1) \n",
    "\n",
    "myfunction(4)"
   ]
  },
  {
   "cell_type": "code",
   "execution_count": 7,
   "metadata": {},
   "outputs": [
    {
     "name": "stdout",
     "output_type": "stream",
     "text": [
      "4\n",
      "3\n",
      "2\n",
      "2\n"
     ]
    },
    {
     "data": {
      "text/plain": [
       "3"
      ]
     },
     "execution_count": 7,
     "metadata": {},
     "output_type": "execute_result"
    }
   ],
   "source": [
    "def myfunction(n):\n",
    "    if n in [0,1]:\n",
    "        return n\n",
    "    else:\n",
    "        print(n)\n",
    "        return myfunction(n-1) + myfunction(n-2)\n",
    "\n",
    "myfunction(4)"
   ]
  }
 ],
 "metadata": {
  "kernelspec": {
   "display_name": "Python 3.8.8 ('venv': venv)",
   "language": "python",
   "name": "python3"
  },
  "language_info": {
   "codemirror_mode": {
    "name": "ipython",
    "version": 3
   },
   "file_extension": ".py",
   "mimetype": "text/x-python",
   "name": "python",
   "nbconvert_exporter": "python",
   "pygments_lexer": "ipython3",
   "version": "3.8.8"
  },
  "orig_nbformat": 4,
  "vscode": {
   "interpreter": {
    "hash": "074dd5a28b733fc07054be1f50ede07d0f80aca42e946f1b5846a44de5842f53"
   }
  }
 },
 "nbformat": 4,
 "nbformat_minor": 2
}
