{
 "cells": [
  {
   "cell_type": "markdown",
   "metadata": {},
   "source": [
    "## Inheritance"
   ]
  },
  {
   "cell_type": "code",
   "execution_count": 1,
   "metadata": {},
   "outputs": [],
   "source": [
    "# Create Class\n",
    "class Product:\n",
    "    \n",
    "    # Global Attribute\n",
    "    platform = 'AMAZON'\n",
    "\n",
    "    # Constructor\n",
    "    def __init__(self,id: int, title: str, price: float) -> None:\n",
    "        self.id = id\n",
    "        self.title = title\n",
    "        self.price = price\n",
    "    \n",
    "    def __repr__(self) -> str:\n",
    "        return f'Product(id = {self.id},title = {self.title},price = {self.price})'"
   ]
  },
  {
   "cell_type": "code",
   "execution_count": 2,
   "metadata": {},
   "outputs": [],
   "source": [
    "# single inheritance and plymorphism compile and runtime (support)\n",
    "class Cloth(Product):\n",
    "    \n",
    "    def __init__(self, id: int, title: str, price: float,size: str) -> None:\n",
    "        self.size = size\n",
    "        super().__init__(id, title, price)\n",
    "\n",
    "    # overriding of it's parents __repr__() method\n",
    "    def __repr__(self) -> str:\n",
    "        return f'Product(id = {self.id},title = {self.title},price = {self.price},size = {self.size})'"
   ]
  },
  {
   "cell_type": "code",
   "execution_count": 3,
   "metadata": {},
   "outputs": [
    {
     "name": "stdout",
     "output_type": "stream",
     "text": [
      "Product(id = 101,title = T-shirt,price = 25000,size = XXXL)\n"
     ]
    }
   ],
   "source": [
    "p1 = Cloth(101,'T-shirt',25000,'XXXL')\n",
    "print(p1)"
   ]
  },
  {
   "cell_type": "code",
   "execution_count": 4,
   "metadata": {},
   "outputs": [
    {
     "data": {
      "text/plain": [
       "(__main__.Cloth, __main__.Product, object)"
      ]
     },
     "execution_count": 4,
     "metadata": {},
     "output_type": "execute_result"
    }
   ],
   "source": [
    "Cloth.__mro__ # Method Resolution Order"
   ]
  },
  {
   "cell_type": "markdown",
   "metadata": {},
   "source": [
    "## Multiple Level Inheritance"
   ]
  },
  {
   "cell_type": "code",
   "execution_count": 5,
   "metadata": {},
   "outputs": [],
   "source": [
    "class Product:\n",
    "\n",
    "    def __init__(self,id: int, title: str,price: float) -> None:\n",
    "        self.id = id\n",
    "        self.title = title\n",
    "        self.price = price\n",
    "    \n",
    "    def __repr__(self) -> str:\n",
    "        return f\"Product(id:{self.id},title:{self.title},price:{self.price})\"\n",
    "\n",
    "        \n",
    "\n",
    "class Cloth(Product):\n",
    "\n",
    "    def __init__(self, id: int, title: str, price: float,size: str) -> None:\n",
    "        self.size = size\n",
    "        super().__init__(id, title, price)\n",
    "    \n",
    "    # overriding of it's parents __repr__() method\n",
    "    def __repr__(self) -> str:\n",
    "        return f\"Product(id:{self.id},title:{self.title},price:{self.price},size:{self.size})\"\n",
    "\n",
    "\n",
    "\n",
    "class Topwear(Cloth):\n",
    "\n",
    "    def __init__(self, id: int, title: str, price: float, size: str, febric:str) -> None:\n",
    "        self.febric = febric\n",
    "        super().__init__(id, title, price, size)\n",
    "    \n",
    "     # overriding of it's parents __repr__() method\n",
    "    def __repr__(self) -> str:\n",
    "        return f\"Product(id:{self.id}, title:{self.title}, price:{self.price}, size:{self.size}, febric:{self.febric})\""
   ]
  },
  {
   "cell_type": "code",
   "execution_count": 6,
   "metadata": {},
   "outputs": [
    {
     "data": {
      "text/plain": [
       "Product(id:101, title:T-shirt, price:1200, size:XXXL, febric:Cotton)"
      ]
     },
     "execution_count": 6,
     "metadata": {},
     "output_type": "execute_result"
    }
   ],
   "source": [
    "p1 = Topwear(101,'T-shirt',1200,'XXXL','Cotton')\n",
    "p1"
   ]
  },
  {
   "cell_type": "code",
   "execution_count": 7,
   "metadata": {},
   "outputs": [
    {
     "data": {
      "text/plain": [
       "(__main__.Topwear, __main__.Cloth, __main__.Product, object)"
      ]
     },
     "execution_count": 7,
     "metadata": {},
     "output_type": "execute_result"
    }
   ],
   "source": [
    "Topwear.__mro__ "
   ]
  },
  {
   "cell_type": "markdown",
   "metadata": {},
   "source": [
    "## Multiple Inheritance"
   ]
  },
  {
   "cell_type": "code",
   "execution_count": 8,
   "metadata": {},
   "outputs": [],
   "source": [
    "class Product:\n",
    "\n",
    "    Platform = \"Amazon\"\n",
    "\n",
    "    def __init__(self,id: int, title: str,price: float) -> None:\n",
    "        self.id = id\n",
    "        self.title = title\n",
    "        self.price = price\n",
    "    \n",
    "    def __repr__(self) -> str:\n",
    "        return f\"Product(id:{self.id},title:{self.title},price:{self.price})\"\n",
    "\n",
    "class Seller:\n",
    "\n",
    "    def __init__(self,s_id,s_name) -> None:\n",
    "        self.s_id = s_id\n",
    "        self.s_name = s_name\n",
    "\n",
    "\n",
    "class Cloth(Product,Seller):\n",
    "    def __init__(self, id: int, title: str, price: float,size:str,s_id: int,s_name:str) -> None:\n",
    "\n",
    "        self.size = size\n",
    "        Product.__init__(self,id, title, price)\n",
    "        Seller.__init__(self,s_id,s_name)\n",
    "\n",
    "    def get_Product_Info(self):                        # return only Product class info\n",
    "        return Product.__repr__(self),Product.Platform\n",
    "\n",
    "    \n",
    "\n",
    "    def __repr__(self) -> str:\n",
    "        return f\"Product(id:{self.id}, title:{self.title}, price:{self.price}, size:{self.size}, s_id:{self.s_id}, s_name:{self.s_name})\"\n",
    "\n"
   ]
  },
  {
   "cell_type": "code",
   "execution_count": 9,
   "metadata": {},
   "outputs": [
    {
     "data": {
      "text/plain": [
       "Product(id:101, title:T-shirt, price:1200.0, size:XXXL, s_id:8001, s_name:Md Sakil)"
      ]
     },
     "execution_count": 9,
     "metadata": {},
     "output_type": "execute_result"
    }
   ],
   "source": [
    "p1 = Cloth(101,'T-shirt',1200.00,'XXXL',8001,'Md Sakil')\n",
    "p1"
   ]
  },
  {
   "cell_type": "code",
   "execution_count": 10,
   "metadata": {},
   "outputs": [
    {
     "data": {
      "text/plain": [
       "('Product(id:101,title:T-shirt,price:1200.0)', 'Amazon')"
      ]
     },
     "execution_count": 10,
     "metadata": {},
     "output_type": "execute_result"
    }
   ],
   "source": [
    "p1.get_Product_Info()"
   ]
  },
  {
   "cell_type": "code",
   "execution_count": 11,
   "metadata": {},
   "outputs": [
    {
     "data": {
      "text/plain": [
       "(__main__.Cloth, __main__.Product, __main__.Seller, object)"
      ]
     },
     "execution_count": 11,
     "metadata": {},
     "output_type": "execute_result"
    }
   ],
   "source": [
    "Cloth.__mro__"
   ]
  },
  {
   "cell_type": "markdown",
   "metadata": {},
   "source": [
    "## Stoping Inheritance"
   ]
  },
  {
   "cell_type": "code",
   "execution_count": 12,
   "metadata": {},
   "outputs": [],
   "source": [
    "class Meta(type):\n",
    "    def __new__(cls,name,bases,classdict):\n",
    "        # for base in bases:\n",
    "        #     if isinstance(base,Meta):\n",
    "        #         raise TypeError(f'Can not Inherit class{base.__name__}')\n",
    "             return type.__new__(cls,name,bases,classdict) \n"
   ]
  },
  {
   "cell_type": "code",
   "execution_count": 13,
   "metadata": {},
   "outputs": [],
   "source": [
    "class Product:\n",
    "\n",
    "    Platform = \"Amazon\"\n",
    "\n",
    "    def __init__(self,id: int, title: str,price: float) -> None:\n",
    "        self.id = id\n",
    "        self.title = title\n",
    "        self.price = price\n",
    "    \n",
    "    def __init_subclass__(cls, **kwargs) -> None:\n",
    "        if cls is not Meta:\n",
    "            raise TypeError(f'cannot Inherit class  ***{cls.__name__}')\n",
    "        super().__init__subclass__(cls, **kwargs)\n",
    "    \n",
    "    def __repr__(self) -> str:\n",
    "        return f\"Product(id:{self.id},title:{self.title},price:{self.price})\""
   ]
  },
  {
   "cell_type": "code",
   "execution_count": 14,
   "metadata": {},
   "outputs": [
    {
     "ename": "TypeError",
     "evalue": "cannot Inherit class  ***Cloth",
     "output_type": "error",
     "traceback": [
      "\u001b[1;31m---------------------------------------------------------------------------\u001b[0m",
      "\u001b[1;31mTypeError\u001b[0m                                 Traceback (most recent call last)",
      "\u001b[1;32m<ipython-input-14-02c8e95cf73e>\u001b[0m in \u001b[0;36m<module>\u001b[1;34m\u001b[0m\n\u001b[1;32m----> 1\u001b[1;33m \u001b[1;32mclass\u001b[0m \u001b[0mCloth\u001b[0m\u001b[1;33m(\u001b[0m\u001b[0mProduct\u001b[0m\u001b[1;33m)\u001b[0m\u001b[1;33m:\u001b[0m\u001b[1;33m\u001b[0m\u001b[1;33m\u001b[0m\u001b[0m\n\u001b[0m\u001b[0;32m      2\u001b[0m     \u001b[1;32mdef\u001b[0m \u001b[0m__init__\u001b[0m\u001b[1;33m(\u001b[0m\u001b[0mself\u001b[0m\u001b[1;33m,\u001b[0m \u001b[0mid\u001b[0m\u001b[1;33m:\u001b[0m \u001b[0mint\u001b[0m\u001b[1;33m,\u001b[0m \u001b[0mtitle\u001b[0m\u001b[1;33m:\u001b[0m \u001b[0mstr\u001b[0m\u001b[1;33m,\u001b[0m \u001b[0mprice\u001b[0m\u001b[1;33m:\u001b[0m \u001b[0mfloat\u001b[0m\u001b[1;33m,\u001b[0m\u001b[0msize\u001b[0m\u001b[1;33m:\u001b[0m\u001b[0mstr\u001b[0m\u001b[1;33m)\u001b[0m \u001b[1;33m->\u001b[0m \u001b[1;32mNone\u001b[0m\u001b[1;33m:\u001b[0m\u001b[1;33m\u001b[0m\u001b[1;33m\u001b[0m\u001b[0m\n\u001b[0;32m      3\u001b[0m \u001b[1;33m\u001b[0m\u001b[0m\n\u001b[0;32m      4\u001b[0m         \u001b[0mself\u001b[0m\u001b[1;33m.\u001b[0m\u001b[0msize\u001b[0m \u001b[1;33m=\u001b[0m \u001b[0msize\u001b[0m\u001b[1;33m\u001b[0m\u001b[1;33m\u001b[0m\u001b[0m\n\u001b[0;32m      5\u001b[0m         \u001b[0msuper\u001b[0m\u001b[1;33m(\u001b[0m\u001b[1;33m)\u001b[0m\u001b[1;33m.\u001b[0m\u001b[0m__init__\u001b[0m\u001b[1;33m(\u001b[0m\u001b[0mself\u001b[0m\u001b[1;33m,\u001b[0m\u001b[0mid\u001b[0m\u001b[1;33m,\u001b[0m \u001b[0mtitle\u001b[0m\u001b[1;33m,\u001b[0m \u001b[0mprice\u001b[0m\u001b[1;33m)\u001b[0m\u001b[1;33m\u001b[0m\u001b[1;33m\u001b[0m\u001b[0m\n",
      "\u001b[1;32m<ipython-input-13-ffec46dfa12e>\u001b[0m in \u001b[0;36m__init_subclass__\u001b[1;34m(cls, **kwargs)\u001b[0m\n\u001b[0;32m     10\u001b[0m     \u001b[1;32mdef\u001b[0m \u001b[0m__init_subclass__\u001b[0m\u001b[1;33m(\u001b[0m\u001b[0mcls\u001b[0m\u001b[1;33m,\u001b[0m \u001b[1;33m**\u001b[0m\u001b[0mkwargs\u001b[0m\u001b[1;33m)\u001b[0m \u001b[1;33m->\u001b[0m \u001b[1;32mNone\u001b[0m\u001b[1;33m:\u001b[0m\u001b[1;33m\u001b[0m\u001b[1;33m\u001b[0m\u001b[0m\n\u001b[0;32m     11\u001b[0m         \u001b[1;32mif\u001b[0m \u001b[0mcls\u001b[0m \u001b[1;32mis\u001b[0m \u001b[1;32mnot\u001b[0m \u001b[0mMeta\u001b[0m\u001b[1;33m:\u001b[0m\u001b[1;33m\u001b[0m\u001b[1;33m\u001b[0m\u001b[0m\n\u001b[1;32m---> 12\u001b[1;33m             \u001b[1;32mraise\u001b[0m \u001b[0mTypeError\u001b[0m\u001b[1;33m(\u001b[0m\u001b[1;34mf'cannot Inherit class  ***{cls.__name__}'\u001b[0m\u001b[1;33m)\u001b[0m\u001b[1;33m\u001b[0m\u001b[1;33m\u001b[0m\u001b[0m\n\u001b[0m\u001b[0;32m     13\u001b[0m         \u001b[0msuper\u001b[0m\u001b[1;33m(\u001b[0m\u001b[1;33m)\u001b[0m\u001b[1;33m.\u001b[0m\u001b[0m__init__subclass__\u001b[0m\u001b[1;33m(\u001b[0m\u001b[0mcls\u001b[0m\u001b[1;33m,\u001b[0m \u001b[1;33m**\u001b[0m\u001b[0mkwargs\u001b[0m\u001b[1;33m)\u001b[0m\u001b[1;33m\u001b[0m\u001b[1;33m\u001b[0m\u001b[0m\n\u001b[0;32m     14\u001b[0m \u001b[1;33m\u001b[0m\u001b[0m\n",
      "\u001b[1;31mTypeError\u001b[0m: cannot Inherit class  ***Cloth"
     ]
    }
   ],
   "source": [
    "class Cloth(Product):\n",
    "    def __init__(self, id: int, title: str, price: float,size:str) -> None:\n",
    "\n",
    "        self.size = size\n",
    "        super().__init__(self,id, title, price)\n",
    "\n",
    "    def __repr__(self) -> str:\n",
    "        return f\"Product(id:{self.id}, title:{self.title}, price:{self.price}, size:{self.size})\"\n",
    "\n"
   ]
  }
 ],
 "metadata": {
  "kernelspec": {
   "display_name": "Python 3.8.8 ('base')",
   "language": "python",
   "name": "python3"
  },
  "language_info": {
   "codemirror_mode": {
    "name": "ipython",
    "version": 3
   },
   "file_extension": ".py",
   "mimetype": "text/x-python",
   "name": "python",
   "nbconvert_exporter": "python",
   "pygments_lexer": "ipython3",
   "version": "3.8.8"
  },
  "orig_nbformat": 4,
  "vscode": {
   "interpreter": {
    "hash": "f08154012ddadd8e950e6e9e035c7a7b32c136e7647e9b7c77e02eb723a8bedb"
   }
  }
 },
 "nbformat": 4,
 "nbformat_minor": 2
}
