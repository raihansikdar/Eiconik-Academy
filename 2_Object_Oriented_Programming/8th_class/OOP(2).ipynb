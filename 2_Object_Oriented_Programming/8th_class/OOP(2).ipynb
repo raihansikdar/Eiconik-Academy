{
 "cells": [
  {
   "cell_type": "markdown",
   "metadata": {},
   "source": [
    "## Class Method"
   ]
  },
  {
   "cell_type": "code",
   "execution_count": 1,
   "metadata": {},
   "outputs": [],
   "source": [
    "# Create Class\n",
    "class Product:\n",
    "    \n",
    "    # Global Attribute\n",
    "    platform = 'AMAZON'\n",
    "\n",
    "    # Constructor\n",
    "    def __init__(self,id: int, title: str, price: float) -> None:\n",
    "        self.id = id\n",
    "        self.title = title\n",
    "        self.price = price\n",
    "    \n",
    "    @classmethod\n",
    "    def Objectfromstr(cls,string: str):\n",
    "        id,title,price = string.split('-')\n",
    "        return cls(int(id),title,float(price))\n",
    "\n",
    "    def __str__(self) -> str:\n",
    "        return f'Product(id = {self.id},title = {self.title},price = {self.price})'\n",
    "\n",
    "    "
   ]
  },
  {
   "cell_type": "code",
   "execution_count": 2,
   "metadata": {},
   "outputs": [
    {
     "name": "stdout",
     "output_type": "stream",
     "text": [
      "Product(id = 101,title = Iphone 14 pro,price = 150000.0)\n"
     ]
    }
   ],
   "source": [
    "p1= Product.Objectfromstr('101-Iphone 14 pro-150000')\n",
    "print(p1)"
   ]
  },
  {
   "cell_type": "markdown",
   "metadata": {},
   "source": [
    "## Static Method"
   ]
  },
  {
   "cell_type": "code",
   "execution_count": 3,
   "metadata": {},
   "outputs": [],
   "source": [
    "# Create Class\n",
    "class Product:\n",
    "    \n",
    "    # Global Attribute\n",
    "    platform = 'AMAZON'\n",
    "\n",
    "    # Constructor\n",
    "    def __init__(self,id: int, title: str, price: float) -> None:\n",
    "        self.id = id\n",
    "        self.title = title\n",
    "        self.price = price\n",
    "    \n",
    "    @staticmethod             # we can call without creating object\n",
    "    def add(x: int,y:int) -> int:\n",
    "      return x+y\n",
    "\n",
    "    def __str__(self) -> str:\n",
    "        return f'Product(id = {self.id},title = {self.title},price = {self.price})'"
   ]
  },
  {
   "cell_type": "code",
   "execution_count": 4,
   "metadata": {},
   "outputs": [
    {
     "data": {
      "text/plain": [
       "13"
      ]
     },
     "execution_count": 4,
     "metadata": {},
     "output_type": "execute_result"
    }
   ],
   "source": [
    "Product.add(5,8)"
   ]
  },
  {
   "cell_type": "markdown",
   "metadata": {},
   "source": [
    "## Magic Method"
   ]
  },
  {
   "cell_type": "code",
   "execution_count": 5,
   "metadata": {},
   "outputs": [],
   "source": [
    "# Create Class\n",
    "class Product:\n",
    "    \n",
    "    # Global Attribute\n",
    "    platform = 'AMAZON'\n",
    "\n",
    "    # Constructor\n",
    "    def __init__(self,id: int, title: str, price: float) -> None:\n",
    "        self.id = id\n",
    "        self.title = title\n",
    "        self.price = price\n",
    "    \n",
    "    def __gt__(self,others: Product) -> bool:\n",
    "        return self.price > others.price\n",
    "\n",
    "    def __ge__(self,others: Product) -> bool:\n",
    "        return self.price >= others.price\n",
    "\n",
    "    def __add__(self,others: Product) -> int:\n",
    "        return self.price + others.price\n",
    "\n",
    "    def __str__(self) -> str:\n",
    "        return f'Product(id = {self.id},title = {self.title},price = {self.price})'"
   ]
  },
  {
   "cell_type": "code",
   "execution_count": 6,
   "metadata": {},
   "outputs": [],
   "source": [
    "p1 = Product(101,'Iphon X',120000.00)\n",
    "p2 = Product(102,'Iphon XIV',150000.00)"
   ]
  },
  {
   "cell_type": "code",
   "execution_count": 7,
   "metadata": {},
   "outputs": [
    {
     "data": {
      "text/plain": [
       "(False, True)"
      ]
     },
     "execution_count": 7,
     "metadata": {},
     "output_type": "execute_result"
    }
   ],
   "source": [
    "p1 > p2, p2 > p1 "
   ]
  },
  {
   "cell_type": "code",
   "execution_count": 8,
   "metadata": {},
   "outputs": [
    {
     "data": {
      "text/plain": [
       "(False, True)"
      ]
     },
     "execution_count": 8,
     "metadata": {},
     "output_type": "execute_result"
    }
   ],
   "source": [
    "p1 >= p2, p2 >= p1"
   ]
  },
  {
   "cell_type": "code",
   "execution_count": 9,
   "metadata": {},
   "outputs": [
    {
     "data": {
      "text/plain": [
       "270000.0"
      ]
     },
     "execution_count": 9,
     "metadata": {},
     "output_type": "execute_result"
    }
   ],
   "source": [
    "p1 + p2"
   ]
  }
 ],
 "metadata": {
  "kernelspec": {
   "display_name": "Python 3.8.8 ('base')",
   "language": "python",
   "name": "python3"
  },
  "language_info": {
   "codemirror_mode": {
    "name": "ipython",
    "version": 3
   },
   "file_extension": ".py",
   "mimetype": "text/x-python",
   "name": "python",
   "nbconvert_exporter": "python",
   "pygments_lexer": "ipython3",
   "version": "3.8.8"
  },
  "orig_nbformat": 4,
  "vscode": {
   "interpreter": {
    "hash": "f08154012ddadd8e950e6e9e035c7a7b32c136e7647e9b7c77e02eb723a8bedb"
   }
  }
 },
 "nbformat": 4,
 "nbformat_minor": 2
}
