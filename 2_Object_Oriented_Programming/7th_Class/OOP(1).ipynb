{
 "cells": [
  {
   "cell_type": "markdown",
   "metadata": {},
   "source": [
    "## Basic OOP"
   ]
  },
  {
   "cell_type": "code",
   "execution_count": 1,
   "metadata": {},
   "outputs": [
    {
     "name": "stdout",
     "output_type": "stream",
     "text": [
      "id = 101 cgpa = 3.75 \n"
     ]
    }
   ],
   "source": [
    "class student:\n",
    "    id = \"\"\n",
    "    cgpa = \"\"\n",
    "\n",
    "raihan = student()\n",
    "raihan.id = 101\n",
    "raihan.cgpa = 3.75\n",
    "\n",
    "print(f\"id = {raihan.id} cgpa = {raihan.cgpa} \")"
   ]
  },
  {
   "cell_type": "code",
   "execution_count": 2,
   "metadata": {},
   "outputs": [
    {
     "name": "stdout",
     "output_type": "stream",
     "text": [
      "id = 101 cgpa = 3.75 \n"
     ]
    }
   ],
   "source": [
    "class student:\n",
    "    id = \"\"\n",
    "    cgpa = \"\"\n",
    "    \n",
    "    # Methods\n",
    "    def display(self):\n",
    "        print(f\"id = {raihan.id} cgpa = {raihan.cgpa} \")\n",
    "\n",
    "raihan = student()\n",
    "raihan.id = 101\n",
    "raihan.cgpa = 3.75 \n",
    "raihan.display()"
   ]
  },
  {
   "cell_type": "code",
   "execution_count": 3,
   "metadata": {},
   "outputs": [
    {
     "name": "stdout",
     "output_type": "stream",
     "text": [
      "id = 101 cgpa = 3.75\n"
     ]
    }
   ],
   "source": [
    " # Creating Constructor\n",
    "class student:\n",
    "    id = \"\"\n",
    "    cgpa = \"\"\n",
    "    \n",
    "    def __init__(self,id,cgpa):    # Constructor\n",
    "        self.id = id\n",
    "        self.cgpa = cgpa\n",
    "\n",
    "    def display(self):\n",
    "        print(f\"id = {raihan.id} cgpa = {raihan.cgpa}\")\n",
    "\n",
    "raihan = student(101,3.75)\n",
    "raihan.display()"
   ]
  },
  {
   "cell_type": "code",
   "execution_count": 3,
   "metadata": {},
   "outputs": [
    {
     "name": "stdout",
     "output_type": "stream",
     "text": [
      "id = 101 , name = Raihan Sikdar\n"
     ]
    }
   ],
   "source": [
    "class student:\n",
    "    \n",
    "    def __init__(self,id,name) -> None:\n",
    "        self.id = id\n",
    "        self.name = name\n",
    "\n",
    "    def __repr__(self) -> str:\n",
    "        return \"id = {} , name = {}\".format(self.id,self.name)\n",
    "\n",
    "obj = student(101,\"Raihan Sikdar\")\n",
    "print(obj)"
   ]
  },
  {
   "cell_type": "code",
   "execution_count": 4,
   "metadata": {},
   "outputs": [
    {
     "name": "stdout",
     "output_type": "stream",
     "text": [
      "25.0\n"
     ]
    }
   ],
   "source": [
    "class triangle:\n",
    "    def __init__(self,base,height) -> None:\n",
    "        self.base = base\n",
    "        self.height = height\n",
    "        \n",
    "    def calculate_area(self):\n",
    "        area = 0.5*(self.base*self.height)\n",
    "        print(area)\n",
    "\n",
    "t1 = triangle(5,10)\n",
    "t1.calculate_area()"
   ]
  },
  {
   "cell_type": "markdown",
   "metadata": {},
   "source": [
    "## Course"
   ]
  },
  {
   "cell_type": "code",
   "execution_count": 4,
   "metadata": {},
   "outputs": [],
   "source": [
    "# Create Class\n",
    "class Product:\n",
    "    \n",
    "    # Global Attribute\n",
    "    platform = 'AMAZON'\n",
    "\n",
    "    # Constructor\n",
    "    def __init__(self,id: int, title: str, price: float) -> None:\n",
    "        self.id = id\n",
    "        self.title = title\n",
    "        self.price = price\n",
    "    \n",
    "    # Methods\n",
    "    def getInfo(self) -> str:\n",
    "        return (self.id,self.title,self.price)\n",
    "    \n",
    "    def getDiscount(self) -> float:\n",
    "        return self.price - (self.price*(15/100))\n",
    "\n",
    "    def __str__(self) -> str:\n",
    "        return f'Product(id = {self.id},title = {self.title},price = {self.price})'\n",
    "\n",
    "    # def __repr__(self) -> str:\n",
    "    #     return f'Product(id = {self.id},title = {self.title})'"
   ]
  },
  {
   "cell_type": "code",
   "execution_count": 5,
   "metadata": {},
   "outputs": [
    {
     "name": "stdout",
     "output_type": "stream",
     "text": [
      "Product(id = 133,title = Iphone,price = 12000.0)\n"
     ]
    }
   ],
   "source": [
    "# Creating Object \n",
    "p1 = Product(133,'Iphone',12000.00)\n",
    "print(p1)\n",
    "# p1.getInfo()"
   ]
  },
  {
   "cell_type": "code",
   "execution_count": 6,
   "metadata": {},
   "outputs": [
    {
     "name": "stdout",
     "output_type": "stream",
     "text": [
      "Product(id = 101,title = Samsung,price = 150000.0)\n"
     ]
    }
   ],
   "source": [
    "p2 = Product(101,'Samsung',150000.00)\n",
    "print(p2)"
   ]
  },
  {
   "cell_type": "code",
   "execution_count": 7,
   "metadata": {},
   "outputs": [
    {
     "name": "stdout",
     "output_type": "stream",
     "text": [
      "AMAZON\n",
      "AMAZON\n"
     ]
    }
   ],
   "source": [
    "print(p1.platform)\n",
    "print(p2.platform)"
   ]
  },
  {
   "cell_type": "code",
   "execution_count": 8,
   "metadata": {},
   "outputs": [
    {
     "data": {
      "text/plain": [
       "(133, 'Iphone', 12000.0)"
      ]
     },
     "execution_count": 8,
     "metadata": {},
     "output_type": "execute_result"
    }
   ],
   "source": [
    "p1.getInfo()"
   ]
  },
  {
   "cell_type": "code",
   "execution_count": 9,
   "metadata": {},
   "outputs": [
    {
     "data": {
      "text/plain": [
       "(101, 'Samsung', 150000.0)"
      ]
     },
     "execution_count": 9,
     "metadata": {},
     "output_type": "execute_result"
    }
   ],
   "source": [
    "p2.getInfo()"
   ]
  },
  {
   "cell_type": "code",
   "execution_count": 10,
   "metadata": {},
   "outputs": [
    {
     "data": {
      "text/plain": [
       "10200.0"
      ]
     },
     "execution_count": 10,
     "metadata": {},
     "output_type": "execute_result"
    }
   ],
   "source": [
    "p1.getDiscount()"
   ]
  },
  {
   "cell_type": "code",
   "execution_count": 11,
   "metadata": {},
   "outputs": [
    {
     "data": {
      "text/plain": [
       "127500.0"
      ]
     },
     "execution_count": 11,
     "metadata": {},
     "output_type": "execute_result"
    }
   ],
   "source": [
    "p2.getDiscount()"
   ]
  },
  {
   "cell_type": "code",
   "execution_count": 12,
   "metadata": {},
   "outputs": [
    {
     "data": {
      "text/plain": [
       "'Iphone'"
      ]
     },
     "execution_count": 12,
     "metadata": {},
     "output_type": "execute_result"
    }
   ],
   "source": [
    "p1.title"
   ]
  },
  {
   "cell_type": "code",
   "execution_count": 13,
   "metadata": {},
   "outputs": [
    {
     "data": {
      "text/plain": [
       "'Samsung'"
      ]
     },
     "execution_count": 13,
     "metadata": {},
     "output_type": "execute_result"
    }
   ],
   "source": [
    "p2.title"
   ]
  },
  {
   "cell_type": "markdown",
   "metadata": {},
   "source": [
    "## Getter,Setter and Deleter"
   ]
  },
  {
   "cell_type": "code",
   "execution_count": 13,
   "metadata": {},
   "outputs": [],
   "source": [
    "class Product:\n",
    "\n",
    "    Platform = \"Amazon\"\n",
    "\n",
    "    def __init__(self,id: int,title: str,price: float) -> None:\n",
    "        self.id = id\n",
    "        self.title = title\n",
    "        self.price = price\n",
    "        self.__code = 553311     # Private Attribute\n",
    "\n",
    "    @property                    # Getter\n",
    "    def code(self) -> int:\n",
    "        return self.__code\n",
    "    \n",
    "    @code.setter                 # Setter\n",
    "    def code(self,new: int) -> None:\n",
    "           self.__code = new\n",
    "    \n",
    "    @code.deleter                # Deleter\n",
    "    def code(self) -> None:\n",
    "        del self.__code\n",
    "   \n",
    "    def getInfo(self) -> str:\n",
    "        return (self.id,self.price,self.title)\n",
    "\n",
    "    def __str__(self) -> str:\n",
    "        return \"id: {}, title: {}, price: {}\".format(self.id,self.title,self.price)"
   ]
  },
  {
   "cell_type": "code",
   "execution_count": 14,
   "metadata": {},
   "outputs": [
    {
     "name": "stdout",
     "output_type": "stream",
     "text": [
      "id: 101, title: Iphone 13 pro max, price: 150000.0\n"
     ]
    }
   ],
   "source": [
    "p1 = Product(101,\"Iphone 13 pro max\",150000.00)\n",
    "print(p1)"
   ]
  },
  {
   "cell_type": "code",
   "execution_count": 15,
   "metadata": {},
   "outputs": [
    {
     "data": {
      "text/plain": [
       "553311"
      ]
     },
     "execution_count": 15,
     "metadata": {},
     "output_type": "execute_result"
    }
   ],
   "source": [
    "p1.code"
   ]
  },
  {
   "cell_type": "code",
   "execution_count": 16,
   "metadata": {},
   "outputs": [],
   "source": [
    "# without setter\n",
    "# p1.code = 112233\n",
    "# AttributeError: can't set attribute"
   ]
  },
  {
   "cell_type": "code",
   "execution_count": 17,
   "metadata": {},
   "outputs": [
    {
     "data": {
      "text/plain": [
       "112233"
      ]
     },
     "execution_count": 17,
     "metadata": {},
     "output_type": "execute_result"
    }
   ],
   "source": [
    "# with setter\n",
    "p1.code = 112233\n",
    "p1.code"
   ]
  },
  {
   "cell_type": "code",
   "execution_count": 18,
   "metadata": {},
   "outputs": [],
   "source": [
    "# without deleter\n",
    "\n",
    "# del p1.code\n",
    "# AttributeError: can't delete attribute"
   ]
  },
  {
   "cell_type": "code",
   "execution_count": 19,
   "metadata": {},
   "outputs": [],
   "source": [
    "# with deleter\n",
    "del p1.code"
   ]
  },
  {
   "cell_type": "code",
   "execution_count": 20,
   "metadata": {},
   "outputs": [
    {
     "ename": "AttributeError",
     "evalue": "'Product' object has no attribute '_Product__code'",
     "output_type": "error",
     "traceback": [
      "\u001b[1;31m---------------------------------------------------------------------------\u001b[0m",
      "\u001b[1;31mAttributeError\u001b[0m                            Traceback (most recent call last)",
      "\u001b[1;32m<ipython-input-20-6f7d7d2fff7b>\u001b[0m in \u001b[0;36m<module>\u001b[1;34m\u001b[0m\n\u001b[1;32m----> 1\u001b[1;33m \u001b[0mp1\u001b[0m\u001b[1;33m.\u001b[0m\u001b[0mcode\u001b[0m          \u001b[1;31m# deleter delete code\u001b[0m\u001b[1;33m\u001b[0m\u001b[1;33m\u001b[0m\u001b[0m\n\u001b[0m",
      "\u001b[1;32m<ipython-input-13-05a77b255cc5>\u001b[0m in \u001b[0;36mcode\u001b[1;34m(self)\u001b[0m\n\u001b[0;32m     11\u001b[0m     \u001b[1;33m@\u001b[0m\u001b[0mproperty\u001b[0m                    \u001b[1;31m# Getter\u001b[0m\u001b[1;33m\u001b[0m\u001b[1;33m\u001b[0m\u001b[0m\n\u001b[0;32m     12\u001b[0m     \u001b[1;32mdef\u001b[0m \u001b[0mcode\u001b[0m\u001b[1;33m(\u001b[0m\u001b[0mself\u001b[0m\u001b[1;33m)\u001b[0m \u001b[1;33m->\u001b[0m \u001b[0mint\u001b[0m\u001b[1;33m:\u001b[0m\u001b[1;33m\u001b[0m\u001b[1;33m\u001b[0m\u001b[0m\n\u001b[1;32m---> 13\u001b[1;33m         \u001b[1;32mreturn\u001b[0m \u001b[0mself\u001b[0m\u001b[1;33m.\u001b[0m\u001b[0m__code\u001b[0m\u001b[1;33m\u001b[0m\u001b[1;33m\u001b[0m\u001b[0m\n\u001b[0m\u001b[0;32m     14\u001b[0m \u001b[1;33m\u001b[0m\u001b[0m\n\u001b[0;32m     15\u001b[0m     \u001b[1;33m@\u001b[0m\u001b[0mcode\u001b[0m\u001b[1;33m.\u001b[0m\u001b[0msetter\u001b[0m                 \u001b[1;31m# Setter\u001b[0m\u001b[1;33m\u001b[0m\u001b[1;33m\u001b[0m\u001b[0m\n",
      "\u001b[1;31mAttributeError\u001b[0m: 'Product' object has no attribute '_Product__code'"
     ]
    }
   ],
   "source": [
    "p1.code          # deleter delete code"
   ]
  }
 ],
 "metadata": {
  "kernelspec": {
   "display_name": "Python 3.8.8 ('base')",
   "language": "python",
   "name": "python3"
  },
  "language_info": {
   "codemirror_mode": {
    "name": "ipython",
    "version": 3
   },
   "file_extension": ".py",
   "mimetype": "text/x-python",
   "name": "python",
   "nbconvert_exporter": "python",
   "pygments_lexer": "ipython3",
   "version": "3.8.8"
  },
  "orig_nbformat": 4,
  "vscode": {
   "interpreter": {
    "hash": "f08154012ddadd8e950e6e9e035c7a7b32c136e7647e9b7c77e02eb723a8bedb"
   }
  }
 },
 "nbformat": 4,
 "nbformat_minor": 2
}
