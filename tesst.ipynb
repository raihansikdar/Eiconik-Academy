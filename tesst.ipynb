{
 "cells": [
  {
   "cell_type": "code",
   "execution_count": 1,
   "metadata": {},
   "outputs": [],
   "source": [
    "import mysql.connector as mydb"
   ]
  },
  {
   "cell_type": "code",
   "execution_count": 2,
   "metadata": {},
   "outputs": [],
   "source": [
    "conn = mydb.connect(host = \"localhost\",user = \"root\",password=\"\")"
   ]
  },
  {
   "cell_type": "code",
   "execution_count": 11,
   "metadata": {},
   "outputs": [
    {
     "name": "stdout",
     "output_type": "stream",
     "text": [
      "('college',)\n",
      "('information_schema',)\n",
      "('mysql',)\n",
      "('performance_schema',)\n",
      "('phpmyadmin',)\n",
      "('school',)\n",
      "('test',)\n",
      "('university',)\n"
     ]
    }
   ],
   "source": [
    "conn = mydb.connect(host = \"localhost\",user=\"root\",password=\"\")\n",
    "cursor = conn.cursor()\n",
    "cursor.execute(\n",
    "    \"\"\"SHOW DATABASES\"\"\"\n",
    ")\n",
    "for i in cursor:\n",
    "    print(i)\n",
    "\n"
   ]
  },
  {
   "cell_type": "code",
   "execution_count": 10,
   "metadata": {},
   "outputs": [],
   "source": [
    "conn = mydb.connect(host = \"localhost\", user=\"root\",password=\"\")\n",
    "cursor = conn.cursor()\n",
    "cursor.execute(\n",
    "    \"\"\"CREATE DATABASE school\"\"\"\n",
    ")\n",
    "conn.commit()"
   ]
  },
  {
   "cell_type": "code",
   "execution_count": 12,
   "metadata": {},
   "outputs": [],
   "source": [
    "conn = mydb.connect(host = \"localhost\",user = \"root\",password = \"\",database= \"school\") \n",
    "cursor = conn.cursor()\n",
    "cursor.execute(\n",
    "    \"\"\"CREATE TABLE student(roll int PRIMARY KEY,name varchar(15),age int,city varchar(15))\"\"\"\n",
    ")\n",
    "conn.commit()"
   ]
  },
  {
   "cell_type": "code",
   "execution_count": 14,
   "metadata": {},
   "outputs": [
    {
     "name": "stdout",
     "output_type": "stream",
     "text": [
      "('student',)\n"
     ]
    }
   ],
   "source": [
    "conn = mydb.connect(host = \"localhost\",user = \"root\",password = \"\",database= \"school\") \n",
    "cursor = conn.cursor()\n",
    "cursor.execute(\n",
    "    \"\"\"SHOW TABLES\"\"\"\n",
    ")\n",
    "for i in cursor:\n",
    "    print(i)"
   ]
  },
  {
   "cell_type": "code",
   "execution_count": 16,
   "metadata": {},
   "outputs": [],
   "source": [
    "conn = mydb.connect(host = \"localhost\",user = \"root\",password = \"\",database= \"school\") \n",
    "cursor = conn.cursor()\n",
    "cursor.execute(\n",
    "    \"\"\"INSERT INTO student(roll,name,age,city) VALUES(%s,%s,%s,%s)\"\"\",(101,\"Raihan\",25,\"Dhaka\")\n",
    ")\n",
    "conn.commit()"
   ]
  },
  {
   "cell_type": "code",
   "execution_count": 19,
   "metadata": {},
   "outputs": [
    {
     "name": "stdout",
     "output_type": "stream",
     "text": [
      "(101, 'Raihan', 25, 'Dhaka')\n"
     ]
    }
   ],
   "source": [
    "conn = mydb.connect(host = \"localhost\",user = \"root\",password = \"\",database= \"school\") \n",
    "cursor = conn.cursor()\n",
    "cursor.execute(\n",
    "    \"\"\"SELECT * FROM student\"\"\"\n",
    ")\n",
    "for i in cursor:\n",
    "    print(i)"
   ]
  },
  {
   "cell_type": "code",
   "execution_count": 22,
   "metadata": {},
   "outputs": [],
   "source": [
    "user = [\n",
    "    (102,'Jhone smith',27,\"khulna\"),\n",
    "    (103, \"Alexa Jones\", 23, \"Chittagong\"),\n",
    "    (104, \"Alley P\", 26,\"Feni\"),\n",
    "    (105, \"John S\", 27,\"Dhaka\"),\n",
    "    (106, \"Babar Azam\", 30,\"Faridpur\" ),\n",
    "    (107, \"Afridi\", 29,\"Gajipur\"),\n",
    "    (108, \"Nasir\", 24,\"Dhaka\"),\n",
    "]\n",
    "\n",
    "conn = mydb.connect(host = \"localhost\",user = \"root\",password=\"\",database=\"school\")\n",
    "cursor = conn.cursor()\n",
    "cursor.executemany(\n",
    "    \"\"\"INSERT INTO student(roll,name,age,city) VALUES(%s,%s,%s,%s)\"\"\",user\n",
    ")\n",
    "conn.commit()"
   ]
  },
  {
   "cell_type": "code",
   "execution_count": 27,
   "metadata": {},
   "outputs": [
    {
     "name": "stdout",
     "output_type": "stream",
     "text": [
      "(101, 'Raihan', 25, 'Dhaka')\n",
      "(102, 'Jhone smith', 27, 'khulna')\n",
      "(103, 'Alexa Jones', 23, 'Chittagong')\n",
      "(104, 'Alley P', 26, 'Feni')\n",
      "(106, 'Babar Azam', 30, 'Faridpur')\n",
      "(107, 'Afridi', 29, 'Gajipur')\n",
      "(108, 'Nasir', 24, 'Dhaka')\n",
      "(115, 'AL Mamun', 25, 'London')\n"
     ]
    }
   ],
   "source": [
    "conn = mydb.connect(host = \"localhost\",user = \"root\",password = \"\",database= \"school\") \n",
    "cursor = conn.cursor()\n",
    "cursor.execute(\n",
    "    \"\"\"SELECT * FROM student\"\"\"\n",
    ")\n",
    "for i in cursor:\n",
    "    print(i)"
   ]
  },
  {
   "cell_type": "code",
   "execution_count": 26,
   "metadata": {},
   "outputs": [],
   "source": [
    "conn = mydb.connect(host = \"localhost\",user = \"root\",password = \"\",database= \"school\") \n",
    "cursor = conn.cursor()\n",
    "cursor.execute(\n",
    "    \"\"\"UPDATE student SET roll = %s,name=%s,age=%s,city=%s WHERE roll=%s \"\"\", (115,'AL Mamun',25,\"London\",105)\n",
    "\n",
    ")\n",
    "conn.commit()"
   ]
  },
  {
   "cell_type": "code",
   "execution_count": 30,
   "metadata": {},
   "outputs": [],
   "source": [
    "conn = mydb.connect(host = \"localhost\",user = \"root\",password = \"\",database= \"school\") \n",
    "cursor = conn.cursor()\n",
    "cursor.execute(\n",
    "    \"\"\"DELETE FROM student WHERE roll = %s \"\"\",(115,)\n",
    "\n",
    ")\n",
    "conn.commit()"
   ]
  },
  {
   "cell_type": "code",
   "execution_count": 32,
   "metadata": {},
   "outputs": [
    {
     "name": "stdout",
     "output_type": "stream",
     "text": [
      "(101, 'Raihan', 25, 'Dhaka')\n",
      "(102, 'Jhone smith', 27, 'khulna')\n",
      "(104, 'Alley P', 26, 'Feni')\n",
      "(106, 'Babar Azam', 30, 'Faridpur')\n",
      "(107, 'Afridi', 29, 'Gajipur')\n"
     ]
    }
   ],
   "source": [
    "conn = mydb.connect(host = \"localhost\",user = \"root\",password = \"\",database= \"school\") \n",
    "cursor = conn.cursor()\n",
    "cursor.execute(\n",
    "    \"\"\"SELECT * FROM STUDENT WHERE age>%s \"\"\",(24,)\n",
    "\n",
    ")\n",
    "for i in cursor:\n",
    "    print(i)"
   ]
  },
  {
   "cell_type": "code",
   "execution_count": 34,
   "metadata": {},
   "outputs": [
    {
     "name": "stdout",
     "output_type": "stream",
     "text": [
      "(101, 'Raihan', 25, 'Dhaka')\n"
     ]
    }
   ],
   "source": [
    "conn = mydb.connect(host = \"localhost\",user = \"root\",password = \"\",database= \"school\") \n",
    "cursor = conn.cursor()\n",
    "cursor.execute(\n",
    "    \"\"\"SELECT * FROM STUDENT WHERE age>%s AND city=%s \"\"\",(24,\"Dhaka\")\n",
    "\n",
    ")\n",
    "for i in cursor:\n",
    "    print(i)"
   ]
  },
  {
   "cell_type": "code",
   "execution_count": 36,
   "metadata": {},
   "outputs": [
    {
     "name": "stdout",
     "output_type": "stream",
     "text": [
      "(102, 'Jhone smith', 27, 'khulna')\n"
     ]
    }
   ],
   "source": [
    "conn = mydb.connect(host = \"localhost\",user = \"root\",password = \"\",database= \"school\") \n",
    "cursor = conn.cursor()\n",
    "cursor.execute(\n",
    "    \"\"\"SELECT * FROM STUDENT WHERE name LIKE '%h' \"\"\"\n",
    "\n",
    ")\n",
    "for i in cursor:\n",
    "    print(i)"
   ]
  },
  {
   "cell_type": "code",
   "execution_count": 38,
   "metadata": {},
   "outputs": [
    {
     "name": "stdout",
     "output_type": "stream",
     "text": [
      "(30, 23, Decimal('26.2857'), Decimal('184'))\n"
     ]
    }
   ],
   "source": [
    "conn = mydb.connect(host = \"localhost\",user = \"root\",password = \"\",database= \"school\") \n",
    "cursor = conn.cursor()\n",
    "cursor.execute(\n",
    "    \"\"\"SELECT MAX(age),MIN(age),AVG(age),SUM(age) FROM student \"\"\"\n",
    "\n",
    ")\n",
    "for i in cursor:\n",
    "    print(i)"
   ]
  },
  {
   "cell_type": "code",
   "execution_count": 41,
   "metadata": {},
   "outputs": [
    {
     "name": "stdout",
     "output_type": "stream",
     "text": [
      "(1, 23)\n",
      "(1, 24)\n",
      "(1, 25)\n",
      "(1, 26)\n",
      "(1, 27)\n",
      "(1, 29)\n",
      "(1, 30)\n"
     ]
    }
   ],
   "source": [
    "conn = mydb.connect(host = \"localhost\",user = \"root\",password = \"\",database= \"school\") \n",
    "cursor = conn.cursor()\n",
    "cursor.execute(\n",
    "    \"\"\"SELECT COUNT(*),age FROM student GROUP BY age \"\"\"\n",
    "\n",
    ")\n",
    "for i in cursor:\n",
    "    print(i)"
   ]
  },
  {
   "cell_type": "code",
   "execution_count": 44,
   "metadata": {},
   "outputs": [],
   "source": [
    "conn = mydb.connect(host = \"localhost\",user = \"root\",password = \"\",database= \"school\") \n",
    "cursor = conn.cursor()\n",
    "cursor.execute(\n",
    "    \"\"\"CREATE TABLE result_details(roll int,dept varchar(10),cgpa float) \"\"\"\n",
    "\n",
    ")\n",
    "conn.commit()"
   ]
  },
  {
   "cell_type": "code",
   "execution_count": 46,
   "metadata": {},
   "outputs": [
    {
     "name": "stdout",
     "output_type": "stream",
     "text": [
      "('result',)\n",
      "('result_details',)\n",
      "('student',)\n"
     ]
    }
   ],
   "source": [
    "conn = mydb.connect(host = \"localhost\",user = \"root\",password = \"\",database= \"school\") \n",
    "cursor = conn.cursor()\n",
    "cursor.execute(\n",
    "    \"\"\"SHOW TABLES\"\"\"\n",
    "\n",
    ")\n",
    "for i in cursor:\n",
    "    print(i)"
   ]
  },
  {
   "cell_type": "code",
   "execution_count": 49,
   "metadata": {},
   "outputs": [],
   "source": [
    "user = [\n",
    "    (101,'CSE',3.80),\n",
    "    (102,'CSE',3.85),\n",
    "    (103,'ENG',3.92),\n",
    "    (104,'EEE',3.75),\n",
    "    (106,'EEE',3.65),\n",
    "    (107,'MATH',3.90)\n",
    "]\n",
    "conn = mydb.connect(host = \"localhost\",user = \"root\",password = \"\",database= \"school\") \n",
    "cursor = conn.cursor()\n",
    "cursor.executemany(\n",
    "    \"\"\"INSERT INTO result(roll,dept,cgpa) VALUES(%s,%s,%s)\"\"\",user\n",
    "\n",
    ")\n",
    "conn.commit()"
   ]
  },
  {
   "cell_type": "code",
   "execution_count": 57,
   "metadata": {},
   "outputs": [
    {
     "name": "stdout",
     "output_type": "stream",
     "text": [
      "(101, 'CSE', 3.8)\n",
      "(102, 'CSE', 3.85)\n",
      "(103, 'ENG', 3.92)\n",
      "(104, 'EEE', 3.75)\n",
      "(106, 'EEE', 3.65)\n",
      "(107, 'MATH', 3.9)\n"
     ]
    }
   ],
   "source": [
    "conn = mydb.connect(host=\"localhost\",user=\"root\",password=\"\",database = \"school\")\n",
    "cursor = conn.cursor()\n",
    "cursor.execute(\n",
    "    \"\"\"SELECT * FROM result\"\"\"\n",
    ")\n",
    "for i in cursor:\n",
    "    print(i)"
   ]
  },
  {
   "cell_type": "code",
   "execution_count": 58,
   "metadata": {},
   "outputs": [
    {
     "name": "stdout",
     "output_type": "stream",
     "text": [
      "(101, 'Raihan', 'CSE', 3.8)\n",
      "(102, 'Jhone smith', 'CSE', 3.85)\n",
      "(103, 'Alexa Jones', 'ENG', 3.92)\n",
      "(104, 'Alley P', 'EEE', 3.75)\n",
      "(106, 'Babar Azam', 'EEE', 3.65)\n",
      "(107, 'Afridi', 'MATH', 3.9)\n"
     ]
    }
   ],
   "source": [
    "conn = mydb.connect(host=\"localhost\",user=\"root\",password=\"\",database = \"school\")\n",
    "cursor = conn.cursor()\n",
    "cursor.execute(\n",
    "    \"\"\"SELECT student.roll,name,dept,cgpa\n",
    "        from student,result\n",
    "        where student.roll = result.roll\"\"\"\n",
    ")\n",
    "for i in cursor:\n",
    "    print(i)"
   ]
  },
  {
   "cell_type": "code",
   "execution_count": 59,
   "metadata": {},
   "outputs": [
    {
     "name": "stdout",
     "output_type": "stream",
     "text": [
      "(101, 'Raihan', 'CSE', 3.8)\n",
      "(102, 'Jhone smith', 'CSE', 3.85)\n",
      "(103, 'Alexa Jones', 'ENG', 3.92)\n",
      "(104, 'Alley P', 'EEE', 3.75)\n",
      "(106, 'Babar Azam', 'EEE', 3.65)\n",
      "(107, 'Afridi', 'MATH', 3.9)\n"
     ]
    }
   ],
   "source": [
    "conn = mydb.connect(host=\"localhost\",user=\"root\",password=\"\",database = \"school\")\n",
    "cursor = conn.cursor()\n",
    "cursor.execute(\n",
    "    \"\"\"SELECT std.roll,std.name,r.dept,r.cgpa\n",
    "        from student AS std Join result AS r\n",
    "        ON std.roll = r.roll\"\"\"\n",
    ")\n",
    "for i in cursor:\n",
    "    print(i)"
   ]
  },
  {
   "cell_type": "code",
   "execution_count": 60,
   "metadata": {},
   "outputs": [
    {
     "name": "stdout",
     "output_type": "stream",
     "text": [
      "(101, 'Raihan', 'CSE', 3.8)\n",
      "(102, 'Jhone smith', 'CSE', 3.85)\n",
      "(103, 'Alexa Jones', 'ENG', 3.92)\n",
      "(104, 'Alley P', 'EEE', 3.75)\n",
      "(106, 'Babar Azam', 'EEE', 3.65)\n",
      "(107, 'Afridi', 'MATH', 3.9)\n"
     ]
    }
   ],
   "source": [
    "conn = mydb.connect(host=\"localhost\",user=\"root\",password=\"\",database = \"school\")\n",
    "cursor = conn.cursor()\n",
    "cursor.execute(\n",
    "    \"\"\"SELECT std.roll,std.name,r.dept,r.cgpa\n",
    "        from student AS std INNER Join result AS r\n",
    "        ON std.roll = r.roll\"\"\"\n",
    ")\n",
    "for i in cursor:\n",
    "    print(i)"
   ]
  },
  {
   "cell_type": "code",
   "execution_count": 61,
   "metadata": {},
   "outputs": [],
   "source": [
    "conn = mydb.connect(host=\"localhost\",user=\"root\",password=\"\",database = \"school\")\n",
    "cursor = conn.cursor()\n",
    "cursor.execute(\n",
    "    \"\"\"CREATE VIEW student_view AS\n",
    "       SELECT std.roll,std.name,r.dept,r.cgpa \n",
    "       from student AS std INNER Join result AS r\n",
    "       ON std.roll = r.roll\"\"\"\n",
    ")\n",
    "conn.commit()"
   ]
  },
  {
   "cell_type": "code",
   "execution_count": 66,
   "metadata": {},
   "outputs": [
    {
     "name": "stdout",
     "output_type": "stream",
     "text": [
      "(101, 'Raihan Sikdar', 'CSE', 3.8)\n",
      "(102, 'Jhone smith', 'CSE', 3.85)\n",
      "(103, 'Alexa Jones', 'ENG', 3.92)\n",
      "(104, 'Alley P', 'EEE', 3.75)\n",
      "(106, 'Babar Azam', 'EEE', 3.65)\n",
      "(107, 'Afridi', 'MATH', 3.9)\n"
     ]
    }
   ],
   "source": [
    "conn = mydb.connect(host=\"localhost\",user=\"root\",password=\"\",database = \"school\")\n",
    "cursor = conn.cursor()\n",
    "cursor.execute(\n",
    "    \"\"\"SELECT * FROM student_view\"\"\"\n",
    ")\n",
    "for i in cursor:\n",
    "    print(i)"
   ]
  },
  {
   "cell_type": "code",
   "execution_count": 65,
   "metadata": {},
   "outputs": [],
   "source": [
    "conn = mydb.connect(host=\"localhost\",user=\"root\",password=\"\",database = \"school\")\n",
    "cursor = conn.cursor()\n",
    "cursor.execute(\n",
    "    \"\"\"UPDATE student_view\n",
    "       SET name = \"Raihan Sikdar\"\n",
    "       WHERE roll = 101\"\"\"\n",
    ")\n",
    "conn.commit()"
   ]
  },
  {
   "cell_type": "code",
   "execution_count": 68,
   "metadata": {},
   "outputs": [
    {
     "ename": "DatabaseError",
     "evalue": "1393 (HY000): Can not modify more than one base table through a join view 'school.student_view'",
     "output_type": "error",
     "traceback": [
      "\u001b[1;31m---------------------------------------------------------------------------\u001b[0m",
      "\u001b[1;31mDatabaseError\u001b[0m                             Traceback (most recent call last)",
      "Cell \u001b[1;32mIn [68], line 3\u001b[0m\n\u001b[0;32m      1\u001b[0m conn \u001b[39m=\u001b[39m mydb\u001b[39m.\u001b[39mconnect(host\u001b[39m=\u001b[39m\u001b[39m\"\u001b[39m\u001b[39mlocalhost\u001b[39m\u001b[39m\"\u001b[39m,user\u001b[39m=\u001b[39m\u001b[39m\"\u001b[39m\u001b[39mroot\u001b[39m\u001b[39m\"\u001b[39m,password\u001b[39m=\u001b[39m\u001b[39m\"\u001b[39m\u001b[39m\"\u001b[39m,database \u001b[39m=\u001b[39m \u001b[39m\"\u001b[39m\u001b[39mschool\u001b[39m\u001b[39m\"\u001b[39m)\n\u001b[0;32m      2\u001b[0m cursor \u001b[39m=\u001b[39m conn\u001b[39m.\u001b[39mcursor()\n\u001b[1;32m----> 3\u001b[0m cursor\u001b[39m.\u001b[39mexecute(\n\u001b[0;32m      4\u001b[0m     \u001b[39m\"\"\"INSERT INTO student_view(roll,name,dept,cgpa) VALUES(%s,%s,%s,%s)\"\"\"\u001b[39;00m,(\u001b[39m120\u001b[39m,\u001b[39m\"\u001b[39m\u001b[39mDisha\u001b[39m\u001b[39m\"\u001b[39m,\u001b[39m\"\u001b[39m\u001b[39mENG\u001b[39m\u001b[39m\"\u001b[39m,\u001b[39m3.70\u001b[39m)\n\u001b[0;32m      5\u001b[0m )\n\u001b[0;32m      6\u001b[0m conn\u001b[39m.\u001b[39mcommit()\n",
      "File \u001b[1;32mc:\\Users\\User\\anaconda3\\lib\\site-packages\\mysql\\connector\\cursor.py:551\u001b[0m, in \u001b[0;36mMySQLCursor.execute\u001b[1;34m(self, operation, params, multi)\u001b[0m\n\u001b[0;32m    549\u001b[0m \u001b[39melse\u001b[39;00m:\n\u001b[0;32m    550\u001b[0m     \u001b[39mtry\u001b[39;00m:\n\u001b[1;32m--> 551\u001b[0m         \u001b[39mself\u001b[39m\u001b[39m.\u001b[39m_handle_result(\u001b[39mself\u001b[39;49m\u001b[39m.\u001b[39;49m_connection\u001b[39m.\u001b[39;49mcmd_query(stmt))\n\u001b[0;32m    552\u001b[0m     \u001b[39mexcept\u001b[39;00m errors\u001b[39m.\u001b[39mInterfaceError:\n\u001b[0;32m    553\u001b[0m         \u001b[39mif\u001b[39;00m \u001b[39mself\u001b[39m\u001b[39m.\u001b[39m_connection\u001b[39m.\u001b[39m_have_next_result:  \u001b[39m# pylint: disable=W0212\u001b[39;00m\n",
      "File \u001b[1;32mc:\\Users\\User\\anaconda3\\lib\\site-packages\\mysql\\connector\\connection.py:490\u001b[0m, in \u001b[0;36mMySQLConnection.cmd_query\u001b[1;34m(self, query, raw, buffered, raw_as_string)\u001b[0m\n\u001b[0;32m    488\u001b[0m \u001b[39mif\u001b[39;00m \u001b[39mnot\u001b[39;00m \u001b[39misinstance\u001b[39m(query, \u001b[39mbytes\u001b[39m):\n\u001b[0;32m    489\u001b[0m     query \u001b[39m=\u001b[39m query\u001b[39m.\u001b[39mencode(\u001b[39m'\u001b[39m\u001b[39mutf-8\u001b[39m\u001b[39m'\u001b[39m)\n\u001b[1;32m--> 490\u001b[0m result \u001b[39m=\u001b[39m \u001b[39mself\u001b[39;49m\u001b[39m.\u001b[39;49m_handle_result(\u001b[39mself\u001b[39;49m\u001b[39m.\u001b[39;49m_send_cmd(ServerCmd\u001b[39m.\u001b[39;49mQUERY, query))\n\u001b[0;32m    492\u001b[0m \u001b[39mif\u001b[39;00m \u001b[39mself\u001b[39m\u001b[39m.\u001b[39m_have_next_result:\n\u001b[0;32m    493\u001b[0m     \u001b[39mraise\u001b[39;00m errors\u001b[39m.\u001b[39mInterfaceError(\n\u001b[0;32m    494\u001b[0m         \u001b[39m'\u001b[39m\u001b[39mUse cmd_query_iter for statements with multiple queries.\u001b[39m\u001b[39m'\u001b[39m)\n",
      "File \u001b[1;32mc:\\Users\\User\\anaconda3\\lib\\site-packages\\mysql\\connector\\connection.py:395\u001b[0m, in \u001b[0;36mMySQLConnection._handle_result\u001b[1;34m(self, packet)\u001b[0m\n\u001b[0;32m    393\u001b[0m     \u001b[39mreturn\u001b[39;00m \u001b[39mself\u001b[39m\u001b[39m.\u001b[39m_handle_eof(packet)\n\u001b[0;32m    394\u001b[0m \u001b[39melif\u001b[39;00m packet[\u001b[39m4\u001b[39m] \u001b[39m==\u001b[39m \u001b[39m255\u001b[39m:\n\u001b[1;32m--> 395\u001b[0m     \u001b[39mraise\u001b[39;00m errors\u001b[39m.\u001b[39mget_exception(packet)\n\u001b[0;32m    397\u001b[0m \u001b[39m# We have a text result set\u001b[39;00m\n\u001b[0;32m    398\u001b[0m column_count \u001b[39m=\u001b[39m \u001b[39mself\u001b[39m\u001b[39m.\u001b[39m_protocol\u001b[39m.\u001b[39mparse_column_count(packet)\n",
      "\u001b[1;31mDatabaseError\u001b[0m: 1393 (HY000): Can not modify more than one base table through a join view 'school.student_view'"
     ]
    }
   ],
   "source": [
    "conn = mydb.connect(host=\"localhost\",user=\"root\",password=\"\",database = \"school\")\n",
    "cursor = conn.cursor()\n",
    "cursor.execute(\n",
    "    \"\"\"INSERT INTO student_view(roll,name,dept,cgpa) VALUES(%s,%s,%s,%s)\"\"\",(120,\"Disha\",\"ENG\",3.70)\n",
    ")\n",
    "conn.commit()"
   ]
  }
 ],
 "metadata": {
  "kernelspec": {
   "display_name": "venv",
   "language": "python",
   "name": "python3"
  },
  "language_info": {
   "codemirror_mode": {
    "name": "ipython",
    "version": 3
   },
   "file_extension": ".py",
   "mimetype": "text/x-python",
   "name": "python",
   "nbconvert_exporter": "python",
   "pygments_lexer": "ipython3",
   "version": "3.8.8 (default, Apr 13 2021, 15:08:03) [MSC v.1916 64 bit (AMD64)]"
  },
  "orig_nbformat": 4,
  "vscode": {
   "interpreter": {
    "hash": "074dd5a28b733fc07054be1f50ede07d0f80aca42e946f1b5846a44de5842f53"
   }
  }
 },
 "nbformat": 4,
 "nbformat_minor": 2
}
