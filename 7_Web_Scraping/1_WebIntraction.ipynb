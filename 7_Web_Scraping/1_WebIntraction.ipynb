{
 "cells": [
  {
   "cell_type": "code",
   "execution_count": 1,
   "metadata": {},
   "outputs": [],
   "source": [
    "# conda create -n my_anatome_env python=3.8.8; conda activate my_anatome_env "
   ]
  },
  {
   "cell_type": "code",
   "execution_count": 2,
   "metadata": {},
   "outputs": [],
   "source": [
    "import requests"
   ]
  },
  {
   "cell_type": "markdown",
   "metadata": {},
   "source": [
    "### Path is ok or not"
   ]
  },
  {
   "cell_type": "code",
   "execution_count": 3,
   "metadata": {},
   "outputs": [
    {
     "data": {
      "text/plain": [
       "200"
      ]
     },
     "execution_count": 3,
     "metadata": {},
     "output_type": "execute_result"
    }
   ],
   "source": [
    "path = 'https://reqres.in/api/users'\n",
    "\n",
    "api = requests.get(url=path)\n",
    "api.status_code"
   ]
  },
  {
   "cell_type": "markdown",
   "metadata": {},
   "source": [
    "### another method"
   ]
  },
  {
   "cell_type": "code",
   "execution_count": 4,
   "metadata": {},
   "outputs": [
    {
     "data": {
      "text/plain": [
       "True"
      ]
     },
     "execution_count": 4,
     "metadata": {},
     "output_type": "execute_result"
    }
   ],
   "source": [
    "api = requests.get(url=('https://reqres.in/api/users'))\n",
    "api.ok"
   ]
  },
  {
   "cell_type": "code",
   "execution_count": 5,
   "metadata": {},
   "outputs": [
    {
     "data": {
      "text/plain": [
       "{'Date': 'Wed, 28 Sep 2022 08:20:25 GMT', 'Content-Type': 'application/json; charset=utf-8', 'Transfer-Encoding': 'chunked', 'Connection': 'keep-alive', 'X-Powered-By': 'Express', 'Access-Control-Allow-Origin': '*', 'Etag': 'W/\"3e4-2RLXvr5wTg9YQ6aH95CkYoFNuO8\"', 'Via': '1.1 vegur', 'Cache-Control': 'max-age=14400', 'CF-Cache-Status': 'HIT', 'Age': '1891', 'Report-To': '{\"endpoints\":[{\"url\":\"https:\\\\/\\\\/a.nel.cloudflare.com\\\\/report\\\\/v3?s=TZgYs44Vsb4%2FNM%2BOpvvLrhw8WfZ3BK48gTevWNpDhqYmckGiDniSc%2FSpux77Pa2sy%2Blc6WMNwAfqtL9Pp1KHE22b9OHIf6XVm9S80r68m9ZY7waVrZlUAGaBmg%3D%3D\"}],\"group\":\"cf-nel\",\"max_age\":604800}', 'NEL': '{\"success_fraction\":0,\"report_to\":\"cf-nel\",\"max_age\":604800}', 'Vary': 'Accept-Encoding', 'Server': 'cloudflare', 'CF-RAY': '751b0f4a6d84498f-SIN', 'Content-Encoding': 'gzip'}"
      ]
     },
     "execution_count": 5,
     "metadata": {},
     "output_type": "execute_result"
    }
   ],
   "source": [
    "api.headers"
   ]
  },
  {
   "cell_type": "markdown",
   "metadata": {},
   "source": [
    "### Converting in Dictionary format"
   ]
  },
  {
   "cell_type": "code",
   "execution_count": 6,
   "metadata": {},
   "outputs": [
    {
     "data": {
      "text/plain": [
       "{'page': 1,\n",
       " 'per_page': 6,\n",
       " 'total': 12,\n",
       " 'total_pages': 2,\n",
       " 'data': [{'id': 1,\n",
       "   'email': 'george.bluth@reqres.in',\n",
       "   'first_name': 'George',\n",
       "   'last_name': 'Bluth',\n",
       "   'avatar': 'https://reqres.in/img/faces/1-image.jpg'},\n",
       "  {'id': 2,\n",
       "   'email': 'janet.weaver@reqres.in',\n",
       "   'first_name': 'Janet',\n",
       "   'last_name': 'Weaver',\n",
       "   'avatar': 'https://reqres.in/img/faces/2-image.jpg'},\n",
       "  {'id': 3,\n",
       "   'email': 'emma.wong@reqres.in',\n",
       "   'first_name': 'Emma',\n",
       "   'last_name': 'Wong',\n",
       "   'avatar': 'https://reqres.in/img/faces/3-image.jpg'},\n",
       "  {'id': 4,\n",
       "   'email': 'eve.holt@reqres.in',\n",
       "   'first_name': 'Eve',\n",
       "   'last_name': 'Holt',\n",
       "   'avatar': 'https://reqres.in/img/faces/4-image.jpg'},\n",
       "  {'id': 5,\n",
       "   'email': 'charles.morris@reqres.in',\n",
       "   'first_name': 'Charles',\n",
       "   'last_name': 'Morris',\n",
       "   'avatar': 'https://reqres.in/img/faces/5-image.jpg'},\n",
       "  {'id': 6,\n",
       "   'email': 'tracey.ramos@reqres.in',\n",
       "   'first_name': 'Tracey',\n",
       "   'last_name': 'Ramos',\n",
       "   'avatar': 'https://reqres.in/img/faces/6-image.jpg'}],\n",
       " 'support': {'url': 'https://reqres.in/#support-heading',\n",
       "  'text': 'To keep ReqRes free, contributions towards server costs are appreciated!'}}"
      ]
     },
     "execution_count": 6,
     "metadata": {},
     "output_type": "execute_result"
    }
   ],
   "source": [
    "data = api.json()\n",
    "data"
   ]
  },
  {
   "cell_type": "code",
   "execution_count": 7,
   "metadata": {},
   "outputs": [
    {
     "data": {
      "text/plain": [
       "dict_keys(['page', 'per_page', 'total', 'total_pages', 'data', 'support'])"
      ]
     },
     "execution_count": 7,
     "metadata": {},
     "output_type": "execute_result"
    }
   ],
   "source": [
    "data.keys()"
   ]
  },
  {
   "cell_type": "code",
   "execution_count": 8,
   "metadata": {},
   "outputs": [
    {
     "data": {
      "text/plain": [
       "[{'id': 1,\n",
       "  'email': 'george.bluth@reqres.in',\n",
       "  'first_name': 'George',\n",
       "  'last_name': 'Bluth',\n",
       "  'avatar': 'https://reqres.in/img/faces/1-image.jpg'},\n",
       " {'id': 2,\n",
       "  'email': 'janet.weaver@reqres.in',\n",
       "  'first_name': 'Janet',\n",
       "  'last_name': 'Weaver',\n",
       "  'avatar': 'https://reqres.in/img/faces/2-image.jpg'},\n",
       " {'id': 3,\n",
       "  'email': 'emma.wong@reqres.in',\n",
       "  'first_name': 'Emma',\n",
       "  'last_name': 'Wong',\n",
       "  'avatar': 'https://reqres.in/img/faces/3-image.jpg'},\n",
       " {'id': 4,\n",
       "  'email': 'eve.holt@reqres.in',\n",
       "  'first_name': 'Eve',\n",
       "  'last_name': 'Holt',\n",
       "  'avatar': 'https://reqres.in/img/faces/4-image.jpg'},\n",
       " {'id': 5,\n",
       "  'email': 'charles.morris@reqres.in',\n",
       "  'first_name': 'Charles',\n",
       "  'last_name': 'Morris',\n",
       "  'avatar': 'https://reqres.in/img/faces/5-image.jpg'},\n",
       " {'id': 6,\n",
       "  'email': 'tracey.ramos@reqres.in',\n",
       "  'first_name': 'Tracey',\n",
       "  'last_name': 'Ramos',\n",
       "  'avatar': 'https://reqres.in/img/faces/6-image.jpg'}]"
      ]
     },
     "execution_count": 8,
     "metadata": {},
     "output_type": "execute_result"
    }
   ],
   "source": [
    "data['data']  # ekhane list er vitore dictionary."
   ]
  },
  {
   "cell_type": "code",
   "execution_count": 9,
   "metadata": {},
   "outputs": [
    {
     "name": "stdout",
     "output_type": "stream",
     "text": [
      "george.bluth@reqres.in\n",
      "1\n",
      "janet.weaver@reqres.in\n",
      "2\n",
      "emma.wong@reqres.in\n",
      "3\n",
      "eve.holt@reqres.in\n",
      "4\n",
      "charles.morris@reqres.in\n",
      "5\n",
      "tracey.ramos@reqres.in\n",
      "6\n"
     ]
    }
   ],
   "source": [
    "for users in data['data']:\n",
    "    print(users['email'])\n",
    "    print(users['id'])"
   ]
  },
  {
   "cell_type": "code",
   "execution_count": 10,
   "metadata": {},
   "outputs": [
    {
     "data": {
      "text/plain": [
       "12"
      ]
     },
     "execution_count": 10,
     "metadata": {},
     "output_type": "execute_result"
    }
   ],
   "source": [
    "data['total']"
   ]
  },
  {
   "cell_type": "markdown",
   "metadata": {},
   "source": [
    "# Merge two page"
   ]
  },
  {
   "cell_type": "code",
   "execution_count": 11,
   "metadata": {},
   "outputs": [],
   "source": [
    "path = 'https://reqres.in/api/users'\n",
    "users = []\n",
    "for page in range(1,3):\n",
    "    api = requests.get(url=path, params={\n",
    "          'page':page \n",
    "    })\n",
    "    users.extend(api.json()['data'])"
   ]
  },
  {
   "cell_type": "code",
   "execution_count": 12,
   "metadata": {},
   "outputs": [
    {
     "data": {
      "text/plain": [
       "[{'id': 1,\n",
       "  'email': 'george.bluth@reqres.in',\n",
       "  'first_name': 'George',\n",
       "  'last_name': 'Bluth',\n",
       "  'avatar': 'https://reqres.in/img/faces/1-image.jpg'},\n",
       " {'id': 2,\n",
       "  'email': 'janet.weaver@reqres.in',\n",
       "  'first_name': 'Janet',\n",
       "  'last_name': 'Weaver',\n",
       "  'avatar': 'https://reqres.in/img/faces/2-image.jpg'},\n",
       " {'id': 3,\n",
       "  'email': 'emma.wong@reqres.in',\n",
       "  'first_name': 'Emma',\n",
       "  'last_name': 'Wong',\n",
       "  'avatar': 'https://reqres.in/img/faces/3-image.jpg'},\n",
       " {'id': 4,\n",
       "  'email': 'eve.holt@reqres.in',\n",
       "  'first_name': 'Eve',\n",
       "  'last_name': 'Holt',\n",
       "  'avatar': 'https://reqres.in/img/faces/4-image.jpg'},\n",
       " {'id': 5,\n",
       "  'email': 'charles.morris@reqres.in',\n",
       "  'first_name': 'Charles',\n",
       "  'last_name': 'Morris',\n",
       "  'avatar': 'https://reqres.in/img/faces/5-image.jpg'},\n",
       " {'id': 6,\n",
       "  'email': 'tracey.ramos@reqres.in',\n",
       "  'first_name': 'Tracey',\n",
       "  'last_name': 'Ramos',\n",
       "  'avatar': 'https://reqres.in/img/faces/6-image.jpg'},\n",
       " {'id': 7,\n",
       "  'email': 'michael.lawson@reqres.in',\n",
       "  'first_name': 'Michael',\n",
       "  'last_name': 'Lawson',\n",
       "  'avatar': 'https://reqres.in/img/faces/7-image.jpg'},\n",
       " {'id': 8,\n",
       "  'email': 'lindsay.ferguson@reqres.in',\n",
       "  'first_name': 'Lindsay',\n",
       "  'last_name': 'Ferguson',\n",
       "  'avatar': 'https://reqres.in/img/faces/8-image.jpg'},\n",
       " {'id': 9,\n",
       "  'email': 'tobias.funke@reqres.in',\n",
       "  'first_name': 'Tobias',\n",
       "  'last_name': 'Funke',\n",
       "  'avatar': 'https://reqres.in/img/faces/9-image.jpg'},\n",
       " {'id': 10,\n",
       "  'email': 'byron.fields@reqres.in',\n",
       "  'first_name': 'Byron',\n",
       "  'last_name': 'Fields',\n",
       "  'avatar': 'https://reqres.in/img/faces/10-image.jpg'},\n",
       " {'id': 11,\n",
       "  'email': 'george.edwards@reqres.in',\n",
       "  'first_name': 'George',\n",
       "  'last_name': 'Edwards',\n",
       "  'avatar': 'https://reqres.in/img/faces/11-image.jpg'},\n",
       " {'id': 12,\n",
       "  'email': 'rachel.howell@reqres.in',\n",
       "  'first_name': 'Rachel',\n",
       "  'last_name': 'Howell',\n",
       "  'avatar': 'https://reqres.in/img/faces/12-image.jpg'}]"
      ]
     },
     "execution_count": 12,
     "metadata": {},
     "output_type": "execute_result"
    }
   ],
   "source": [
    "users"
   ]
  },
  {
   "cell_type": "code",
   "execution_count": 13,
   "metadata": {},
   "outputs": [
    {
     "data": {
      "text/plain": [
       "{'id': 12,\n",
       " 'email': 'rachel.howell@reqres.in',\n",
       " 'first_name': 'Rachel',\n",
       " 'last_name': 'Howell',\n",
       " 'avatar': 'https://reqres.in/img/faces/12-image.jpg'}"
      ]
     },
     "execution_count": 13,
     "metadata": {},
     "output_type": "execute_result"
    }
   ],
   "source": [
    "users[-1]"
   ]
  },
  {
   "cell_type": "markdown",
   "metadata": {},
   "source": [
    "## Downloading Images"
   ]
  },
  {
   "cell_type": "code",
   "execution_count": 14,
   "metadata": {},
   "outputs": [
    {
     "name": "stdout",
     "output_type": "stream",
     "text": [
      "https://reqres.in/img/faces/1-image.jpg\n",
      "https://reqres.in/img/faces/2-image.jpg\n",
      "https://reqres.in/img/faces/3-image.jpg\n",
      "https://reqres.in/img/faces/4-image.jpg\n",
      "https://reqres.in/img/faces/5-image.jpg\n",
      "https://reqres.in/img/faces/6-image.jpg\n",
      "https://reqres.in/img/faces/7-image.jpg\n",
      "https://reqres.in/img/faces/8-image.jpg\n",
      "https://reqres.in/img/faces/9-image.jpg\n",
      "https://reqres.in/img/faces/10-image.jpg\n",
      "https://reqres.in/img/faces/11-image.jpg\n",
      "https://reqres.in/img/faces/12-image.jpg\n"
     ]
    }
   ],
   "source": [
    "for user in users:\n",
    "    print(user['avatar'])"
   ]
  },
  {
   "cell_type": "code",
   "execution_count": 15,
   "metadata": {},
   "outputs": [
    {
     "name": "stdout",
     "output_type": "stream",
     "text": [
      "{'Date': 'Wed, 28 Sep 2022 08:20:28 GMT', 'Content-Type': 'image/jpeg', 'Content-Length': '4324', 'Connection': 'keep-alive', 'Access-Control-Allow-Origin': '*', 'Cache-Control': 'public, max-age=14400', 'Cf-Bgj': 'h2pri', 'Etag': 'W/\"10e4-181443f9aa0\"', 'Last-Modified': 'Wed, 08 Jun 2022 16:57:08 GMT', 'Via': '1.1 vegur', 'X-Powered-By': 'Express', 'CF-Cache-Status': 'REVALIDATED', 'Accept-Ranges': 'bytes', 'Report-To': '{\"endpoints\":[{\"url\":\"https:\\\\/\\\\/a.nel.cloudflare.com\\\\/report\\\\/v3?s=RZ0Gh3iWuFoxxnDOJchzrAxBlVX1EYdQh3gj3BeGpLRABjTIWorrrAIvpzoZ%2FG7tVeaV7DkEImb9Xaw2XYjMmh4qrzOdt6KRBZua%2FmLjhVRdiREG2ujKc6Id1w%3D%3D\"}],\"group\":\"cf-nel\",\"max_age\":604800}', 'NEL': '{\"success_fraction\":0,\"report_to\":\"cf-nel\",\"max_age\":604800}', 'Vary': 'Accept-Encoding', 'Server': 'cloudflare', 'CF-RAY': '751b0f5b5ce4a3da-SIN'}\n"
     ]
    }
   ],
   "source": [
    "for user in users:\n",
    "    resp = requests.get(user['avatar'])\n",
    "    print(resp.headers)\n",
    "    break"
   ]
  },
  {
   "cell_type": "code",
   "execution_count": 16,
   "metadata": {},
   "outputs": [
    {
     "name": "stdout",
     "output_type": "stream",
     "text": [
      "b'\\xff\\xd8\\xff\\xe0\\x00\\x10JFIF\\x00\\x01\\x01\\x00\\x00H\\x00H\\x00\\x00\\xff\\xe1\\x00\\x8cExif\\x00\\x00MM\\x00*\\x00\\x00\\x00\\x08\\x00\\x05\\x01\\x12\\x00\\x03\\x00\\x00\\x00\\x01\\x00\\x01\\x00\\x00\\x01\\x1a\\x00\\x05\\x00\\x00\\x00\\x01\\x00\\x00\\x00J\\x01\\x1b\\x00\\x05\\x00\\x00\\x00\\x01\\x00\\x00\\x00R\\x01(\\x00\\x03\\x00\\x00\\x00\\x01\\x00\\x02\\x00\\x00\\x87i\\x00\\x04\\x00\\x00\\x00\\x01\\x00\\x00\\x00Z\\x00\\x00\\x00\\x00\\x00\\x00\\x00H\\x00\\x00\\x00\\x01\\x00\\x00\\x00H\\x00\\x00\\x00\\x01\\x00\\x03\\xa0\\x01\\x00\\x03\\x00\\x00\\x00\\x01\\x00\\x01\\x00\\x00\\xa0\\x02\\x00\\x04\\x00\\x00\\x00\\x01\\x00\\x00\\x00\\x80\\xa0\\x03\\x00\\x04\\x00\\x00\\x00\\x01\\x00\\x00\\x00\\x80\\x00\\x00\\x00\\x00\\xff\\xed\\x008Photoshop 3.0\\x008BIM\\x04\\x04\\x00\\x00\\x00\\x00\\x00\\x008BIM\\x04%\\x00\\x00\\x00\\x00\\x00\\x10\\xd4\\x1d\\x8c\\xd9\\x8f\\x00\\xb2\\x04\\xe9\\x80\\t\\x98\\xec\\xf8B~\\xff\\xc2\\x00\\x11\\x08\\x00\\x80\\x00\\x80\\x03\\x01\"\\x00\\x02\\x11\\x01\\x03\\x11\\x01\\xff\\xc4\\x00\\x1f\\x00\\x00\\x01\\x05\\x01\\x01\\x01\\x01\\x01\\x01\\x00\\x00\\x00\\x00\\x00\\x00\\x00\\x03\\x02\\x04\\x01\\x05\\x00\\x06\\x07\\x08\\t\\n\\x0b\\xff\\xc4\\x00\\xc3\\x10\\x00\\x01\\x03\\x03\\x02\\x04\\x03\\x04\\x06\\x04\\x07\\x06\\x04\\x08\\x06s\\x01\\x02\\x00\\x03\\x11\\x04\\x12!\\x051\\x13\"\\x10\\x06AQ2\\x14aq#\\x07\\x81 \\x91B\\x15\\xa1R3\\xb1$b0\\x16\\xc1r\\xd1C\\x924\\x82\\x08\\xe1S@%c\\x175\\xf0\\x93s\\xa2PD\\xb2\\x83\\xf1&T6d\\x94t\\xc2`\\xd2\\x84\\xa3\\x18p\\xe2\\'E7e\\xb3Uu\\xa4\\x95\\xc3\\x85\\xf2\\xd3Fv\\x80\\xe3GVf\\xb4\\t\\n\\x19\\x1a()*89:HIJWXYZghijwxyz\\x86\\x87\\x88\\x89\\x8a\\x90\\x96\\x97\\x98\\x99\\x9a\\xa0\\xa5\\xa6\\xa7\\xa8\\xa9\\xaa\\xb0\\xb5\\xb6\\xb7\\xb8\\xb9\\xba\\xc0\\xc4\\xc5\\xc6\\xc7\\xc8\\xc9\\xca\\xd0\\xd4\\xd5\\xd6\\xd7\\xd8\\xd9\\xda\\xe0\\xe4\\xe5\\xe6\\xe7\\xe8\\xe9\\xea\\xf3\\xf4\\xf5\\xf6\\xf7\\xf8\\xf9\\xfa\\xff\\xc4\\x00\\x1f\\x01\\x00\\x03\\x01\\x01\\x01\\x01\\x01\\x01\\x01\\x01\\x01\\x00\\x00\\x00\\x00\\x00\\x01\\x02\\x00\\x03\\x04\\x05\\x06\\x07\\x08\\t\\n\\x0b\\xff\\xc4\\x00\\xc3\\x11\\x00\\x02\\x02\\x01\\x03\\x03\\x03\\x02\\x03\\x05\\x02\\x05\\x02\\x04\\x04\\x87\\x01\\x00\\x02\\x11\\x03\\x10\\x12!\\x04 1A\\x13\\x050\"2Q\\x14@\\x063#aB\\x15qR4\\x81P$\\x91\\xa1C\\xb1\\x16\\x07b5S\\xf0\\xd1%`\\xc1D\\xe1r\\xf1\\x17\\x82c6p&ET\\x92\\'\\xa2\\xd2\\x08\\t\\n\\x18\\x19\\x1a()*789:FGHIJUVWXYZdefghijstuvwxyz\\x80\\x83\\x84\\x85\\x86\\x87\\x88\\x89\\x8a\\x90\\x93\\x94\\x95\\x96\\x97\\x98\\x99\\x9a\\xa0\\xa3\\xa4\\xa5\\xa6\\xa7\\xa8\\xa9\\xaa\\xb0\\xb2\\xb3\\xb4\\xb5\\xb6\\xb7\\xb8\\xb9\\xba\\xc0\\xc2\\xc3\\xc4\\xc5\\xc6\\xc7\\xc8\\xc9\\xca\\xd0\\xd3\\xd4\\xd5\\xd6\\xd7\\xd8\\xd9\\xda\\xe0\\xe2\\xe3\\xe4\\xe5\\xe6\\xe7\\xe8\\xe9\\xea\\xf2\\xf3\\xf4\\xf5\\xf6\\xf7\\xf8\\xf9\\xfa\\xff\\xdb\\x00C\\x00\\n\\n\\n\\n\\x0b\\n\\x0c\\r\\r\\x0c\\x10\\x11\\x0f\\x11\\x10\\x18\\x16\\x14\\x14\\x16\\x18$\\x1a\\x1c\\x1a\\x1c\\x1a$6\"(\"\"(\"60:/,/:0VD<<DVdTOTdylly\\x98\\x91\\x98\\xc7\\xc7\\xff\\xff\\xdb\\x00C\\x01\\n\\n\\n\\n\\x0b\\n\\x0c\\r\\r\\x0c\\x10\\x11\\x0f\\x11\\x10\\x18\\x16\\x14\\x14\\x16\\x18$\\x1a\\x1c\\x1a\\x1c\\x1a$6\"(\"\"(\"60:/,/:0VD<<DVdTOTdylly\\x98\\x91\\x98\\xc7\\xc7\\xff\\xff\\xda\\x00\\x0c\\x03\\x01\\x00\\x02\\x11\\x03\\x11\\x00\\x00\\x01\\xeav\\xc4m\\xb5m\\xb5m\\xb5i\\x8dS\\xb6\\xad\\xb4T\\xc6\\xd5\\xb6\\xd5\\xb6\\xd0\\x84\\xea@m\\x98R\\xb6\\x06\\xe0\\x9c\\xf9#\\xd2\\xd9q\\x165\\xd5CWL\\xbbh\\xa9\\x89L\\x11Vj\\x05s\\xb1\\t\\x05\\xd1Y\\x00\\x8b\\xa5e/^\\x05~\\r\\xca\\x19\\xeb\\x87M}\\xc6[WS\\x9b:e\\xc0;A3\\xaa\\xe8\\xf9\\x00\\xcc\\x1e2\\xba\\x06\\x81o\\xd4B\\x03\\x7f\\xcd\\xab.\\xbd\\xf36G\\xb65wT\\xf3\\xa1\\xe3/\\xa3j\\x95\\x89\\x96\\xb3\\x99\\xb5\\xacVg\\x7f\\xcd\\\\#\\xf5\\x0c\\xb5jl@(\\xa1\\xa9\\xab\\xca\\r\\xb9\\x1dt\\x1c\\xc5\\xf9\\x07~\\xb5\\x83kOq\\xce2\\xd51x\\xd8\\x16N\\x08\\xe4;\\x97\\xd4j\\xcf[\\n\\xf54\\xa6\\x13\\xa7nb\\xd9V\\xba\\x07\\xaf\\xb4\\xab\\xb31\\x1b?nU\\x8f%\\xd2s\\xfadu\\x02\\xc3\\x0e\\x982\\xd7\\xcd\\xda\\x1a\\xdbvm\\x9f+\\x0eA\\xd5\\xc5\\x165\\xceU\\xba\\xdb\\x8a\\xdb#5c[\\xb7\\xe5\\x96\\xd6,\\xdf6\\xe4\\x84+,[e\\xbb\\xf9a \\x80N\\x11\\xae-\\x08U&\\x97\\xf7\\xdc\\x8fZ\\x0f\\xff\\xda\\x00\\x08\\x01\\x01\\x00\\x01\\x05\\x02\\xff\\x00|\\xa4\\x80\\xcc\\x81\\x9b\\x80\\xf9\\xe7.y\\x0c\\\\0\\xa0\\x7f\\x99%\\xdcI\\xd4e\\xe9\\xe6%\\xf4R\\xa8-+\\xd5\\x12Q\\xa1\\x7fx\\xaa\\x8dr\\x96\\xa9X\\xeaq[\\xa5/\\x95\\x1d$\\xb4B\\x8c\\xb6\\x8b\\x8d\\xe6\\xd1+D\\x86\\x91\\xc8\\x15\\xf7T\\x03^Y\\x1a\\xd2\\x1dd\\xc9 \\xf3\\xe2u\\x0c\\xf5;\\x84Qi\\xd1\\xa0\\xd1\\xa2AH\\xd4\\x0fuQ\\xaf\\xda\\x93\\xa1%N\\xdd%j\\xc8\\xb4\\xa9E\\x99T\\x11\\xceXs)Ja\\xa1\\xe8S\\t\\x01=\\xbf\\xbe-\\xadEEn\\xc94L\\xd0-\\xc3o\"\\xcd\\xfcI\\xe5SITXq\\xd4+\\x83\\tpKP\\xe9G4\\x85\\xcaz\\xaa\\t\\xb4\\xa5\"\\xd0O\\xcd#\\x9cT\\xfd\\xd8V\\xe4%$0u\\x89G\\x15%,i#Q\\xa0\\x94\\x82\\xa5\\x91R\\xecWCpt<\\xb25\\x0f*\\t\\x14\\x951\\xda\\x15\\xd1\\x94\\xc4\\xa1\\x12j\\xa7t\\xae\\x9a\\xa89\\x0b<\"\\xe0\\x99j\\t\\x84\\xa2\\x89\\x0ei:{\\x02\\xe0\\xa9L\\x14#\\xb5\\xca\\xc70\\xe7U%\\xc5\\x11\\x91i\\x15jIc7\\xd4\\\\\\xc2\\x9d\\xe9\\xa4U\\xce\\x13\\xd5\\xd9V\\xe8Q8F\\xca\\xcaUk\\xfb\\xf4%\\xe2\\xc24\\xe5\\x86\\xb4f\\xe9\\xde\\x02\\xa0\\xb4\\x12\\x00\\xed\\x90.YF+I\\xca\\x1d$*\\xd4p\\xa8d\\xb4\\x86Gp\\xe1\\x04\\xa5\\xf3B\\x99\\x97YA\\xa8\\xa9O\\x07\\x9a\\x83+4MA\\x0bK+N.\\x8c\\x87\\x1b\\xb4_c\\x93*Ij\\xea\\t\\x1dK\\x14?w\\xcf\\xb0h,\\x1c\\x87\\xff\\xda\\x00\\x08\\x01\\x03\\x11\\x01?\\x01\\xfd\\x8b\\xc9H\\xe6\\x82\"\\x0f\\x90\\x91\\xb4\\xd7l\\x05\\x97i\\xb6D\\xf1\\xcaM\\x94\\'\\\\g\\x9a}m\\xa0\\x7f\\x13:\\xdcQ\\xa0K\\x8cYl\\xfa\\x86D\\xed5\\xa0Kt\\xee\\xf2\\xf4\\xb2\\xbe?-2~\\x16\\xf4)%>X\\xc8\\xc4\\xd84\\x8e\\xa6~\\xac\\xfa\\x99\\x11T\\x10S>\\x18Ku\\xbf\\xff\\xda\\x00\\x08\\x01\\x02\\x11\\x01?\\x01\\xfd\\x8b\\xc2\\x0f\\x1c\\xbb\\xab\\xc29\\x1d\\xb24\\x1b\\xe1\\x00#A\\xac\\xfci\\xc8\\xf0\\xc7\\xc6\\xa7Ixh s\\xa8i\\xdb\\xe1\\xce+Hyk@\\x804 \\x1f/\\xb3\\x168\"\\nC\\xb7\\x96B\\x9f\\xff\\xda\\x00\\x08\\x01\\x01\\x00\\x06?\\x02\\xff\\x00|\\xba\\xf6\\xab\\xe3\\xdb\\x87\\xf3||\\x9d+\\xf6\\xf6\\xd1OB\\xf5\\x0f\\xd1\\xeb\\xf7\\xfd\\x19\\xd5\\x9a\\xb0O\\x17\\xc1\\xfa<\\x92\\xfeL\\xb1C\\xf7\\xce\\xbc\\x1f\\xf5\\xb0=^\\xa5\\xd0\\x1e\\xdaw\\xd1\\xf1|k\\xf7\\r\\x0e\\x94t\\xd2\\xbaj\\xe8\\xd4*E\\x13\\xe4\\xf8\\x97\\xc5\\x83\\xa8\\xab\\x1dJ}\\\\{i\\xc4:\\xe8\\xd2k\\xdf\\xec\\xec\\xb64j_\\x98\\xf2\\xf8>\\x94\\xd5>D0(@\\xf3-8\\xf0Oa\\xc2\\xbd\\xc1\\xf2\\xe0\\xf4\\xd3\\xd0\\xba\\x1d~=\\xf1O\\x13\\xe6\\xc5^\\xadx\\xf0\\xabP\\xf4\\x7fG\\\\|\\xd8\\x05\\x1aR\\x85\\xf1,%>]\\xb4e5\\x1a=|\\x9aN\\x94\\xf4\\x1d\\xc58\\x07\\xd4\\x9e\\xc41\\x89\\xf8\\x17\\xd72\\xab\\xf6Q\\xd4\\x1c\\x87j\\x8f\\xb7\\xbdi\\xa7\\x9bJ\\xa8\\xca\\xfbc\\xe6\\xd4\\x08\\xec;P\\xb09z\\xfa\\xbd4t\\xee=\\x1a\\xd3_O\\xb88p\\xfdm@\\xf9\\x87\\xc3_6\\x07\\x97\\x9f\\xdd\\x1fs\\xcf\\xe2\\xce\\xbc;\\xf5z\\xd6\\x8c\\x80\\x96\\xa4\\x9f2\\xe9\\xf0?v_\\x82k\\xf8}\\xca \\xf1\\xf5x\\x90?\\x1e\\xe7\\xe0\\xfe\\x1c+\\xe6\\x18Q\\xd4\\x16\\x0b&\\x9en\\xbd\\xe5\\xff\\x00u\\x9f\\xb9\\xae\\x83\\xf1`\\x9e\\xdd<Z$\\xfb\\x15\\xf2-i\\xfb]=;\\xd0w\\x90~\\xd2i\\xf7\\x0b\\xc4\\xfd\\x9d\\xb2\\x1f\\xbcG\\x1f\\x88\\xf5u\\xfc\\xab\\xe3\\xf0-\\n\\xf3\\x7fg\\xf3E\\xfe\\xb6\\x0f\\xab\\xff\\xc4\\x003\\x10\\x01\\x00\\x03\\x00\\x02\\x02\\x02\\x02\\x02\\x03\\x01\\x01\\x00\\x00\\x02\\x0b\\x01\\x11\\x00!1AQaq\\x81\\x91\\xa1\\xb1\\xc1\\xf0\\xd1\\x10\\xe1\\xf1 0@P`p\\x80\\x90\\xa0\\xb0\\xc0\\xd0\\xe0\\xff\\xda\\x00\\x08\\x01\\x01\\x00\\x01?!\\xff\\x00\\xf4\\x99\\xff\\x00\\xf3\\x00\\x95\\x05\\t=Xp\\xe2\\xa8\\t^ \\x8f\\xa7)\\xa4\\xab\\x98}X-\\xe4\\xff\\x00\\xf2@%h\\x90\\xe1\\xfd\\xa9@v\\xe5t\\x88Sv\\xaePO3\\xfc\\xd8 \\x0cT%\\x8fsd\\x13\\xc3\\x84\\xfe\\xea0}\\x1f\\xff\\x00\\x11\\x8f7^\\xc12\\xb2\\x80\\xee\\xfb\\xb2\\xef\\xb3\\x93N\\x82\\xb3\\xe8\\xaf\\x06\\x95\"\\xcb\\x9b\\xaeHY\\x91\\x80\\xd2}\\xbd\\xd9\\x820\\xc4H\\xdf*1F\\x7f\\xeb\\xc5\\x02\\xcb\\xa9\\x9e\\xa2\\xc8\\x8e\\xb8fV\\xd7\\x97:e\\tn\\xab\\xc3fqF\\xc2\\xd9\\xfb\\xac,\\xa4\\xa4\\xc8wW\\xd3\\xba\\xb3\\x01\\xbc\\xf9\\x8f\\x8a`\\x9dM;\\xa2\\xe4]?\\xf5\\xc0\\x17\\'n\\xa4;\\x0ft\\xce\\t`\\x8f\\xe7\\xe6\\xc7\\xca\\x93\\x8a\\xbb\\xcbo\\x04\\xeb\\xed\\xa1rY\\xc2\\xa00H\\xcf\\x8b\\xc7\\x1f\\xe2\\x95\\x8e_\\xab\\xcf\\x9a2W\\xdd\\xc9c\\x92v\\xbcg\\xd7\\xee\\x88\\x0c\\xc9/q\\xff\\x00bFI/\\xab\\x83\\x8b\\xce=\\xeb\\xee\\xc5\\x11\\x0c\\xb0\\x97\\'\\xdb\\xb1d3s\\x03\\xaf\\rR \\xed\\x91E\\x00!3\\xc3\\x96\\x0c#}\\xd8R \\xcc\\xff\\x00\\x98.3\\x81\\xa8\\xb5\\x99\\xa2\\xce2\\x88\\x11P\\xbdY\\x1d\\xdd\\xc0\\x87R\\'\\xff\\x00k\\xa5\\x07\\n\\xa6/\\xe0T;\\x03\\x0f\\xb8\\xba<\\'\\x86\\xe0/\\x07t\\xc8<\\xff\\x00TI2:\\xcd\\x8a+Z\\x829\\xa0\\xc1\\x82\\xf1QC:\\xb1r\\x7f\\xe5L\\xc6C\\xbd\\x94\\x89\\x03\\xb1\\xeb\\xf3P\\x86\\x81\\xe8\\x9e\\xff\\x00\\xe4\\x85\\xe6\\xa8r~\\xeci\\xc1/\\xcf\\x8a\\xf9\\x87(\\xb5\\xdbW\\x80Z c\\x18`\\\\bz\\xaf2\\xb0\"\\xafj\\xa2\\x96\\x14\\\\\\xb1\\x1d|\\xd8\\xa2&!\\xf7U\\xd2\\x07\\x83\\xfb\\xff\\x00\\x9b\\x04\\xcc\"<M\\xd0\\x813\\xbc\\xd9Q\\x1c8;\\xba\\xa4\\x89\\x1eox\\xdd\\xc0\\x8e\\xd1\\xc1\\x9e\\x97`\\xef?\\xeb@^\\xd9\\xe2l\\x05\\xad\\x07M=\\xf99\\'?\\xecOQ\\x0e\\xfbp\\xde*f3\\xb8\\xf1E\\x10\\x88ysu>\\xa5\\x1e)I\\x00\\x17\\x0fT\\xceX\\xbc\\xd6X\\x96\\xc6?\\xf4\\x9bN\\xb9\\xa6\\x07@\\xf0\\xa1\\t2\\x06\\x90\\xff\\x00\\xc8[(Jp<\\xdc\\xd3 A`\\x9d\\x1d|\\xcbN9H\\x99=XHN*\\x16\\x9c\\xac\\x1b\\xe4\\xa1\\x0cNo\\xb5`\\xff\\x00\\xc9O\\xbeh\\xd0\\x8e_K\\xb2\\t\\x95\\xd3\\'35H6B\\xcc#\\xbc\\x8a\\xf0\\xf2\\xd7\\xc8\\xff\\x00\\xaa\\x1f\\x87\\x1f\\xbb!\\xbagh\\xa7\\x81,\\xf1@\\x8a\\x9b\\xbb\\x9eY\\xe7\\x13\\xf1?\\xcd\\xe2{\\x8a\\x96)\\x16\\x1e\\x1c\\xc6&\\xc4\\x8c\\xf6\\xf3?\\xf1\\x0b,\\xf5\\xf1J\\x0f\\x9f\\xee>\\xa8\\x99\\xff\\x00\\xaa\\xe5\\xdevYE\"wV\\xf0\\x9a\\xf5-\\x8d\\xcb7\\x95\\xa6\\x16eIZ\\x8f\\xf8\\x06\\x03\\xc2V%\\xb1\\x7f/\\xf8\\xe1$@\\xd0\\x9d\\x18(*\\xc58\\x04\\xdeXb\\xb3\\xfe\\x03\\xc5\\xe7\\xfe\\x95\\xe5\\xff\\x00\\x0e_\\x8b\\xfdU\\x88O\\x14b\\xf0&\\xff\\x00\\xff\\xda\\x00\\x0c\\x03\\x01\\x00\\x02\\x11\\x03\\x11\\x00\\x00\\x101\\xcc0\\x80\\x01\\x0c\\xc0\\x1e\\x8fq\\xe4dU\\xce\\xfa(\\x92Q\\xc8\\x0c`\\xcb\\xbe\\xcaRE\\xe8\\x04\\xb0[\\xaf{=\\xff\\x00[\\xf4\\x08\"\\x04\\xde\\x92\\x8c\\xc5D1\\xde\\x1d\\xd7\\xff\\xc4\\x003\\x11\\x01\\x01\\x01\\x00\\x03\\x00\\x01\\x02\\x05\\x05\\x01\\x01\\x00\\x01\\x01\\t\\x01\\x00\\x11!1\\x10AQa q\\xf0\\x91\\x81\\xa1\\xb1\\xd1\\xc1\\xe1\\xf10@P`p\\x80\\x90\\xa0\\xb0\\xc0\\xd0\\xe0\\xff\\xda\\x00\\x08\\x01\\x03\\x11\\x01?\\x10\\xff\\x00\\xe4\\x16\\x05\\xa7\\xd2\\xc1\\xeaL\\xf4\\x080>\\xad\\x90\\xf8>\\x08\\\\\\xc3\\xef2\\xeb\\xa6\\xe1$\\xc8\\x8e\\xac\\x1f\\xa6I>\\x1d\\xb7\\xf2f\\x1fi\\xb4]|\\r\\x8b0\\xb28>y\\xb1\\xd6\\xb3\\x7f\\xa5\\xd6\\x1a\\xf7\\xac\\x96\\x19\\x9f\\x19\\xe1\\xea\\xef,;\\x90_\\x8c\\x82q\\x1c\\xb8\\xd3\\x03\\x8f;]\\xa7\\xeas\\'\\x8a\\xef\\x1c\\\\\\xb5\\xdf\\xf6X]\\xa7\\xdc\\x80\\xae}a\\xe7\\xc7\\t\\xb8#\\xe2\\x08\\xa5\\xf5 \\xa6\\x85>\\xdf\\xe2_\\x83~y\\x9f\\x896\\x1d\\xfdg\\xe43\\x1b\\xff\\xda\\x00\\x08\\x01\\x02\\x11\\x01?\\x10\\xff\\x00\\xe4\\xb6\\xad\\x9f{R\\x1d\\xf5V\\\\/\\xd2\\xe61\\\\\\x96\\xfd\\xa4\\x03\\xf5\\xba\\x87f\\xcem\\x1b(\\xe4\\xcb+\\xc1\\xdc\\x00\\xe2e\\x9eo1\\xd6\\xecb\\x07\\xd2^\\xceA\\x0e\\xee\\xfc\\xec\\xc7wH6`\\x8f\\xbc\\xe1\\xa2\\x11g]|z\\xbaF\\xbe!t>e\\xc2|\\xda\\xc9\\xe7\\xf6\\x94\\x1c\\xc9\\xe3\\x90A\\xc0\\xc6\\xa0\\x13\\xef9\\xb9\\xa0\\xc0\\x1d\\\\\\x87\\x98\\x1c\\x9e\\xa1\\xce_\\xff\\xda\\x00\\x08\\x01\\x01\\x00\\x01?\\x10\\xff\\x00\\xf4y,\\x9el3M\\xff\\x00\\xf3\\x15\\x109\\\\*\\xf9\\xe2e\\xf1\\x17v\\xfbd\\xd8\\xc8\\x0c0\\x88\\x93\\xf1\\xd7\\xcd\\x9b?\\x18\\x19Xv\\xa6\\xd3#\\xe3Q\\xf9\\'\\x8a`\\x0c\\xc8\\x13\\xa8s\\xff\\x00\\xe4\\xae\\x04\\x04\\xd2E\\x04\\xaci+\\xfc\\x9b\\x0b\\xdb)\\x1c\\xf7\\xf5x\\xa1\\\\|=\\xfc\\xe4\\xd8DD\\x9a\\xf0\\xef\\x07\\x83\\xcdbCO$a\\x8a>\\xea\\xe1Dt!\\xf9\\xf8\\xea.\\xed\\xa4\\x89`\\x8e\\x039\\x14\\xdeR\\x0fC>}\\xde\\xbf\\xe3\\xcf\\xfcP\\xb3\\xe0TH\\x15\\x88H\\x0c\\xd8Hu\\xf9\\xf5H:\\x08\\x18\\x14\\x17 \\x11\\xc9\\xf28\\x92\\x90\\xa0\\x18\\x03^\\x8a\\xe6\\x07\\x111\\xb7\\x82\\xba\\x80&|\\xd2;\\x9ayC\\xdd\\x1d4\\x8cf\\x1b\\xc03\\x15P\\x80\\x16\\x98\\x89\\xc9\\x1f>\\xae\\xf1V\\x02C; \\xa3\\xa0ho\\xfeM\\n\\xef\\xfe\\x12O\\xaa\\x87\\xbc\\x8c\\xc0F\\xc7\\xbaV\\x12\\x130\\x9c\\x028\\x9e\\xaa\\x9a\\x13H`\\x0f\\x03\\xee(\\xf0w\\xbc@\\x1b\\x1e\\x8e\\xeb4\\xe8\\x0e\\xccW\\x96\\xfc \\xf1\\xf5]\\xb1>\\xe9S\\x83\\t\\x1c\\xc5\\x8b\\x00\\xa2?\\x8b*Tx\\t\\x87j\\x88\\xf0\\xc1\\x98\\t\\xc0mE\\xa2#\\x80\\xe2\\'\\x87c\\xf3A3~\\x1d\\xfcW\\xfe=\\t\\xd0b}P\\xc42\\xc3\\x04\\x8c\\xcf\\x92\\xb1\\x1d\\xc0H\\x01:\\x7fj\\xbe#\\x91\\xcf\\x04s\\xdd\\xd1\\\\\\x04x\\xb7\\xae69\\xa3\\x89\\xc8\\x15X\\x94\\x9f6e \\xb6\\x9e<wZ\\xc3Y4O\\x03y\\xbe(\\x00x\\xf3\\xd9B\\xab\\x10\\xccB\\xa3\\x98*\\t08\\xe2k\"\\x1b+\\xbf!\\x11\\xc4~\\xeb\\'\\x19SBK\\x1e^~\\xdbS\\x93\\xc6\\x9baS\\xc7\\xff\\x00h\\x88W\\n\\x1e\\xf4\\x19\\xed<\\xfd\\xf1c\\x10#\\xf8\\xf7D\\x9c`w\\x05\\x03\\xf7\\x11p\\x16q\\xe7|}\\xd6V\\xe7zE\\xff\\x00\\xa1M?YC\\xad\\x00\\xd18\\x9ak8\\x838\\xd81\\x97\\x82\\xa5\\xb8\\t\\x88\\xfe$\\xc5_r\\x94\\x8fF\" \\xfej\\x98\\x18$\\xb9\\xe5\\x90\\xaa9\\x08\\x99^\\xfe7\\xaa\\xda\\x04\\xa7DK\\x1b%%\\x9c\\x11\\x80\\xa5G\\xc21\\xe6\\xc0\\x9a\\x19Ht:158\\xb8\\x08\\x05\\x1c#\\xc0\\xee\\x95\\x02\\x90\\xa0\\x17\\x9b\\xc0\\x90\\xf2\\x08\\x08N\\xfc\\xd8\"i7\\n\\x012\\x1f\\x14\\xe0\\xf8\\xba\\x0c\\xc8_\\x1e\\xec\\x92\\x91\\x18:#\\xcb\\xcdv2Q^\\x0eBT\\x86H&K\\xb4\\'\\x1eh0\\x14)\\x92D\\xcb\\x19\\xea)H*`\\x8e|\\xa3@\\xa4\\x91U\\x95\\\\\\xd5\\xe6\\x82\\x95\\x01\\x9b\\xdb\\xcc\\x1e\\xec\\x88\\xd1\\x08\\xa1\\x0c\\xf97\\xaa\\xe2\\x94\\xe6\\x84\\xd9c\\x93\\xdd,\\\\\\xa4\\x17<\\xc2\\xc9C\\x91\\xa0S\\x1chT\\x89\\x1d\\xff\\x00\\xaf\\xf9)\\x92a\\x8a+\\x10E\\xa0NFr\\xcb\\x17I\\x15\\xc1\\x0egO>\\xdf\\xab\\xa3\\t\\xbf\\xcf_U\\xb4:\\xe6\\x8d\\xa0\\x12z\\xe4\\xfcW&\\x00b\\x03\\xa0z\\xbe\\x198a\\xfd\\xa9W\\xa5\\xe2A\\xa2\\xe0\\x95\\x08\\xdf\\x07\\xaa\\xab\\xc7\\xba\\x98 _\\x0f\\x98\\xf1I44\\x0f\\x01\\xfd2\\xcbR\\xe4\\x1a.\\x15\\xd3\\x1f\\xcd\\x1c2B\\x02A\\x8e>C\\xfeh2@\\x18\\x80\\x99z\\x9e\\x0b2\\x08d\\x0e\\xa2\\nu\\xea\\x96AC<\\xb9W\\xc4\\xf2Ej\\xa0\"F;\\xf6\\xd0\\xdc\\x91\\xb7\\xcbb\\t\\xf3\\xf3b\\xc8\\x07\\x06\\xbe\\xe8\\xab)\\xb0\\xe2j\\x08\\xef!\\xd1\\xdd)4I\\x10\\xa0\\x1c\\x84Mg\"N:J\\'\\xceaf\\x0eHD\\xc8\\x92a\\xf8\\xa4\\x00\\x00\\x05i\\xc0\"BR\\xc1\\x10`\\x136\\x00\\xd0\\x03r\\xe0\\xc3\\x92y\\xf3M\\x94\\x02C4\\x18\\xf2\\x05\\x8c\\xb2\\xc0\\x1c$\\xbco\\xab#\\xe6@\\x80\\xe0A\\xf1W\\xbc,Q99T\\xde\\xc6\\xc5C\\x06\\x05\\xa7\\x1cPx\\xaf\\xb2>\\xe2\\x7f\\x92\\xe4\\xe11V\\x12:\\xfd\\\\\\x80\\x00/\\x1f\\x08\\xc7\\x1f\\xf0D\\x06\\xd4\\xd8\\x00\\x90\\x0c\\x85\\x9ew\\xb3\\x8a\\xc4\\xaeT\\x19\\xc1\\x0f\\x82\\x8dop\\xe3\\xc9\\xf1\\xd7\\xaaY\\xa1\\xe6G\\x0c\\xce\\xbb\\xacP8\\xc4D&]\\x01\\xcd\\x8d\\x04)\\xe3\\x8a<\\x06\\xc8\\xdeP\\x85\\xe0a\\x93\\x15\"xl\\xc1\\xee\\x874\\xe0)\\x04\\x83\\x12<\\x9f\\r0\\x8a\\xa8\\xc0L/\\xdb\\xd5O!@K\\x0c\\xa0\\x12b\\x06\\x89\\x9c \\x9fu\\x1c\\x10R8\\x1a\\x1b\\x92x~\\x1a\\xb3x1\\x85\\x89\\x87\\x9a\\x88\\x03\\xbc\\xb3\\x1e\\x1e\\xfb\\x9e\\xee\\x0f\\xdc#$\\x18\\x98\\xf3d\\xfd\\xb6CN\\x99\\x94\\xc8\\xe4\\xc9ADa\\xe6\\x92\\x85\\xb4e\\x1f \\xec\\xf8~\\xab\\xa4Z\\x93\\xf7Px\\xb2\\x93+\\xd3\\xcda\\'\\x04\\x87\\xf9\\x15\\x18n`\\xd42^c\\xe3\\x8af]\\x8c\\x15\\x9e/c\\xe4\\xa4\\x80 \\x91\\xdaA\\xf6mv\\xb1a\\xe1\\x1d\\x9f%\\x81\\x98\\x90\\x1ew\\xc5\\xcai$R\\x84\\x826Nlv\\xf8&\\xc9\"wC\\xb4N\\xc8\\xd5\\xc5\\x88p2Vft\\xa6\\xa4\\xf8+\\xa7=Xx*\\xe0\\xa6\\xcfO<\\xddsn\\x99E\\xbc\\xbe\\x7f\\x9b\\x16S\\x8aW\\x1dc\\xca\\x1c\\xf9(\\xb8\\x04<\\x1a|<\\x962 \\x04\\xf2\\x07\\x1f\\x8b\\x18\\x94\\x87\\xc0\\xa5\\t\\xc4P\\xb9\\xebi\\x01O\\xbaYc\\xba\\x8e\\xff\\x004\\xc1x\\xa9\\x9ft\\x0f\\xa1\\xd0~\\x03\\xf7/\\xf1I\\xe7\\x1fdJ\\x7f\\x15-\\x90\\x8f\\x87o\\xff\\xd9'\n"
     ]
    }
   ],
   "source": [
    "for user in users:\n",
    "    resp = requests.get(user['avatar'])\n",
    "    print(resp.content)\n",
    "    break"
   ]
  },
  {
   "cell_type": "code",
   "execution_count": 17,
   "metadata": {},
   "outputs": [],
   "source": [
    "for user in users:\n",
    "    resp = requests.get(user['avatar'])\n",
    "    image = resp.content\n",
    "    filename = user['first_name']\n",
    "    \n",
    "    # sava image\n",
    "    path = f'Images\\\\{filename}.jpg'\n",
    "    with open (path,mode = 'wb') as file:\n",
    "        file.write(image)"
   ]
  }
 ],
 "metadata": {
  "kernelspec": {
   "display_name": "Python 3.8.8 ('base')",
   "language": "python",
   "name": "python3"
  },
  "language_info": {
   "codemirror_mode": {
    "name": "ipython",
    "version": 3
   },
   "file_extension": ".py",
   "mimetype": "text/x-python",
   "name": "python",
   "nbconvert_exporter": "python",
   "pygments_lexer": "ipython3",
   "version": "3.8.8"
  },
  "orig_nbformat": 4,
  "vscode": {
   "interpreter": {
    "hash": "f08154012ddadd8e950e6e9e035c7a7b32c136e7647e9b7c77e02eb723a8bedb"
   }
  }
 },
 "nbformat": 4,
 "nbformat_minor": 2
}
