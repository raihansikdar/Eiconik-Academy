{
 "cells": [
  {
   "cell_type": "code",
   "execution_count": 2,
   "metadata": {},
   "outputs": [
    {
     "name": "stdout",
     "output_type": "stream",
     "text": [
      "Full Name: Raihan@Sikdar\n"
     ]
    }
   ],
   "source": [
    "# Taking Input from user\n",
    "first_name = input(\"Enter First Name: \")\n",
    "last_name = input(\"Enter Last Name: \")\n",
    "\n",
    "# Below Line will ad first_name and last_name\n",
    "fullname = first_name+\"@\"+last_name\n",
    "\n",
    "\"\"\"\n",
    "This is Multi Line comment\n",
    "\"\"\"\n",
    "print(\"Full Name:\", fullname)"
   ]
  },
  {
   "cell_type": "code",
   "execution_count": 6,
   "metadata": {},
   "outputs": [
    {
     "name": "stdout",
     "output_type": "stream",
     "text": [
      "loading\n"
     ]
    }
   ],
   "source": [
    "data = \"loading\"\n",
    "print(data)"
   ]
  },
  {
   "cell_type": "code",
   "execution_count": 10,
   "metadata": {},
   "outputs": [
    {
     "name": "stdout",
     "output_type": "stream",
     "text": [
      "Error\n"
     ]
    }
   ],
   "source": [
    "error = \"Error\"\n",
    "print(error)"
   ]
  },
  {
   "cell_type": "markdown",
   "metadata": {},
   "source": [
    "## Task"
   ]
  },
  {
   "cell_type": "code",
   "execution_count": 9,
   "metadata": {},
   "outputs": [
    {
     "name": "stdout",
     "output_type": "stream",
     "text": [
      "Raihan . Al . Mamun @gmail.com\n"
     ]
    }
   ],
   "source": [
    "first_name = input(\"Enter first name:\")\n",
    "middle_name = input(\"Enter middle name:\")\n",
    "last_name = input(\"Enter last name:\")\n",
    "\n",
    "print(first_name,\".\",middle_name,\".\",last_name,\"@gmail.com\")\n"
   ]
  },
  {
   "cell_type": "code",
   "execution_count": 2,
   "metadata": {},
   "outputs": [
    {
     "name": "stdout",
     "output_type": "stream",
     "text": [
      "Raihan\n"
     ]
    }
   ],
   "source": [
    "print('Raihan')"
   ]
  }
 ],
 "metadata": {
  "kernelspec": {
   "display_name": "Python 3.8.8 ('base')",
   "language": "python",
   "name": "python3"
  },
  "language_info": {
   "codemirror_mode": {
    "name": "ipython",
    "version": 3
   },
   "file_extension": ".py",
   "mimetype": "text/x-python",
   "name": "python",
   "nbconvert_exporter": "python",
   "pygments_lexer": "ipython3",
   "version": "3.8.8"
  },
  "orig_nbformat": 4,
  "vscode": {
   "interpreter": {
    "hash": "f08154012ddadd8e950e6e9e035c7a7b32c136e7647e9b7c77e02eb723a8bedb"
   }
  }
 },
 "nbformat": 4,
 "nbformat_minor": 2
}
