{
 "cells": [
  {
   "cell_type": "markdown",
   "metadata": {},
   "source": [
    "1.Write a Python program to check vowels present in a word using a list and also\n",
    "show the total count of them."
   ]
  },
  {
   "cell_type": "code",
   "execution_count": 1,
   "metadata": {},
   "outputs": [
    {
     "name": "stdout",
     "output_type": "stream",
     "text": [
      "['r', 'a', 'i', 'h', 'a', 'n', 'l', 'o', 'v', 'e', 'v', 'o', 'w', 'e', 'l']\n",
      "Vowel in RaihanLoveVowel are ['a', 'i', 'a', 'o', 'e', 'o', 'e'] sum =  7\n",
      "Consonant in RaihanLoveVowel are ['r', 'h', 'n', 'l', 'v', 'v', 'w', 'l'] sum =  8\n",
      "a = 2\n",
      "e = 2\n",
      "i = 1\n",
      "o = 2\n",
      "u = 0\n"
     ]
    }
   ],
   "source": [
    "#del list\n",
    "my_word = \"RaihanLoveVowel\"\n",
    "word = my_word.lower()\n",
    "my_list = list(word)\n",
    "print(my_list)\n",
    "\n",
    "vowel = []\n",
    "consonant = []\n",
    "\n",
    "count = 0\n",
    "con_count = 0\n",
    "a = e = i = o = u = 0\n",
    "\n",
    "for ch in my_list:\n",
    "    if(ch == 'a' or ch == 'e' or ch == 'i' or ch == 'o' or ch == 'u'):\n",
    "        vowel.append(ch)\n",
    "        count = count + 1\n",
    "        if(ch == 'a'):\n",
    "            a = a+1\n",
    "        elif(ch == 'e'):\n",
    "            e += 1\n",
    "        elif(ch == 'i'):\n",
    "            i += 1\n",
    "        elif(ch == 'o'):\n",
    "            o += 1\n",
    "        elif(ch == 'e'):\n",
    "            u += 1\n",
    "    else:\n",
    "        consonant.append(ch)\n",
    "        con_count +=1\n",
    "\n",
    "print(\"Vowel in {} are {} sum = \".format(my_word,vowel), count)\n",
    "print(\"Consonant in {} are {} sum = \".format(my_word,consonant), con_count)\n",
    "print(\"a =\", a)\n",
    "print(\"e =\", e)\n",
    "print(\"i =\", i)\n",
    "print(\"o =\", o)\n",
    "print(\"u =\", u)\n"
   ]
  },
  {
   "cell_type": "markdown",
   "metadata": {},
   "source": [
    "2. Write a Python program to count different denominations (note of 2000, 500, 100, 50,\n",
    "20,10, 5, 2, 1) for a given amount of money.\n",
    "\n",
    "<img src=\"pic.PNG\" width = 500px align= \"center\">"
   ]
  },
  {
   "cell_type": "code",
   "execution_count": 3,
   "metadata": {},
   "outputs": [
    {
     "name": "stdout",
     "output_type": "stream",
     "text": [
      "Currency Count ->\n",
      "500 : 1\n",
      "100 : 3\n",
      "50 : 1\n",
      "10 : 1\n",
      "5 : 1\n",
      "2 : 1\n",
      "1 : 1\n"
     ]
    }
   ],
   "source": [
    "main_money = 868\n",
    "money = main_money\n",
    "d_note = [2000, 500, 100, 50, 20, 10, 5, 2, 1]\n",
    "notesCount ={}\n",
    "count = 0\n",
    "\n",
    "for i in d_note:\n",
    "   if(money >= i):\n",
    "      notesCount[i] =  money//i\n",
    "      money = money % i\n",
    "    \n",
    "print (\"Currency Count ->\")\n",
    "for key, val in notesCount.items():\n",
    "   print(f\"{key} : {val}\")"
   ]
  },
  {
   "cell_type": "markdown",
   "metadata": {},
   "source": [
    "3. Pooja would like to withdraw X $US from an ATM. The cash machine will only\n",
    "accept the transaction if X is a multiple of 5, and Pooja's account balance has\n",
    "enough cash to perform the withdrawal transaction (including bank charges).\n",
    "For each successful withdrawal the bank charges 0.50 $US.\n",
    "Calculate Pooja's account balance after an attempted transaction.\n",
    "<img src=\"pic_2.PNG\" width = 500px align= \"center\">"
   ]
  },
  {
   "cell_type": "code",
   "execution_count": 4,
   "metadata": {},
   "outputs": [
    {
     "name": "stdout",
     "output_type": "stream",
     "text": [
      "Total cash: 120\n",
      "Want to withdrow: 30\n",
      "Pooja's account balance after an attempted transaction : 89.5\n",
      "Charge:0.50\n"
     ]
    }
   ],
   "source": [
    "actual_cash = 120\n",
    "withdrowal_cash = 30\n",
    "\n",
    "print(\"Total cash:\",actual_cash)\n",
    "print(\"Want to withdrow:\",withdrowal_cash)\n",
    "\n",
    "amount = 0\n",
    "if(withdrowal_cash % 5 ==0 and actual_cash > withdrowal_cash):\n",
    "    amount = (actual_cash - withdrowal_cash) - 0.50\n",
    "    print(\"Pooja's account balance after an attempted transaction :\",amount)\n",
    "    print(\"Charge:0.50\")\n",
    "else:\n",
    "    print(\"Pooja's account balance after an attempted transaction :\",actual_cash)"
   ]
  },
  {
   "cell_type": "markdown",
   "metadata": {},
   "source": [
    "4. It is the World Cup Finals. Chef only finds a match interesting if the skill\n",
    "difference of the competing teams is less than or equal to D\n",
    "Given that the skills of the teams competing in the final are X and\n",
    "Y respectively, determine whether Chef will find the game interesting or not.\n",
    "\n",
    "<img src=\"pic_3.PNG\" width = 500px align= \"center\">"
   ]
  },
  {
   "cell_type": "code",
   "execution_count": 5,
   "metadata": {},
   "outputs": [
    {
     "name": "stdout",
     "output_type": "stream",
     "text": [
      "5 3 4\n",
      "Yes,interesting\n",
      "5 3 1\n",
      "Not interesting\n",
      "5 5 0\n",
      "Yes,interesting\n"
     ]
    }
   ],
   "source": [
    "t = 3\n",
    "i = 0\n",
    "while(i < t):\n",
    "    x = int(input(\"Enter the value of x :\"))\n",
    "    y = int(input(\"Enter the value of y :\"))\n",
    "    d = int(input(\"Enter the value of d :\"))\n",
    "\n",
    "    print(x, y, d)\n",
    "\n",
    "    if((x-y) <= d):\n",
    "        print(\"Yes,interesting\")\n",
    "    else:\n",
    "        print(\"Not interesting\")\n",
    "    i = i + 1\n"
   ]
  },
  {
   "cell_type": "markdown",
   "metadata": {},
   "source": [
    "5. WAP to Ask the user to guess a fruit name, check how close the guess is. Give\n",
    "users a chance to select the best guess"
   ]
  },
  {
   "cell_type": "code",
   "execution_count": 8,
   "metadata": {},
   "outputs": [
    {
     "name": "stdout",
     "output_type": "stream",
     "text": [
      "Try Again\n",
      "Your guess :  Orange\n",
      "Computer guess :  Mango\n"
     ]
    }
   ],
   "source": [
    "import random\n",
    "guess_name = input(\"Enter fruit name : \")\n",
    "words = [\"Apple\",\"Orange\",\"Banana\",\"Mango\",\"Black Berry\"]\n",
    "terget_name = random.choice(words)\n",
    "\n",
    "if guess_name == terget_name:\n",
    "    print(\"Good Job\")\n",
    "else:\n",
    "    print(\"Try Again\")\n",
    "print(\"Your guess : \",guess_name)\n",
    "print(\"Computer guess : \",terget_name)"
   ]
  }
 ],
 "metadata": {
  "kernelspec": {
   "display_name": "Python 3.8.8 ('base')",
   "language": "python",
   "name": "python3"
  },
  "language_info": {
   "codemirror_mode": {
    "name": "ipython",
    "version": 3
   },
   "file_extension": ".py",
   "mimetype": "text/x-python",
   "name": "python",
   "nbconvert_exporter": "python",
   "pygments_lexer": "ipython3",
   "version": "3.8.8"
  },
  "orig_nbformat": 4,
  "vscode": {
   "interpreter": {
    "hash": "f08154012ddadd8e950e6e9e035c7a7b32c136e7647e9b7c77e02eb723a8bedb"
   }
  }
 },
 "nbformat": 4,
 "nbformat_minor": 2
}
