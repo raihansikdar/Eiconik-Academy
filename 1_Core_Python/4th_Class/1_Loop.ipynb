{
 "cells": [
  {
   "cell_type": "markdown",
   "metadata": {},
   "source": [
    "## While Loop"
   ]
  },
  {
   "cell_type": "code",
   "execution_count": 1,
   "metadata": {},
   "outputs": [
    {
     "name": "stdout",
     "output_type": "stream",
     "text": [
      "1\n",
      "2\n",
      "3\n",
      "4\n",
      "5\n"
     ]
    }
   ],
   "source": [
    "start,stop = 1,5\n",
    "while start<=stop:\n",
    "    print(start)\n",
    "    start = start + 1\n"
   ]
  },
  {
   "cell_type": "code",
   "execution_count": 3,
   "metadata": {},
   "outputs": [
    {
     "name": "stdout",
     "output_type": "stream",
     "text": [
      "5\n",
      "4\n",
      "3\n",
      "2\n",
      "1\n"
     ]
    }
   ],
   "source": [
    "start,stop = 5,1\n",
    "while start >= stop:\n",
    "    print(start)\n",
    "    start = start - 1"
   ]
  },
  {
   "cell_type": "code",
   "execution_count": 4,
   "metadata": {},
   "outputs": [
    {
     "name": "stdout",
     "output_type": "stream",
     "text": [
      "2\n",
      "3\n",
      "4\n",
      "5\n",
      "6\n"
     ]
    }
   ],
   "source": [
    "start,stop = 1,5\n",
    "while start<=stop:\n",
    "    start = start + 1\n",
    "    print(start)"
   ]
  },
  {
   "cell_type": "markdown",
   "metadata": {},
   "source": [
    "## For loop"
   ]
  },
  {
   "cell_type": "code",
   "execution_count": 5,
   "metadata": {},
   "outputs": [
    {
     "data": {
      "text/plain": [
       "range(1, 5)"
      ]
     },
     "execution_count": 5,
     "metadata": {},
     "output_type": "execute_result"
    }
   ],
   "source": [
    "range(1,5)"
   ]
  },
  {
   "cell_type": "code",
   "execution_count": 1,
   "metadata": {},
   "outputs": [
    {
     "data": {
      "text/plain": [
       "[1, 2, 3, 4]"
      ]
     },
     "execution_count": 1,
     "metadata": {},
     "output_type": "execute_result"
    }
   ],
   "source": [
    "list(range(1,5))"
   ]
  },
  {
   "cell_type": "code",
   "execution_count": 19,
   "metadata": {},
   "outputs": [
    {
     "data": {
      "text/plain": [
       "[5, 4, 3, 2, 1]"
      ]
     },
     "execution_count": 19,
     "metadata": {},
     "output_type": "execute_result"
    }
   ],
   "source": [
    "list(range(5,0,-1))"
   ]
  },
  {
   "cell_type": "code",
   "execution_count": 2,
   "metadata": {},
   "outputs": [
    {
     "name": "stdout",
     "output_type": "stream",
     "text": [
      "1\n",
      "2\n",
      "3\n",
      "4\n",
      "5\n"
     ]
    }
   ],
   "source": [
    "for num in range(1,6):\n",
    "    print(num)"
   ]
  },
  {
   "cell_type": "code",
   "execution_count": 3,
   "metadata": {},
   "outputs": [
    {
     "name": "stdout",
     "output_type": "stream",
     "text": [
      "P\n",
      "y\n",
      "t\n",
      "h\n",
      "o\n",
      "n\n"
     ]
    }
   ],
   "source": [
    "s = 'Python'\n",
    "for alpha in s:\n",
    "    print(alpha)"
   ]
  },
  {
   "cell_type": "code",
   "execution_count": 4,
   "metadata": {},
   "outputs": [
    {
     "name": "stdout",
     "output_type": "stream",
     "text": [
      "1\n",
      "2\n",
      "3\n",
      "4\n",
      "526\n",
      "62\n",
      "56\n"
     ]
    }
   ],
   "source": [
    "for num in [1,2,3,4,526,62,56]:\n",
    "    print(num)"
   ]
  },
  {
   "cell_type": "code",
   "execution_count": 5,
   "metadata": {},
   "outputs": [
    {
     "name": "stdout",
     "output_type": "stream",
     "text": [
      "1\n",
      "2\n",
      "3\n",
      "4\n",
      "526\n",
      "56\n",
      "62\n"
     ]
    }
   ],
   "source": [
    "for num in {1,2,3,4,526,62,56}:\n",
    "    print(num)"
   ]
  },
  {
   "cell_type": "code",
   "execution_count": 6,
   "metadata": {},
   "outputs": [
    {
     "name": "stdout",
     "output_type": "stream",
     "text": [
      "roll\n",
      "name\n",
      "dept\n"
     ]
    }
   ],
   "source": [
    "std = {'roll':1, 'name': 'Raihan', 'dept':'CSE'}\n",
    "for var in std:\n",
    "    print(var)"
   ]
  },
  {
   "cell_type": "code",
   "execution_count": 7,
   "metadata": {},
   "outputs": [
    {
     "name": "stdout",
     "output_type": "stream",
     "text": [
      "1\n",
      "Raihan\n",
      "CSE\n"
     ]
    }
   ],
   "source": [
    "std = {'roll':1, 'name': 'Raihan', 'dept':'CSE'}\n",
    "for var in std.values():\n",
    "    print(var)"
   ]
  },
  {
   "cell_type": "code",
   "execution_count": 8,
   "metadata": {},
   "outputs": [
    {
     "name": "stdout",
     "output_type": "stream",
     "text": [
      "('roll', 1)\n",
      "('name', 'Raihan')\n",
      "('dept', 'CSE')\n"
     ]
    }
   ],
   "source": [
    "std = {'roll':1, 'name': 'Raihan', 'dept':'CSE'}\n",
    "for var in std.items():\n",
    "    print(var)"
   ]
  },
  {
   "cell_type": "code",
   "execution_count": 9,
   "metadata": {},
   "outputs": [
    {
     "name": "stdout",
     "output_type": "stream",
     "text": [
      "roll 1\n",
      "name Raihan\n",
      "dept CSE\n"
     ]
    }
   ],
   "source": [
    "std = {'roll':1, 'name': 'Raihan', 'dept':'CSE'}\n",
    "for key,val in std.items():\n",
    "    print(key,val)"
   ]
  },
  {
   "cell_type": "code",
   "execution_count": 10,
   "metadata": {},
   "outputs": [
    {
     "name": "stdout",
     "output_type": "stream",
     "text": [
      "(1, 2, 3)\n",
      "(4, 526, 62)\n",
      "(56, 70, 90)\n"
     ]
    }
   ],
   "source": [
    "for num in [(1,2,3),(4,526,62),(56,70,90)]:\n",
    "    print(num)"
   ]
  },
  {
   "cell_type": "code",
   "execution_count": 11,
   "metadata": {},
   "outputs": [
    {
     "name": "stdout",
     "output_type": "stream",
     "text": [
      "6\n",
      "592\n",
      "216\n"
     ]
    }
   ],
   "source": [
    "for n1,n2,n3 in [(1,2,3),(4,526,62),(56,70,90)]:\n",
    "    print(n1+n2+n3)"
   ]
  },
  {
   "cell_type": "code",
   "execution_count": 12,
   "metadata": {},
   "outputs": [
    {
     "name": "stdout",
     "output_type": "stream",
     "text": [
      "1\n",
      "2\n",
      "3\n",
      "8\n",
      "4\n",
      "526\n",
      "62\n",
      "56\n",
      "70\n",
      "90\n"
     ]
    }
   ],
   "source": [
    "for row in [(1,2,3,8),(4,526,62),(56,70,90)]:\n",
    "    for col in row:\n",
    "        print(col)"
   ]
  },
  {
   "cell_type": "code",
   "execution_count": 13,
   "metadata": {},
   "outputs": [
    {
     "name": "stdout",
     "output_type": "stream",
     "text": [
      "1\n",
      "4\n",
      "9\n",
      "64\n",
      "____\n",
      "16\n",
      "276676\n",
      "3844\n",
      "____\n",
      "3136\n",
      "4900\n",
      "8100\n",
      "____\n"
     ]
    }
   ],
   "source": [
    "for row in [(1,2,3,8),(4,526,62),(56,70,90)]:\n",
    "    for col in row:\n",
    "        print(col**2)\n",
    "    print(\"____\")"
   ]
  },
  {
   "cell_type": "code",
   "execution_count": 14,
   "metadata": {},
   "outputs": [
    {
     "name": "stdout",
     "output_type": "stream",
     "text": [
      "1 4 9 64 \n",
      "16 276676 3844 \n",
      "3136 4900 8100 \n"
     ]
    }
   ],
   "source": [
    "for row in [(1,2,3,8),(4,526,62),(56,70,90)]:\n",
    "    for col in row:\n",
    "        print(col**2, end = \" \")\n",
    "    print()\n",
    "    "
   ]
  },
  {
   "cell_type": "code",
   "execution_count": 15,
   "metadata": {},
   "outputs": [
    {
     "name": "stdout",
     "output_type": "stream",
     "text": [
      "1 Searching...\n",
      "2 Searching...\n",
      "3 Searching...\n",
      "8 Searching...\n",
      "125 Found Data!\n",
      "125 Searching...\n",
      "80 Searching...\n",
      "Done\n"
     ]
    }
   ],
   "source": [
    "for num in [1,2,3,8,125,80]:\n",
    "    if num == 125:\n",
    "        print(num,\"Found Data!\")\n",
    "    print(num,\"Searching...\")\n",
    "print(\"Done\")"
   ]
  },
  {
   "cell_type": "code",
   "execution_count": 16,
   "metadata": {},
   "outputs": [
    {
     "name": "stdout",
     "output_type": "stream",
     "text": [
      "1 Searching...\n",
      "2 Searching...\n",
      "3 Searching...\n",
      "8 Searching...\n",
      "125 Found Data!\n",
      "Done\n"
     ]
    }
   ],
   "source": [
    "for num in [1,2,3,8,125,80]:\n",
    "    if num == 125:\n",
    "        print(num,\"Found Data!\")\n",
    "        break\n",
    "    print(num,\"Searching...\")\n",
    "print('Done')"
   ]
  },
  {
   "cell_type": "code",
   "execution_count": 17,
   "metadata": {},
   "outputs": [
    {
     "name": "stdout",
     "output_type": "stream",
     "text": [
      "1\n",
      "2\n",
      "3\n",
      "Found! 3\n"
     ]
    }
   ],
   "source": [
    "start,stop = 1,5\n",
    "while start<=stop:\n",
    "    print(start)\n",
    "    if start == 3:\n",
    "        print('Found! 3')\n",
    "        break\n",
    "    start = start + 1"
   ]
  },
  {
   "cell_type": "markdown",
   "metadata": {},
   "source": [
    "## Continue"
   ]
  },
  {
   "cell_type": "code",
   "execution_count": 18,
   "metadata": {},
   "outputs": [
    {
     "name": "stdout",
     "output_type": "stream",
     "text": [
      "1\n",
      "2\n",
      "3\n",
      "8\n",
      "Skip!\n",
      "80\n",
      "90\n",
      "Done\n"
     ]
    }
   ],
   "source": [
    "for num in [1,2,3,8,125,80,90]:\n",
    "    if num == 125:\n",
    "        print(\"Skip!\")\n",
    "        continue\n",
    "    print(num)\n",
    "print('Done')"
   ]
  }
 ],
 "metadata": {
  "kernelspec": {
   "display_name": "Python 3.8.8 ('base')",
   "language": "python",
   "name": "python3"
  },
  "language_info": {
   "codemirror_mode": {
    "name": "ipython",
    "version": 3
   },
   "file_extension": ".py",
   "mimetype": "text/x-python",
   "name": "python",
   "nbconvert_exporter": "python",
   "pygments_lexer": "ipython3",
   "version": "3.8.8"
  },
  "orig_nbformat": 4,
  "vscode": {
   "interpreter": {
    "hash": "f08154012ddadd8e950e6e9e035c7a7b32c136e7647e9b7c77e02eb723a8bedb"
   }
  }
 },
 "nbformat": 4,
 "nbformat_minor": 2
}
