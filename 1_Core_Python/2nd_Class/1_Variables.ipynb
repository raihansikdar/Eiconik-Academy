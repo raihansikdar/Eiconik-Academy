{
 "cells": [
  {
   "cell_type": "markdown",
   "metadata": {},
   "source": [
    "## Types"
   ]
  },
  {
   "cell_type": "markdown",
   "metadata": {},
   "source": [
    "## String"
   ]
  },
  {
   "cell_type": "code",
   "execution_count": 3,
   "metadata": {},
   "outputs": [
    {
     "name": "stdout",
     "output_type": "stream",
     "text": [
      "<class 'str'>\n"
     ]
    },
    {
     "data": {
      "text/plain": [
       "str"
      ]
     },
     "execution_count": 3,
     "metadata": {},
     "output_type": "execute_result"
    }
   ],
   "source": [
    "var_1 = \"Python5676\"\n",
    "var_2 = 'Java'\n",
    "print(type(var_1))\n",
    "type(var_2)"
   ]
  },
  {
   "cell_type": "code",
   "execution_count": 6,
   "metadata": {},
   "outputs": [
    {
     "name": "stdout",
     "output_type": "stream",
     "text": [
      "Python5676\n"
     ]
    }
   ],
   "source": [
    "var_1 = \"Python5676\"\n",
    "\n",
    "print(var_1)\n"
   ]
  },
  {
   "cell_type": "code",
   "execution_count": 22,
   "metadata": {},
   "outputs": [
    {
     "name": "stdout",
     "output_type": "stream",
     "text": [
      "P\n",
      "h\n",
      "Python\n",
      "5676\n",
      "Pto5\n",
      "67\n",
      "567\n",
      "5676\n",
      "6765nohtyP\n"
     ]
    }
   ],
   "source": [
    "# Slicing [start:stop:step]\n",
    "print(var_1[0])\n",
    "print(var_1[3])\n",
    "print(var_1[0:6])\n",
    "print(var_1[6:])\n",
    "print(var_1[0:7:2])\n",
    "print(var_1[-1:-3:-1])\n",
    "print(var_1[-4:-1])\n",
    "print(var_1[-4:])\n",
    "print(var_1[::-1])\n"
   ]
  },
  {
   "cell_type": "code",
   "execution_count": 25,
   "metadata": {},
   "outputs": [
    {
     "name": "stdout",
     "output_type": "stream",
     "text": [
      "RAIHAN SIKDAR PYTHON\n",
      "raihan sikdar python\n",
      "Raihan sikdar python\n",
      "Raihan Sikdar Python\n",
      "RAIHAN sIKDAR PYTHON\n",
      "7\n",
      "-1\n",
      "2\n",
      "True\n",
      "True\n",
      "['raihan', 'Sikdar', 'python']\n",
      "['raihansikdar10', 'gmail.com']\n",
      "raihansikdar10@yahoo.com\n",
      "raihansikdar10@gmail.com\n",
      "raihansikdar10@yahoo.com\n",
      "False\n",
      "False\n",
      " Al Mamun \n",
      "Al Mamun\n"
     ]
    }
   ],
   "source": [
    "# methods\n",
    "var_3 = \"raihan Sikdar python\"\n",
    "email = \"raihansikdar10@gmail.com\"\n",
    "print(var_3.upper())\n",
    "print(var_3.lower())\n",
    "print(var_3.capitalize())\n",
    "print(var_3.title())\n",
    "print(var_3.swapcase())\n",
    "print(var_3.find('Sikdar'))\n",
    "print(var_3.find('Mamun'))\n",
    "print(var_3.count('i'))\n",
    "print(email.endswith('@gmail.com'))\n",
    "print(var_3.startswith('raihan'))\n",
    "print(var_3.split())\n",
    "print(email.split('@'))\n",
    "print(email.replace('gmail','yahoo'))\n",
    "print(email)\n",
    "email = email.replace('gmail','yahoo')\n",
    "print(email)\n",
    "print(email.isalpha())\n",
    "print(email.isdigit())\n",
    "\n",
    "var_4 = \" Al Mamun \"\n",
    "print(var_4)\n",
    "print(var_4.strip())\n"
   ]
  },
  {
   "cell_type": "markdown",
   "metadata": {},
   "source": [
    "## Numbers"
   ]
  },
  {
   "cell_type": "code",
   "execution_count": 27,
   "metadata": {},
   "outputs": [
    {
     "name": "stdout",
     "output_type": "stream",
     "text": [
      "<class 'int'>\n"
     ]
    }
   ],
   "source": [
    "num_1 = 456\n",
    "print(type(num_1))"
   ]
  },
  {
   "cell_type": "code",
   "execution_count": 28,
   "metadata": {},
   "outputs": [
    {
     "name": "stdout",
     "output_type": "stream",
     "text": [
      "<class 'float'>\n"
     ]
    }
   ],
   "source": [
    "num_2 = 45.67\n",
    "print(type(num_2))"
   ]
  },
  {
   "cell_type": "code",
   "execution_count": 30,
   "metadata": {},
   "outputs": [
    {
     "name": "stdout",
     "output_type": "stream",
     "text": [
      "(2+3j)\n",
      "<class 'complex'>\n",
      "2.0\n",
      "3.0\n"
     ]
    }
   ],
   "source": [
    "num_3 = 2+3j\n",
    "print(num_3)\n",
    "print(type(num_3))\n",
    "print(num_3.real)\n",
    "print(num_3.imag)"
   ]
  },
  {
   "cell_type": "markdown",
   "metadata": {},
   "source": [
    "## Boolean"
   ]
  },
  {
   "cell_type": "code",
   "execution_count": 31,
   "metadata": {},
   "outputs": [
    {
     "name": "stdout",
     "output_type": "stream",
     "text": [
      "<class 'bool'>\n",
      "False\n"
     ]
    }
   ],
   "source": [
    "b1= True\n",
    "b2 = False\n",
    "print(type(b1))\n",
    "print((b2))"
   ]
  },
  {
   "cell_type": "markdown",
   "metadata": {},
   "source": [
    "## Type Casting or Conversion"
   ]
  },
  {
   "cell_type": "code",
   "execution_count": 33,
   "metadata": {},
   "outputs": [
    {
     "name": "stdout",
     "output_type": "stream",
     "text": [
      "<class 'int'>\n",
      "23\n"
     ]
    }
   ],
   "source": [
    "age = '23'\n",
    "age = int(age)\n",
    "print(type(age))\n",
    "print(age)"
   ]
  },
  {
   "cell_type": "code",
   "execution_count": 34,
   "metadata": {},
   "outputs": [
    {
     "name": "stdout",
     "output_type": "stream",
     "text": [
      "<class 'float'>\n",
      "23.0\n"
     ]
    }
   ],
   "source": [
    "age = '23'\n",
    "age = float(age)\n",
    "print(type(age))\n",
    "print(age)"
   ]
  },
  {
   "cell_type": "code",
   "execution_count": 35,
   "metadata": {},
   "outputs": [
    {
     "name": "stdout",
     "output_type": "stream",
     "text": [
      "<class 'complex'>\n",
      "(23+0j)\n"
     ]
    }
   ],
   "source": [
    "age = '23'\n",
    "age = complex(age)\n",
    "print(type(age))\n",
    "print(age)"
   ]
  },
  {
   "cell_type": "code",
   "execution_count": 4,
   "metadata": {},
   "outputs": [
    {
     "name": "stdout",
     "output_type": "stream",
     "text": [
      "45\n",
      "(45.678+0j)\n"
     ]
    },
    {
     "data": {
      "text/plain": [
       "'45.678'"
      ]
     },
     "execution_count": 4,
     "metadata": {},
     "output_type": "execute_result"
    }
   ],
   "source": [
    "w = 45.678\n",
    "print(int(w))\n",
    "print(complex(w))\n",
    "str(w)"
   ]
  },
  {
   "cell_type": "code",
   "execution_count": 5,
   "metadata": {},
   "outputs": [
    {
     "name": "stdout",
     "output_type": "stream",
     "text": [
      "4\n"
     ]
    }
   ],
   "source": [
    "m = \"abc4\"\n",
    "print(int(m[-1]))"
   ]
  }
 ],
 "metadata": {
  "kernelspec": {
   "display_name": "Python 3.8.8 ('base')",
   "language": "python",
   "name": "python3"
  },
  "language_info": {
   "codemirror_mode": {
    "name": "ipython",
    "version": 3
   },
   "file_extension": ".py",
   "mimetype": "text/x-python",
   "name": "python",
   "nbconvert_exporter": "python",
   "pygments_lexer": "ipython3",
   "version": "3.8.8"
  },
  "orig_nbformat": 4,
  "vscode": {
   "interpreter": {
    "hash": "f08154012ddadd8e950e6e9e035c7a7b32c136e7647e9b7c77e02eb723a8bedb"
   }
  }
 },
 "nbformat": 4,
 "nbformat_minor": 2
}
