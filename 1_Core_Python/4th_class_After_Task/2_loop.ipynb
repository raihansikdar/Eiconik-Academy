{
 "cells": [
  {
   "cell_type": "markdown",
   "metadata": {},
   "source": [
    "# Smartdoor"
   ]
  },
  {
   "cell_type": "code",
   "execution_count": 9,
   "metadata": {},
   "outputs": [],
   "source": [
    "# 1) original_password = open@123, security_answer = 'black'\n",
    "# 2) that will take password form user , if matches then it will print door opening\n",
    "# 3) else it wll say worng password and try again\n",
    "# 4) max worng try can be 3\n",
    "# 5) if it reach to max worng password then ask security quistion to reset password\n",
    "# 6) if the user gives correct answer then update orginal password\n",
    "# 7) let him try to login again\n",
    "# 8) if worng security answer,then just lock the door\n"
   ]
  },
  {
   "cell_type": "code",
   "execution_count": 10,
   "metadata": {},
   "outputs": [
    {
     "name": "stdout",
     "output_type": "stream",
     "text": [
      "worng password and try again\n",
      "worng password and try again\n",
      "123\n"
     ]
    }
   ],
   "source": [
    "original_password = 'open@123'\n",
    "original_security_answer = 'black'\n",
    "\n",
    "password = input(\"Enter your password 1st time:\")\n",
    "if password == original_password:\n",
    "    print(\"Door will open\")\n",
    "else:   \n",
    "    print('XXX-- Worng password and try again.--XXX')\n",
    "    print()\n",
    "    password = input(\"Enter your password 2nd time:\")\n",
    "    if password == original_password:\n",
    "        print(\"Door will open\")\n",
    "    else:\n",
    "        print('XXXX-- Worng password and try again.--XXXX')\n",
    "        print()\n",
    "        password = input(\"Enter your password 3rd time:\")\n",
    "        if password == original_password:\n",
    "            print(\"Door will open\")\n",
    "        else:\n",
    "            print('XXXX-- Worng password --XXXX')\n",
    "            print()\n",
    "            security_answer= input(\"Enter your original_security_answer: \")\n",
    "            if security_answer == original_security_answer:\n",
    "                original_password = update_password = input(\"Enter new password: \")\n",
    "                print(\"Your Password has been updated!\")\n",
    "            else:\n",
    "                print(\"You can't open the door\")\n",
    "              \n",
    "print(original_password)\n"
   ]
  },
  {
   "cell_type": "code",
   "execution_count": null,
   "metadata": {},
   "outputs": [],
   "source": []
  }
 ],
 "metadata": {
  "kernelspec": {
   "display_name": "Python 3.8.8 ('base')",
   "language": "python",
   "name": "python3"
  },
  "language_info": {
   "codemirror_mode": {
    "name": "ipython",
    "version": 3
   },
   "file_extension": ".py",
   "mimetype": "text/x-python",
   "name": "python",
   "nbconvert_exporter": "python",
   "pygments_lexer": "ipython3",
   "version": "3.8.8"
  },
  "orig_nbformat": 4,
  "vscode": {
   "interpreter": {
    "hash": "f08154012ddadd8e950e6e9e035c7a7b32c136e7647e9b7c77e02eb723a8bedb"
   }
  }
 },
 "nbformat": 4,
 "nbformat_minor": 2
}
