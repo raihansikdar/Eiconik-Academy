{
 "cells": [
  {
   "cell_type": "markdown",
   "metadata": {},
   "source": [
    "# Import Mysql"
   ]
  },
  {
   "cell_type": "code",
   "execution_count": 1,
   "metadata": {},
   "outputs": [],
   "source": [
    "import mysql.connector as mydb"
   ]
  },
  {
   "cell_type": "markdown",
   "metadata": {},
   "source": [
    "# Connect to database"
   ]
  },
  {
   "cell_type": "code",
   "execution_count": 2,
   "metadata": {},
   "outputs": [
    {
     "name": "stdout",
     "output_type": "stream",
     "text": [
      "<mysql.connector.connection.MySQLConnection object at 0x00000184B6C0D790>\n"
     ]
    }
   ],
   "source": [
    "conn = mydb.connect(host = \"localhost\",user = \"root\",password=\"\")\n",
    "print(conn)\n",
    "conn.close()"
   ]
  },
  {
   "cell_type": "markdown",
   "metadata": {},
   "source": [
    "# Create Database"
   ]
  },
  {
   "cell_type": "code",
   "execution_count": 3,
   "metadata": {},
   "outputs": [],
   "source": [
    "conn = mydb.connect(host = \"localhost\",user = \"root\",password=\"\")\n",
    "cursor = conn.cursor()\n",
    "cursor.execute(\n",
    "    \"\"\"CREATE DATABASE university\"\"\"\n",
    ")\n",
    "conn.commit()"
   ]
  },
  {
   "cell_type": "markdown",
   "metadata": {},
   "source": [
    "# Show Database"
   ]
  },
  {
   "cell_type": "code",
   "execution_count": 4,
   "metadata": {},
   "outputs": [
    {
     "name": "stdout",
     "output_type": "stream",
     "text": [
      "('information_schema',)\n",
      "('mysql',)\n",
      "('performance_schema',)\n",
      "('phpmyadmin',)\n",
      "('test',)\n",
      "('university',)\n"
     ]
    }
   ],
   "source": [
    "conn = mydb.connect(host = \"localhost\",user = \"root\",password=\"\")\n",
    "cursor = conn.cursor()\n",
    "cursor.execute(\n",
    "    \"\"\"SHOW DATABASES\"\"\"\n",
    ")\n",
    "for i in cursor:\n",
    "    print(i)"
   ]
  },
  {
   "cell_type": "markdown",
   "metadata": {},
   "source": [
    "# Drop Database"
   ]
  },
  {
   "cell_type": "code",
   "execution_count": 5,
   "metadata": {},
   "outputs": [],
   "source": [
    "# conn = mydb.connect(host = \"localhost\",user = \"root\",password=\"\")\n",
    "# cursor = conn.cursor()\n",
    "# cursor.execute(\n",
    "#     \"\"\"DROP DATABASE university\"\"\"\n",
    "# )\n",
    "# conn.commit()\n"
   ]
  },
  {
   "cell_type": "markdown",
   "metadata": {},
   "source": [
    "# Create Table"
   ]
  },
  {
   "cell_type": "code",
   "execution_count": 6,
   "metadata": {},
   "outputs": [],
   "source": [
    "conn = mydb.connect(host=\"localhost\",user=\"root\",password=\"\",database = \"university\")\n",
    "cursor = conn.cursor()\n",
    "cursor.execute(\n",
    "    \"\"\"CREATE TABLE student(roll INT PRIMARY KEY,name CHAR(25),age INT,city VARCHAR(30))\"\"\"\n",
    ")\n",
    "conn.commit()"
   ]
  },
  {
   "cell_type": "markdown",
   "metadata": {},
   "source": [
    "# Show Table"
   ]
  },
  {
   "cell_type": "code",
   "execution_count": 7,
   "metadata": {},
   "outputs": [
    {
     "name": "stdout",
     "output_type": "stream",
     "text": [
      "('student',)\n"
     ]
    }
   ],
   "source": [
    "conn = mydb.connect(host=\"localhost\",user=\"root\",password=\"\",database = \"university\")\n",
    "cursor = conn.cursor()\n",
    "cursor.execute(\"\"\"SHOW TABLES\"\"\")\n",
    "\n",
    "for i in cursor:\n",
    "    print(i)"
   ]
  },
  {
   "cell_type": "markdown",
   "metadata": {},
   "source": [
    "# Drop Table"
   ]
  },
  {
   "cell_type": "code",
   "execution_count": 8,
   "metadata": {},
   "outputs": [],
   "source": [
    "# conn = mydb.connect(host = \"localhost\",user = \"root\",password=\"\",database = \"university\")\n",
    "# cursor = conn.cursor()\n",
    "# cursor.execute(\n",
    "#     \"\"\"DROP TABLE student\"\"\"\n",
    "# )\n",
    "# conn.commit()"
   ]
  },
  {
   "cell_type": "markdown",
   "metadata": {},
   "source": [
    "# Add Rows or Insert data"
   ]
  },
  {
   "cell_type": "code",
   "execution_count": 9,
   "metadata": {},
   "outputs": [],
   "source": [
    "conn = mydb.connect(host=\"localhost\",user=\"root\",password=\"\",database = \"university\")\n",
    "cursor = conn.cursor()\n",
    "cursor.execute(\n",
    "    \"\"\"INSERT INTO student(roll,name,age,city) VALUES(%s,%s,%s,%s)\"\"\",(101,\"Raihan Sikdar\",25,\"Dhaka\")\n",
    ")\n",
    "conn.commit()"
   ]
  },
  {
   "cell_type": "code",
   "execution_count": 10,
   "metadata": {},
   "outputs": [],
   "source": [
    "user = [\n",
    "         (102, 'John Smith', 27, \"Khulna\"),\n",
    "          (103, \"Alexa Jones\", 23, \"Chittagong\"),\n",
    "          (104, \"Alley P\", 26,\"Feni\"),\n",
    "          (105, \"John S\", 27,\"Dhaka\"),\n",
    "          (106, \"Babar Azam\", 30,\"Faridpur\" ),\n",
    "          (107, \"Afridi\", 29,\"Gajipur\"),\n",
    "          (108, \"Nasir\", 24,\"Dhaka\"),\n",
    "]\n",
    "conn = mydb.connect(host=\"localhost\",user=\"root\",password=\"\",database = \"university\")\n",
    "cursor = conn.cursor()\n",
    "cursor.executemany(\n",
    "    \"\"\"INSERT INTO student(roll,name,age,city) VALUES(%s,%s,%s,%s)\"\"\",user\n",
    ")\n",
    "conn.commit()"
   ]
  },
  {
   "cell_type": "markdown",
   "metadata": {},
   "source": [
    "# Select info"
   ]
  },
  {
   "cell_type": "code",
   "execution_count": 11,
   "metadata": {},
   "outputs": [
    {
     "name": "stdout",
     "output_type": "stream",
     "text": [
      "(101, 'Raihan Sikdar', 25, 'Dhaka')\n",
      "(102, 'John Smith', 27, 'Khulna')\n",
      "(103, 'Alexa Jones', 23, 'Chittagong')\n",
      "(104, 'Alley P', 26, 'Feni')\n",
      "(105, 'John S', 27, 'Dhaka')\n",
      "(106, 'Babar Azam', 30, 'Faridpur')\n",
      "(107, 'Afridi', 29, 'Gajipur')\n",
      "(108, 'Nasir', 24, 'Dhaka')\n"
     ]
    }
   ],
   "source": [
    "conn = mydb.connect(host=\"localhost\",user=\"root\",password=\"\",database = \"university\")\n",
    "cursor = conn.cursor()\n",
    "cursor.execute(\n",
    "    \"\"\"SELECT * FROM student\"\"\"\n",
    ")\n",
    "for i in cursor:\n",
    "    print(i)"
   ]
  },
  {
   "cell_type": "markdown",
   "metadata": {},
   "source": [
    "# Updating Rows"
   ]
  },
  {
   "cell_type": "code",
   "execution_count": 12,
   "metadata": {},
   "outputs": [],
   "source": [
    "conn = mydb.connect(host=\"localhost\",user=\"root\",password=\"\",database = \"university\")\n",
    "cursor = conn.cursor()\n",
    "cursor.execute(\n",
    "    \"\"\"UPDATE student SET roll = %s, name = %s,age = %s,city = %s WHERE roll=%s\"\"\",\n",
    "    (115,'AL Mamun',25,\"London\",105)\n",
    ")\n",
    "conn.commit()"
   ]
  },
  {
   "cell_type": "code",
   "execution_count": 13,
   "metadata": {},
   "outputs": [
    {
     "name": "stdout",
     "output_type": "stream",
     "text": [
      "(101, 'Raihan Sikdar', 25, 'Dhaka')\n",
      "(102, 'John Smith', 27, 'Khulna')\n",
      "(103, 'Alexa Jones', 23, 'Chittagong')\n",
      "(104, 'Alley P', 26, 'Feni')\n",
      "(106, 'Babar Azam', 30, 'Faridpur')\n",
      "(107, 'Afridi', 29, 'Gajipur')\n",
      "(108, 'Nasir', 24, 'Dhaka')\n",
      "(115, 'AL Mamun', 25, 'London')\n"
     ]
    }
   ],
   "source": [
    "conn = mydb.connect(host=\"localhost\",user=\"root\",password=\"\",database = \"university\")\n",
    "cursor = conn.cursor()\n",
    "cursor.execute(\n",
    "    \"\"\"SELECT * FROM student\"\"\"\n",
    ")\n",
    "for i in cursor:\n",
    "    print(i)"
   ]
  },
  {
   "cell_type": "code",
   "execution_count": 14,
   "metadata": {},
   "outputs": [],
   "source": [
    "conn = mydb.connect(host=\"localhost\",user=\"root\",password=\"\",database = \"university\")\n",
    "cursor = conn.cursor()\n",
    "cursor.execute(\n",
    "    \"\"\"UPDATE student SET age = %s WHERE roll IN (%s,%s)\"\"\",\n",
    "    (29,101,102)\n",
    ")\n",
    "conn.commit()"
   ]
  },
  {
   "cell_type": "code",
   "execution_count": 15,
   "metadata": {},
   "outputs": [
    {
     "name": "stdout",
     "output_type": "stream",
     "text": [
      "(101, 'Raihan Sikdar', 29, 'Dhaka')\n",
      "(102, 'John Smith', 29, 'Khulna')\n",
      "(103, 'Alexa Jones', 23, 'Chittagong')\n",
      "(104, 'Alley P', 26, 'Feni')\n",
      "(106, 'Babar Azam', 30, 'Faridpur')\n",
      "(107, 'Afridi', 29, 'Gajipur')\n",
      "(108, 'Nasir', 24, 'Dhaka')\n",
      "(115, 'AL Mamun', 25, 'London')\n"
     ]
    }
   ],
   "source": [
    "conn = mydb.connect(host=\"localhost\",user=\"root\",password=\"\",database = \"university\")\n",
    "cursor = conn.cursor()\n",
    "cursor.execute(\n",
    "    \"\"\"SELECT * FROM student\"\"\"\n",
    ")\n",
    "for i in cursor:\n",
    "    print(i)"
   ]
  },
  {
   "cell_type": "markdown",
   "metadata": {},
   "source": [
    "# Deleting Rows"
   ]
  },
  {
   "cell_type": "code",
   "execution_count": 16,
   "metadata": {},
   "outputs": [],
   "source": [
    "conn = mydb.connect(host=\"localhost\",user=\"root\",password=\"\",database = \"university\")\n",
    "cursor = conn.cursor()\n",
    "cursor.execute(\n",
    "    \"\"\"DELETE FROM student WHERE roll =%s\"\"\",(115,)\n",
    ")\n",
    "conn.commit()"
   ]
  },
  {
   "cell_type": "code",
   "execution_count": 17,
   "metadata": {},
   "outputs": [
    {
     "name": "stdout",
     "output_type": "stream",
     "text": [
      "(101, 'Raihan Sikdar', 29, 'Dhaka')\n",
      "(102, 'John Smith', 29, 'Khulna')\n",
      "(103, 'Alexa Jones', 23, 'Chittagong')\n",
      "(104, 'Alley P', 26, 'Feni')\n",
      "(106, 'Babar Azam', 30, 'Faridpur')\n",
      "(107, 'Afridi', 29, 'Gajipur')\n",
      "(108, 'Nasir', 24, 'Dhaka')\n"
     ]
    }
   ],
   "source": [
    "conn = mydb.connect(host=\"localhost\",user=\"root\",password=\"\",database = \"university\")\n",
    "cursor = conn.cursor()\n",
    "cursor.execute(\n",
    "    \"\"\"SELECT * FROM student\"\"\"\n",
    ")\n",
    "for i in cursor:\n",
    "    print(i)"
   ]
  },
  {
   "cell_type": "markdown",
   "metadata": {},
   "source": [
    "# Where Clause"
   ]
  },
  {
   "cell_type": "code",
   "execution_count": 18,
   "metadata": {},
   "outputs": [
    {
     "name": "stdout",
     "output_type": "stream",
     "text": [
      "(101, 'Raihan Sikdar', 29, 'Dhaka')\n",
      "(102, 'John Smith', 29, 'Khulna')\n",
      "(106, 'Babar Azam', 30, 'Faridpur')\n",
      "(107, 'Afridi', 29, 'Gajipur')\n"
     ]
    }
   ],
   "source": [
    "conn = mydb.connect(host=\"localhost\",user=\"root\",password=\"\",database = \"university\")\n",
    "cursor = conn.cursor()\n",
    "cursor.execute(\n",
    "    \"\"\"SELECT * FROM student WHERE age>%s\"\"\",(26,)\n",
    ")\n",
    "for i in cursor:\n",
    "    print(i)"
   ]
  },
  {
   "cell_type": "markdown",
   "metadata": {},
   "source": [
    "# AND , OR, NOT, IN"
   ]
  },
  {
   "cell_type": "code",
   "execution_count": 19,
   "metadata": {},
   "outputs": [
    {
     "name": "stdout",
     "output_type": "stream",
     "text": [
      "(101, 'Raihan Sikdar')\n",
      "(108, 'Nasir')\n"
     ]
    }
   ],
   "source": [
    "conn = mydb.connect(host=\"localhost\",user=\"root\",password=\"\",database=\"university\")\n",
    "cursor = conn.cursor()\n",
    "cursor.execute(\n",
    "    \"\"\"SELECT roll,name FROM student WHERE age>%s AND city=%s \"\"\",(23,\"Dhaka\",)\n",
    ")\n",
    "for i in cursor:\n",
    "    print(i)"
   ]
  },
  {
   "cell_type": "code",
   "execution_count": 20,
   "metadata": {},
   "outputs": [
    {
     "name": "stdout",
     "output_type": "stream",
     "text": [
      "(101, 'Raihan Sikdar')\n",
      "(108, 'Nasir')\n"
     ]
    }
   ],
   "source": [
    "conn = mydb.connect(host=\"localhost\",user=\"root\",password=\"\",database=\"university\")\n",
    "cursor = conn.cursor()\n",
    "cursor.execute(\n",
    "    \"\"\"SELECT roll,name FROM student WHERE city IN(%s) \"\"\",(\"Dhaka\",)\n",
    ")\n",
    "for i in cursor:\n",
    "    print(i)"
   ]
  },
  {
   "cell_type": "markdown",
   "metadata": {},
   "source": [
    "# Wild Cards with LIKE"
   ]
  },
  {
   "cell_type": "code",
   "execution_count": 21,
   "metadata": {},
   "outputs": [
    {
     "name": "stdout",
     "output_type": "stream",
     "text": [
      "(101, 'Raihan Sikdar', 29, 'Dhaka')\n",
      "(108, 'Nasir', 24, 'Dhaka')\n"
     ]
    }
   ],
   "source": [
    "conn = mydb.connect(host=\"localhost\",user=\"root\",password=\"\",database=\"university\")\n",
    "cursor = conn.cursor()\n",
    "cursor.execute(\n",
    "    \"\"\"SELECT * FROM student WHERE name LIKE '_%r' \"\"\"\n",
    ")\n",
    "for i in cursor:\n",
    "    print(i)"
   ]
  },
  {
   "cell_type": "code",
   "execution_count": 22,
   "metadata": {},
   "outputs": [
    {
     "name": "stdout",
     "output_type": "stream",
     "text": [
      "(101, 'Raihan Sikdar', 29, 'Dhaka')\n",
      "(106, 'Babar Azam', 30, 'Faridpur')\n",
      "(108, 'Nasir', 24, 'Dhaka')\n"
     ]
    }
   ],
   "source": [
    "conn = mydb.connect(host=\"localhost\",user=\"root\",password=\"\",database=\"university\")\n",
    "cursor = conn.cursor()\n",
    "cursor.execute(\n",
    "    \"\"\"SELECT * FROM student WHERE name LIKE '_a%_' \"\"\"\n",
    ")\n",
    "for i in cursor:\n",
    "    print(i)"
   ]
  },
  {
   "cell_type": "markdown",
   "metadata": {},
   "source": [
    "# Aggregate Function"
   ]
  },
  {
   "cell_type": "code",
   "execution_count": 23,
   "metadata": {},
   "outputs": [
    {
     "name": "stdout",
     "output_type": "stream",
     "text": [
      "(30, 23, Decimal('27.1429'), Decimal('190'), 7)\n"
     ]
    }
   ],
   "source": [
    "conn = mydb.connect(host=\"localhost\",user=\"root\",password=\"\",database=\"university\")\n",
    "cursor = conn.cursor()\n",
    "cursor.execute(\n",
    "    \"\"\"SELECT MAX(age),MIN(age),AVG(age),SUM(age),COUNT(*) FROM student\"\"\"\n",
    ")\n",
    "for i in cursor:\n",
    "    print(i)"
   ]
  },
  {
   "cell_type": "code",
   "execution_count": 24,
   "metadata": {},
   "outputs": [
    {
     "name": "stdout",
     "output_type": "stream",
     "text": [
      "(101, 'Raihan Sikdar', 29)\n",
      "(102, 'John Smith', 29)\n",
      "(106, 'Babar Azam', 30)\n",
      "(107, 'Afridi', 29)\n"
     ]
    }
   ],
   "source": [
    "conn = mydb.connect(host=\"localhost\",user=\"root\",password=\"\",database=\"university\")\n",
    "cursor = conn.cursor()\n",
    "cursor.execute(\n",
    "    \"\"\"SELECT roll,name,age FROM student WHERE age > (SELECT AVG(age) FROM student)\"\"\"\n",
    ")\n",
    "for i in cursor:\n",
    "    print(i)"
   ]
  },
  {
   "cell_type": "markdown",
   "metadata": {},
   "source": [
    "# GROUP BY"
   ]
  },
  {
   "cell_type": "code",
   "execution_count": 25,
   "metadata": {},
   "outputs": [
    {
     "name": "stdout",
     "output_type": "stream",
     "text": [
      "(1, 23)\n",
      "(1, 24)\n",
      "(1, 26)\n",
      "(3, 29)\n",
      "(1, 30)\n"
     ]
    }
   ],
   "source": [
    "conn = mydb.connect(host=\"localhost\",user=\"root\",password=\"\",database=\"university\")\n",
    "cursor = conn.cursor()\n",
    "cursor.execute(\n",
    "    \"\"\"SELECT COUNT(*), age FROM student GROUP BY age\"\"\"\n",
    ")\n",
    "for i in cursor:\n",
    "    print(i)"
   ]
  },
  {
   "cell_type": "markdown",
   "metadata": {},
   "source": [
    "# ORDER BY"
   ]
  },
  {
   "cell_type": "code",
   "execution_count": 26,
   "metadata": {},
   "outputs": [
    {
     "name": "stdout",
     "output_type": "stream",
     "text": [
      "(106, 'Babar Azam', 30, 'Faridpur')\n",
      "(107, 'Afridi', 29, 'Gajipur')\n",
      "(102, 'John Smith', 29, 'Khulna')\n",
      "(101, 'Raihan Sikdar', 29, 'Dhaka')\n",
      "(104, 'Alley P', 26, 'Feni')\n",
      "(108, 'Nasir', 24, 'Dhaka')\n",
      "(103, 'Alexa Jones', 23, 'Chittagong')\n"
     ]
    }
   ],
   "source": [
    "conn = mydb.connect(host=\"localhost\",user=\"root\",password=\"\",database=\"university\")\n",
    "cursor = conn.cursor()\n",
    "cursor.execute(\n",
    "    \"\"\"SELECT * FROM student ORDER BY age DESC,roll DESC\"\"\"\n",
    ")\n",
    "for i in cursor:\n",
    "    print(i)"
   ]
  },
  {
   "cell_type": "markdown",
   "metadata": {},
   "source": [
    "# Create Another Table"
   ]
  },
  {
   "cell_type": "code",
   "execution_count": 27,
   "metadata": {},
   "outputs": [],
   "source": [
    "conn = mydb.connect(host=\"localhost\",user=\"root\",password=\"\",database=\"university\")\n",
    "cursor = conn.cursor()\n",
    "cursor.execute(\n",
    "    \"\"\"CREATE TABLE result(roll INT,dept VARCHAR(10),cgpa float)\"\"\"\n",
    ")\n",
    "conn.commit()"
   ]
  },
  {
   "cell_type": "markdown",
   "metadata": {},
   "source": [
    "# Show tables"
   ]
  },
  {
   "cell_type": "code",
   "execution_count": 28,
   "metadata": {},
   "outputs": [
    {
     "name": "stdout",
     "output_type": "stream",
     "text": [
      "('result',)\n",
      "('student',)\n"
     ]
    }
   ],
   "source": [
    "conn = mydb.connect(host=\"localhost\",user=\"root\",password=\"\",database=\"university\")\n",
    "cursor = conn.cursor()\n",
    "cursor.execute(\n",
    "    \"\"\"SHOW TABLES\"\"\"\n",
    ")\n",
    "for i in cursor:\n",
    "    print(i)"
   ]
  },
  {
   "cell_type": "markdown",
   "metadata": {},
   "source": [
    "# Insert Value"
   ]
  },
  {
   "cell_type": "code",
   "execution_count": 29,
   "metadata": {},
   "outputs": [],
   "source": [
    "user = [\n",
    "    (101,'CSE',3.80),\n",
    "    (102,'CSE',3.85),\n",
    "    (103,'ENG',3.92),\n",
    "    (104,'EEE',3.75),\n",
    "    (106,'EEE',3.65),\n",
    "    (107,'MATH',3.90)\n",
    "]\n",
    "\n",
    "conn = mydb.connect(host=\"localhost\",user=\"root\",password=\"\",database = \"university\")\n",
    "cursor = conn.cursor()\n",
    "cursor.executemany(\n",
    "    \"\"\"INSERT INTO result(roll,dept,cgpa) VALUES(%s,%s,%s)\"\"\",user\n",
    ")\n",
    "conn.commit()"
   ]
  },
  {
   "cell_type": "markdown",
   "metadata": {},
   "source": [
    "# Shows Value"
   ]
  },
  {
   "cell_type": "code",
   "execution_count": 30,
   "metadata": {},
   "outputs": [
    {
     "name": "stdout",
     "output_type": "stream",
     "text": [
      "(101, 'CSE', 3.8)\n",
      "(102, 'CSE', 3.85)\n",
      "(103, 'ENG', 3.92)\n",
      "(104, 'EEE', 3.75)\n",
      "(106, 'EEE', 3.65)\n",
      "(107, 'MATH', 3.9)\n"
     ]
    }
   ],
   "source": [
    "conn = mydb.connect(host=\"localhost\",user=\"root\",password=\"\",database = \"university\")\n",
    "cursor = conn.cursor()\n",
    "cursor.execute(\n",
    "    \"\"\"SELECT * FROM result\"\"\"\n",
    ")\n",
    "for i in cursor:\n",
    "    print(i)"
   ]
  },
  {
   "cell_type": "markdown",
   "metadata": {},
   "source": [
    "# Join Table"
   ]
  },
  {
   "cell_type": "code",
   "execution_count": 31,
   "metadata": {},
   "outputs": [
    {
     "name": "stdout",
     "output_type": "stream",
     "text": [
      "(101, 'Raihan Sikdar', 'CSE', 3.8)\n",
      "(102, 'John Smith', 'CSE', 3.85)\n",
      "(103, 'Alexa Jones', 'ENG', 3.92)\n",
      "(104, 'Alley P', 'EEE', 3.75)\n",
      "(106, 'Babar Azam', 'EEE', 3.65)\n",
      "(107, 'Afridi', 'MATH', 3.9)\n"
     ]
    }
   ],
   "source": [
    "conn = mydb.connect(host=\"localhost\",user=\"root\",password=\"\",database = \"university\")\n",
    "cursor = conn.cursor()\n",
    "cursor.execute(\n",
    "    \"\"\"SELECT student.roll,name,dept,cgpa \n",
    "       FROM student,result \n",
    "       WHERE student.roll = result.roll\"\"\"\n",
    ")\n",
    "for i in cursor:\n",
    "    print(i)"
   ]
  },
  {
   "cell_type": "markdown",
   "metadata": {},
   "source": [
    "# Join Clause"
   ]
  },
  {
   "cell_type": "code",
   "execution_count": 32,
   "metadata": {},
   "outputs": [
    {
     "name": "stdout",
     "output_type": "stream",
     "text": [
      "(101, 'Raihan Sikdar', 'CSE', 3.8)\n",
      "(102, 'John Smith', 'CSE', 3.85)\n",
      "(103, 'Alexa Jones', 'ENG', 3.92)\n",
      "(104, 'Alley P', 'EEE', 3.75)\n",
      "(106, 'Babar Azam', 'EEE', 3.65)\n",
      "(107, 'Afridi', 'MATH', 3.9)\n"
     ]
    }
   ],
   "source": [
    "conn = mydb.connect(host=\"localhost\",user=\"root\",password=\"\",database = \"university\")\n",
    "cursor = conn.cursor()\n",
    "cursor.execute(\n",
    "    \"\"\"SELECT student.roll,name,dept,cgpa \n",
    "       FROM student JOIN result \n",
    "       ON student.roll = result.roll\"\"\"\n",
    ")\n",
    "for i in cursor:\n",
    "    print(i)"
   ]
  },
  {
   "cell_type": "markdown",
   "metadata": {},
   "source": [
    "# Inner Join"
   ]
  },
  {
   "cell_type": "code",
   "execution_count": 33,
   "metadata": {},
   "outputs": [
    {
     "name": "stdout",
     "output_type": "stream",
     "text": [
      "(101, 'Raihan Sikdar', 'CSE', 3.8)\n",
      "(102, 'John Smith', 'CSE', 3.85)\n",
      "(103, 'Alexa Jones', 'ENG', 3.92)\n",
      "(104, 'Alley P', 'EEE', 3.75)\n",
      "(106, 'Babar Azam', 'EEE', 3.65)\n",
      "(107, 'Afridi', 'MATH', 3.9)\n"
     ]
    }
   ],
   "source": [
    "conn = mydb.connect(host=\"localhost\",user=\"root\",password=\"\",database = \"university\")\n",
    "cursor = conn.cursor()\n",
    "cursor.execute(\n",
    "    \"\"\"SELECT student.roll,name,dept,cgpa \n",
    "       FROM student INNER JOIN result \n",
    "       ON student.roll = result.roll\"\"\"\n",
    ")\n",
    "for i in cursor:\n",
    "    print(i)"
   ]
  },
  {
   "cell_type": "markdown",
   "metadata": {},
   "source": [
    "# Left Join"
   ]
  },
  {
   "cell_type": "code",
   "execution_count": 34,
   "metadata": {},
   "outputs": [
    {
     "name": "stdout",
     "output_type": "stream",
     "text": [
      "(101, 'Raihan Sikdar', 'CSE', 3.8)\n",
      "(102, 'John Smith', 'CSE', 3.85)\n",
      "(103, 'Alexa Jones', 'ENG', 3.92)\n",
      "(104, 'Alley P', 'EEE', 3.75)\n",
      "(106, 'Babar Azam', 'EEE', 3.65)\n",
      "(107, 'Afridi', 'MATH', 3.9)\n",
      "(108, 'Nasir', None, None)\n"
     ]
    }
   ],
   "source": [
    "conn = mydb.connect(host=\"localhost\",user=\"root\",password=\"\",database = \"university\")\n",
    "cursor = conn.cursor()\n",
    "cursor.execute(\n",
    "    \"\"\"SELECT student.roll,name,dept,cgpa \n",
    "       FROM student LEFT JOIN result \n",
    "       ON student.roll = result.roll\"\"\"\n",
    ")\n",
    "for i in cursor:\n",
    "    print(i)"
   ]
  },
  {
   "cell_type": "code",
   "execution_count": 35,
   "metadata": {},
   "outputs": [],
   "source": [
    "# https://sqliteonline.com/"
   ]
  }
 ],
 "metadata": {
  "kernelspec": {
   "display_name": "Python 3.8.8 ('base')",
   "language": "python",
   "name": "python3"
  },
  "language_info": {
   "codemirror_mode": {
    "name": "ipython",
    "version": 3
   },
   "file_extension": ".py",
   "mimetype": "text/x-python",
   "name": "python",
   "nbconvert_exporter": "python",
   "pygments_lexer": "ipython3",
   "version": "3.8.8"
  },
  "orig_nbformat": 4,
  "vscode": {
   "interpreter": {
    "hash": "f08154012ddadd8e950e6e9e035c7a7b32c136e7647e9b7c77e02eb723a8bedb"
   }
  }
 },
 "nbformat": 4,
 "nbformat_minor": 2
}
