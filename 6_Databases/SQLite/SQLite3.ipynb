{
 "cells": [
  {
   "cell_type": "markdown",
   "metadata": {},
   "source": [
    "## Impiort SQLite3 "
   ]
  },
  {
   "cell_type": "code",
   "execution_count": 1,
   "metadata": {},
   "outputs": [],
   "source": [
    "import sqlite3 as sql3"
   ]
  },
  {
   "cell_type": "markdown",
   "metadata": {},
   "source": [
    "## Connecting To Database"
   ]
  },
  {
   "cell_type": "code",
   "execution_count": 2,
   "metadata": {},
   "outputs": [
    {
     "name": "stdout",
     "output_type": "stream",
     "text": [
      "<sqlite3.Connection object at 0x00000294990D8120>\n"
     ]
    }
   ],
   "source": [
    "conn = sql3.connect('database.sqlite3')\n",
    "print(conn)\n",
    "conn.close()"
   ]
  },
  {
   "cell_type": "markdown",
   "metadata": {},
   "source": [
    "## Create Table"
   ]
  },
  {
   "cell_type": "code",
   "execution_count": 3,
   "metadata": {},
   "outputs": [],
   "source": [
    "with sql3.connect('database.sqlite3') as conn:\n",
    "    cursor = conn.cursor()\n",
    "    cursor.execute(\"\"\"DROP TABLE IF EXISTS student \"\"\")\n",
    "    cursor.execute(\n",
    "        \"\"\"CREATE TABLE student(roll int PRIMARY KEY, name CHAR(25), age INT, email VARCHAR(30)) \"\"\"\n",
    "    )\n",
    "    conn.commit()"
   ]
  },
  {
   "cell_type": "markdown",
   "metadata": {},
   "source": [
    "## Show Table"
   ]
  },
  {
   "cell_type": "code",
   "execution_count": 4,
   "metadata": {},
   "outputs": [
    {
     "name": "stdout",
     "output_type": "stream",
     "text": [
      "[('student',)]\n"
     ]
    }
   ],
   "source": [
    "with sql3.connect('database.sqlite3') as conn:\n",
    "    cursor = conn.cursor()\n",
    "    tab = cursor.execute(\n",
    "        \"\"\"SELECT name FROM sqlite_schema where type = 'table' ORDER BY name \"\"\"\n",
    "    )\n",
    "    print(cursor.fetchall())\n",
    "    # print(list(tab))\n",
    "    conn.commit()"
   ]
  },
  {
   "cell_type": "markdown",
   "metadata": {},
   "source": [
    "## Adding ROWS"
   ]
  },
  {
   "cell_type": "code",
   "execution_count": 5,
   "metadata": {},
   "outputs": [],
   "source": [
    "with sql3.connect('database.sqlite3') as conn:\n",
    "    cursor = conn.cursor()\n",
    "    cursor.execute(\n",
    "        \"\"\"INSERT INTO student VALUES(?,?,?,?) \"\"\",\n",
    "        (101,\"Raihan Sikdar\",25,\"raihansikdar10@gmail.com\")\n",
    "    )\n",
    "    conn.commit()"
   ]
  },
  {
   "cell_type": "code",
   "execution_count": 6,
   "metadata": {},
   "outputs": [],
   "source": [
    "users = [ \n",
    "          (102, 'John Smith', 27, 'john@gmail.com'),\n",
    "          (103, \"Alexa Jones\", 23, \"alexa@gmail.com\"),\n",
    "          (104, \"Alley P\", 26, \"alley@yahoo.com\"),\n",
    "          (105, \"John S\", 27, \"john@gmail.com\"),\n",
    "          (106, \"Babar Azam\", 30, \"babarazam@gmail.com\"),\n",
    "          (107, \"Afridi\", 29, \"afridi@gmail.com\"),\n",
    "          (108, \"Nasir\", 24, \"Nasir@yahoo.com\"),\n",
    "]\n",
    "\n",
    "with sql3.connect('database.sqlite3') as conn:\n",
    "    cursor = conn.cursor()\n",
    "    cursor.executemany(\n",
    "        \"\"\"INSERT INTO student VALUES(?,?,?,?)\"\"\",users\n",
    "    )\n",
    "    conn.commit()"
   ]
  },
  {
   "cell_type": "markdown",
   "metadata": {},
   "source": [
    "## SELECT info"
   ]
  },
  {
   "cell_type": "code",
   "execution_count": 7,
   "metadata": {},
   "outputs": [
    {
     "name": "stdout",
     "output_type": "stream",
     "text": [
      "(101, 'Raihan Sikdar', 25, 'raihansikdar10@gmail.com')\n",
      "(102, 'John Smith', 27, 'john@gmail.com')\n",
      "(103, 'Alexa Jones', 23, 'alexa@gmail.com')\n",
      "(104, 'Alley P', 26, 'alley@yahoo.com')\n",
      "(105, 'John S', 27, 'john@gmail.com')\n",
      "(106, 'Babar Azam', 30, 'babarazam@gmail.com')\n",
      "(107, 'Afridi', 29, 'afridi@gmail.com')\n",
      "(108, 'Nasir', 24, 'Nasir@yahoo.com')\n"
     ]
    }
   ],
   "source": [
    "with sql3.connect('database.sqlite3') as conn:\n",
    "    cursor = conn.cursor()\n",
    "    res = cursor.execute(\n",
    "        \"\"\"SELECT * FROM student \"\"\",\n",
    "    )\n",
    "    for i in res:\n",
    "        print(i)"
   ]
  },
  {
   "cell_type": "markdown",
   "metadata": {},
   "source": [
    "Searching roll and name"
   ]
  },
  {
   "cell_type": "code",
   "execution_count": 8,
   "metadata": {},
   "outputs": [
    {
     "name": "stdout",
     "output_type": "stream",
     "text": [
      "[(101, 'Raihan Sikdar', 26.375)]\n"
     ]
    }
   ],
   "source": [
    "with sql3.connect('database.sqlite3') as conn:\n",
    "    cursor = conn.cursor()\n",
    "    res = cursor.execute(\n",
    "        \"\"\"SELECT roll,name, AVG(age) FROM student \"\"\",\n",
    "    )\n",
    "\n",
    "    print(list(res))"
   ]
  },
  {
   "cell_type": "code",
   "execution_count": 9,
   "metadata": {},
   "outputs": [
    {
     "name": "stdout",
     "output_type": "stream",
     "text": [
      "[101, 'Raihan Sikdar', 25, 'raihansikdar10@gmail.com']\n"
     ]
    }
   ],
   "source": [
    "with sql3.connect('database.sqlite3') as conn:\n",
    "    cursor = conn.cursor()\n",
    "    res = cursor.execute(\n",
    "        \"\"\"SELECT * FROM student \"\"\",\n",
    "    ).fetchone()\n",
    "    print(list(res))"
   ]
  },
  {
   "cell_type": "code",
   "execution_count": 10,
   "metadata": {},
   "outputs": [
    {
     "name": "stdout",
     "output_type": "stream",
     "text": [
      "[(101, 'Raihan Sikdar', 25, 'raihansikdar10@gmail.com'), (102, 'John Smith', 27, 'john@gmail.com'), (103, 'Alexa Jones', 23, 'alexa@gmail.com')]\n"
     ]
    }
   ],
   "source": [
    "with sql3.connect('database.sqlite3') as conn:\n",
    "    cursor = conn.cursor()\n",
    "    res = cursor.execute(\n",
    "        \"\"\"SELECT * FROM student \"\"\",\n",
    "    ).fetchmany(3)\n",
    "    print(list(res))"
   ]
  },
  {
   "cell_type": "markdown",
   "metadata": {},
   "source": [
    "## Updating row"
   ]
  },
  {
   "cell_type": "code",
   "execution_count": 11,
   "metadata": {},
   "outputs": [],
   "source": [
    "with sql3.connect('database.sqlite3') as conn:\n",
    "    cursor = conn.cursor()\n",
    "    cursor.execute(\n",
    "        \"\"\"UPDATE student SET roll=?, name=?, email=? WHERE roll=? \"\"\",\n",
    "        (115,'AL Mamun',\"almamun10@gmail.com\",105)\n",
    "    )\n",
    "    conn.commit()"
   ]
  },
  {
   "cell_type": "code",
   "execution_count": 12,
   "metadata": {},
   "outputs": [
    {
     "name": "stdout",
     "output_type": "stream",
     "text": [
      "(101, 'Raihan Sikdar', 25, 'raihansikdar10@gmail.com')\n",
      "(102, 'John Smith', 27, 'john@gmail.com')\n",
      "(103, 'Alexa Jones', 23, 'alexa@gmail.com')\n",
      "(104, 'Alley P', 26, 'alley@yahoo.com')\n",
      "(115, 'AL Mamun', 27, 'almamun10@gmail.com')\n",
      "(106, 'Babar Azam', 30, 'babarazam@gmail.com')\n",
      "(107, 'Afridi', 29, 'afridi@gmail.com')\n",
      "(108, 'Nasir', 24, 'Nasir@yahoo.com')\n"
     ]
    }
   ],
   "source": [
    "with sql3.connect('database.sqlite3') as conn:\n",
    "    cursor = conn.cursor()\n",
    "    res = cursor.execute(\n",
    "        \"\"\"SELECT * FROM student \"\"\",\n",
    "    )\n",
    "    for i in res:\n",
    "        print(i)\n",
    "    #print(list(res))\n",
    "    conn.commit()"
   ]
  },
  {
   "cell_type": "code",
   "execution_count": 13,
   "metadata": {},
   "outputs": [],
   "source": [
    "with sql3.connect('database.sqlite3') as conn:\n",
    "    cursor = conn.cursor()\n",
    "    cursor.execute(\n",
    "        \"\"\"UPDATE student SET age=? WHERE roll IN (?,?)\"\"\",\n",
    "        (26,101,102)\n",
    "    )\n",
    "    conn.commit()"
   ]
  },
  {
   "cell_type": "code",
   "execution_count": 14,
   "metadata": {},
   "outputs": [
    {
     "name": "stdout",
     "output_type": "stream",
     "text": [
      "(101, 'Raihan Sikdar', 26, 'raihansikdar10@gmail.com')\n",
      "(102, 'John Smith', 26, 'john@gmail.com')\n",
      "(103, 'Alexa Jones', 23, 'alexa@gmail.com')\n",
      "(104, 'Alley P', 26, 'alley@yahoo.com')\n",
      "(115, 'AL Mamun', 27, 'almamun10@gmail.com')\n",
      "(106, 'Babar Azam', 30, 'babarazam@gmail.com')\n",
      "(107, 'Afridi', 29, 'afridi@gmail.com')\n",
      "(108, 'Nasir', 24, 'Nasir@yahoo.com')\n"
     ]
    }
   ],
   "source": [
    "with sql3.connect('database.sqlite3') as conn:\n",
    "    cursor = conn.cursor()\n",
    "    res = cursor.execute(\n",
    "        \"\"\"SELECT * FROM student \"\"\",\n",
    "    )\n",
    "    for i in res:\n",
    "        print(i)\n",
    "    # print(list(res))\n",
    "    conn.commit()"
   ]
  },
  {
   "cell_type": "markdown",
   "metadata": {},
   "source": [
    "## Deleting a Row"
   ]
  },
  {
   "cell_type": "code",
   "execution_count": 15,
   "metadata": {},
   "outputs": [],
   "source": [
    "with sql3.connect('database.sqlite3') as conn:\n",
    "    cursor = conn.cursor()\n",
    "    res = cursor.execute(\n",
    "        \"\"\"DELETE FROM student WHERE roll=? \"\"\",(115,)\n",
    "    )\n",
    "    conn.commit()"
   ]
  },
  {
   "cell_type": "code",
   "execution_count": 16,
   "metadata": {},
   "outputs": [
    {
     "name": "stdout",
     "output_type": "stream",
     "text": [
      "(101, 'Raihan Sikdar', 26, 'raihansikdar10@gmail.com')\n",
      "(102, 'John Smith', 26, 'john@gmail.com')\n",
      "(103, 'Alexa Jones', 23, 'alexa@gmail.com')\n",
      "(104, 'Alley P', 26, 'alley@yahoo.com')\n",
      "(106, 'Babar Azam', 30, 'babarazam@gmail.com')\n",
      "(107, 'Afridi', 29, 'afridi@gmail.com')\n",
      "(108, 'Nasir', 24, 'Nasir@yahoo.com')\n"
     ]
    }
   ],
   "source": [
    "with sql3.connect('database.sqlite3') as conn:\n",
    "    cursor = conn.cursor()\n",
    "    res = cursor.execute(\n",
    "        \"\"\"SELECT * FROM student \"\"\",\n",
    "    )\n",
    "    for i in res:\n",
    "        print(i)\n",
    "    # print(list(res))\n",
    "    conn.commit()"
   ]
  },
  {
   "cell_type": "markdown",
   "metadata": {},
   "source": [
    "## WHERE Clause"
   ]
  },
  {
   "cell_type": "code",
   "execution_count": 17,
   "metadata": {},
   "outputs": [
    {
     "name": "stdout",
     "output_type": "stream",
     "text": [
      "[(101, 'Raihan Sikdar', 26, 'raihansikdar10@gmail.com'), (102, 'John Smith', 26, 'john@gmail.com'), (104, 'Alley P', 26, 'alley@yahoo.com'), (106, 'Babar Azam', 30, 'babarazam@gmail.com'), (107, 'Afridi', 29, 'afridi@gmail.com')]\n"
     ]
    }
   ],
   "source": [
    "with sql3.connect('database.sqlite3') as conn:\n",
    "    cursor = conn.cursor()\n",
    "    res = cursor.execute(\n",
    "        \"\"\"SELECT * FROM student WHERE age>? \"\"\",(25,)\n",
    "    )\n",
    "    print(list(res))"
   ]
  },
  {
   "cell_type": "markdown",
   "metadata": {},
   "source": [
    "## AND , OR, NOT, IN"
   ]
  },
  {
   "cell_type": "code",
   "execution_count": 18,
   "metadata": {},
   "outputs": [
    {
     "name": "stdout",
     "output_type": "stream",
     "text": [
      "[]\n"
     ]
    }
   ],
   "source": [
    "with sql3.connect('database.sqlite3') as conn:\n",
    "    cursor = conn.cursor()\n",
    "    res = cursor.execute(\n",
    "        \"\"\"SELECT * FROM student WHERE age>? AND NOT roll>=?\"\"\", (25, 101)\n",
    "    )\n",
    "    print(list(res))\n"
   ]
  },
  {
   "cell_type": "code",
   "execution_count": 19,
   "metadata": {},
   "outputs": [
    {
     "name": "stdout",
     "output_type": "stream",
     "text": [
      "(101, 'Raihan Sikdar', 26, 'raihansikdar10@gmail.com')\n",
      "(102, 'John Smith', 26, 'john@gmail.com')\n",
      "(104, 'Alley P', 26, 'alley@yahoo.com')\n",
      "(106, 'Babar Azam', 30, 'babarazam@gmail.com')\n",
      "(107, 'Afridi', 29, 'afridi@gmail.com')\n"
     ]
    }
   ],
   "source": [
    "with sql3.connect('database.sqlite3') as conn:\n",
    "    cursor = conn.cursor()\n",
    "    res = cursor.execute(\n",
    "        \"\"\"SELECT * FROM student WHERE age>? AND roll>=?\"\"\", (25, 101)\n",
    "    )\n",
    "    for i in res:\n",
    "        print(i)\n",
    "    \n",
    "    # print(list(res))"
   ]
  },
  {
   "cell_type": "markdown",
   "metadata": {},
   "source": [
    "## Wild Cards with LIKE"
   ]
  },
  {
   "cell_type": "code",
   "execution_count": 20,
   "metadata": {},
   "outputs": [
    {
     "name": "stdout",
     "output_type": "stream",
     "text": [
      "[(101, 'Raihan Sikdar', 26, 'raihansikdar10@gmail.com'), (108, 'Nasir', 24, 'Nasir@yahoo.com')]\n"
     ]
    }
   ],
   "source": [
    "with sql3.connect('database.sqlite3') as conn:\n",
    "    cursor = conn.cursor()\n",
    "    res = cursor.execute(\n",
    "        \"\"\"SELECT * FROM student WHERE name LIKE '_%r'\"\"\",\n",
    "    )\n",
    "    print(list(res))"
   ]
  },
  {
   "cell_type": "code",
   "execution_count": 21,
   "metadata": {},
   "outputs": [
    {
     "name": "stdout",
     "output_type": "stream",
     "text": [
      "[(103, 'Alexa Jones', 23, 'alexa@gmail.com'), (104, 'Alley P', 26, 'alley@yahoo.com'), (107, 'Afridi', 29, 'afridi@gmail.com')]\n"
     ]
    }
   ],
   "source": [
    "with sql3.connect('database.sqlite3') as conn:\n",
    "    cursor = conn.cursor()\n",
    "    res = cursor.execute(\n",
    "        \"\"\"SELECT * FROM student WHERE name LIKE 'A%'\"\"\",\n",
    "    )\n",
    "    print(list(res))"
   ]
  },
  {
   "cell_type": "code",
   "execution_count": 22,
   "metadata": {},
   "outputs": [
    {
     "name": "stdout",
     "output_type": "stream",
     "text": [
      "(101, 'Raihan Sikdar', 26, 'raihansikdar10@gmail.com')\n",
      "(106, 'Babar Azam', 30, 'babarazam@gmail.com')\n",
      "(108, 'Nasir', 24, 'Nasir@yahoo.com')\n"
     ]
    }
   ],
   "source": [
    "with sql3.connect('database.sqlite3') as conn:\n",
    "    cursor = conn.cursor()\n",
    "    res = cursor.execute(\n",
    "        \"\"\"SELECT * FROM student WHERE name LIKE '_a%_'\"\"\",\n",
    "    )\n",
    "    for i in res:\n",
    "        print(i)\n",
    "    # print(list(res))"
   ]
  },
  {
   "cell_type": "markdown",
   "metadata": {},
   "source": [
    "## Aggregate Function"
   ]
  },
  {
   "cell_type": "code",
   "execution_count": 23,
   "metadata": {},
   "outputs": [
    {
     "name": "stdout",
     "output_type": "stream",
     "text": [
      "[(30, 23, 26.285714285714285, 184, 7)]\n"
     ]
    }
   ],
   "source": [
    "with sql3.connect('database.sqlite3') as conn:\n",
    "    cursor = conn.cursor()\n",
    "    res = cursor.execute(\n",
    "        \"\"\"SELECT MAX(age),MIN(age),AVG(age),SUM(age),COUNT(*) FROM student\"\"\",\n",
    "    )\n",
    "    print(list(res))"
   ]
  },
  {
   "cell_type": "markdown",
   "metadata": {},
   "source": [
    "## Group BY"
   ]
  },
  {
   "cell_type": "code",
   "execution_count": 24,
   "metadata": {},
   "outputs": [
    {
     "name": "stdout",
     "output_type": "stream",
     "text": [
      "[(1, 23), (1, 24), (3, 26), (1, 29), (1, 30)]\n"
     ]
    }
   ],
   "source": [
    "with sql3.connect('database.sqlite3') as conn:\n",
    "    cursor = conn.cursor()\n",
    "    res = cursor.execute(\n",
    "        \"\"\"SELECT COUNT(*), age FROM student GROUP BY age\"\"\",\n",
    "    )\n",
    "    print(list(res))"
   ]
  },
  {
   "cell_type": "markdown",
   "metadata": {},
   "source": [
    "## ORDER BY"
   ]
  },
  {
   "cell_type": "code",
   "execution_count": 25,
   "metadata": {},
   "outputs": [
    {
     "name": "stdout",
     "output_type": "stream",
     "text": [
      "(106, 'Babar Azam', 30, 'babarazam@gmail.com')\n",
      "(107, 'Afridi', 29, 'afridi@gmail.com')\n",
      "(104, 'Alley P', 26, 'alley@yahoo.com')\n",
      "(102, 'John Smith', 26, 'john@gmail.com')\n",
      "(101, 'Raihan Sikdar', 26, 'raihansikdar10@gmail.com')\n",
      "(108, 'Nasir', 24, 'Nasir@yahoo.com')\n",
      "(103, 'Alexa Jones', 23, 'alexa@gmail.com')\n"
     ]
    }
   ],
   "source": [
    "with sql3.connect('database.sqlite3') as conn:\n",
    "    cursor = conn.cursor()\n",
    "    res = cursor.execute(\n",
    "        \"\"\"SELECT * FROM student ORDER BY age DESC,roll DESC\"\"\"\n",
    "    )\n",
    "\n",
    "    for i in res:\n",
    "         print(i)\n",
    "    conn.commit()"
   ]
  },
  {
   "cell_type": "markdown",
   "metadata": {},
   "source": [
    "# Create Another Table"
   ]
  },
  {
   "cell_type": "code",
   "execution_count": 26,
   "metadata": {},
   "outputs": [],
   "source": [
    "with sql3.connect('database.sqlite3') as conn:\n",
    "    cursor = conn.cursor()\n",
    "    cursor.execute(\"\"\"DROP TABLE IF EXISTS result\"\"\")\n",
    "    cursor.execute(\n",
    "        \"\"\"CREATE TABLE result (roll INT PRIMARY KEY,dept VARCHAR(30),cgpa float) \"\"\"\n",
    "    )\n",
    "    conn.commit()"
   ]
  },
  {
   "cell_type": "markdown",
   "metadata": {},
   "source": [
    "# Insert Value"
   ]
  },
  {
   "cell_type": "code",
   "execution_count": 27,
   "metadata": {},
   "outputs": [],
   "source": [
    "users = [\n",
    "    (101,'CSE',3.80),\n",
    "    (102,'CSE',3.85),\n",
    "    (103,'ENG',3.92),\n",
    "    (104,'EEE',3.75),\n",
    "    (106,'EEE',3.65),\n",
    "    (107,'MATH',3.90)\n",
    "]\n",
    "\n",
    "with sql3.connect('database.sqlite3') as conn:\n",
    "    cursor = conn.cursor()\n",
    "    cursor.executemany(\n",
    "        \"\"\"INSERT INTO result VALUES(?,?,?)\"\"\",users\n",
    "    )\n",
    "    conn.commit()"
   ]
  },
  {
   "cell_type": "markdown",
   "metadata": {},
   "source": [
    "# Shows Value"
   ]
  },
  {
   "cell_type": "code",
   "execution_count": 28,
   "metadata": {},
   "outputs": [
    {
     "name": "stdout",
     "output_type": "stream",
     "text": [
      "(101, 'CSE', 3.8)\n",
      "(102, 'CSE', 3.85)\n",
      "(103, 'ENG', 3.92)\n",
      "(104, 'EEE', 3.75)\n",
      "(106, 'EEE', 3.65)\n",
      "(107, 'MATH', 3.9)\n"
     ]
    }
   ],
   "source": [
    "with sql3.connect('database.sqlite3') as conn:\n",
    "    cursor = conn.cursor()\n",
    "    res=cursor.execute(\n",
    "        \"\"\"SELECT * FROM result\"\"\"\n",
    "    )\n",
    "    for i in res:\n",
    "        print(i)"
   ]
  },
  {
   "cell_type": "markdown",
   "metadata": {},
   "source": [
    "# Join Table"
   ]
  },
  {
   "cell_type": "code",
   "execution_count": 29,
   "metadata": {},
   "outputs": [
    {
     "name": "stdout",
     "output_type": "stream",
     "text": [
      "(101, 'Raihan Sikdar', 'CSE', 3.8)\n",
      "(102, 'John Smith', 'CSE', 3.85)\n",
      "(103, 'Alexa Jones', 'ENG', 3.92)\n",
      "(104, 'Alley P', 'EEE', 3.75)\n",
      "(106, 'Babar Azam', 'EEE', 3.65)\n",
      "(107, 'Afridi', 'MATH', 3.9)\n"
     ]
    }
   ],
   "source": [
    "with sql3.connect('database.sqlite3') as conn:\n",
    "    cursor = conn.cursor()\n",
    "    res=cursor.execute(\n",
    "        \"\"\"SELECT student.roll,name,dept,cgpa \n",
    "           FROM student,result\n",
    "           WHERE student.roll = result.roll\"\"\"\n",
    "    )\n",
    "    for i in res:\n",
    "        print(i)"
   ]
  },
  {
   "cell_type": "markdown",
   "metadata": {},
   "source": [
    "# Join Clause"
   ]
  },
  {
   "cell_type": "code",
   "execution_count": 30,
   "metadata": {},
   "outputs": [
    {
     "name": "stdout",
     "output_type": "stream",
     "text": [
      "(101, 'Raihan Sikdar', 'CSE', 3.8)\n",
      "(102, 'John Smith', 'CSE', 3.85)\n",
      "(103, 'Alexa Jones', 'ENG', 3.92)\n",
      "(104, 'Alley P', 'EEE', 3.75)\n",
      "(106, 'Babar Azam', 'EEE', 3.65)\n",
      "(107, 'Afridi', 'MATH', 3.9)\n"
     ]
    }
   ],
   "source": [
    "with sql3.connect('database.sqlite3') as conn:\n",
    "    cursor = conn.cursor()\n",
    "    res=cursor.execute(\n",
    "        \"\"\"SELECT student.roll,name,dept,cgpa \n",
    "           FROM student JOIN result\n",
    "           ON student.roll = result.roll\"\"\"\n",
    "    )\n",
    "    for i in res:\n",
    "        print(i)"
   ]
  },
  {
   "cell_type": "markdown",
   "metadata": {},
   "source": [
    "# Inner Join"
   ]
  },
  {
   "cell_type": "code",
   "execution_count": 31,
   "metadata": {},
   "outputs": [
    {
     "name": "stdout",
     "output_type": "stream",
     "text": [
      "(101, 'Raihan Sikdar', 'CSE', 3.8)\n",
      "(102, 'John Smith', 'CSE', 3.85)\n",
      "(103, 'Alexa Jones', 'ENG', 3.92)\n",
      "(104, 'Alley P', 'EEE', 3.75)\n",
      "(106, 'Babar Azam', 'EEE', 3.65)\n",
      "(107, 'Afridi', 'MATH', 3.9)\n"
     ]
    }
   ],
   "source": [
    "with sql3.connect('database.sqlite3') as conn:\n",
    "    cursor = conn.cursor()\n",
    "    res=cursor.execute(\n",
    "        \"\"\"SELECT student.roll,name,dept,cgpa \n",
    "           FROM student INNER JOIN result\n",
    "           ON student.roll = result.roll\"\"\"\n",
    "    )\n",
    "    for i in res:\n",
    "        print(i)"
   ]
  },
  {
   "cell_type": "markdown",
   "metadata": {},
   "source": [
    "# Left Join"
   ]
  },
  {
   "cell_type": "code",
   "execution_count": 32,
   "metadata": {},
   "outputs": [
    {
     "name": "stdout",
     "output_type": "stream",
     "text": [
      "(101, 'Raihan Sikdar', 'CSE', 3.8)\n",
      "(102, 'John Smith', 'CSE', 3.85)\n",
      "(103, 'Alexa Jones', 'ENG', 3.92)\n",
      "(104, 'Alley P', 'EEE', 3.75)\n",
      "(106, 'Babar Azam', 'EEE', 3.65)\n",
      "(107, 'Afridi', 'MATH', 3.9)\n",
      "(108, 'Nasir', None, None)\n"
     ]
    }
   ],
   "source": [
    "with sql3.connect('database.sqlite3') as conn:\n",
    "    cursor = conn.cursor()\n",
    "    res=cursor.execute(\n",
    "        \"\"\"SELECT student.roll,name,dept,cgpa \n",
    "           FROM student LEFT JOIN result\n",
    "           ON student.roll = result.roll\"\"\"\n",
    "    )\n",
    "    for i in res:\n",
    "        print(i)"
   ]
  },
  {
   "cell_type": "markdown",
   "metadata": {},
   "source": [
    "## Deleting Table"
   ]
  },
  {
   "cell_type": "code",
   "execution_count": 33,
   "metadata": {},
   "outputs": [],
   "source": [
    "# with sql3.connect('database.sqlite3') as conn:\n",
    "#     cursor = conn.cursor()\n",
    "#     cursor.execute(\n",
    "#         \"\"\"DROP TABLE student\"\"\",\n",
    "#     )\n",
    "#     conn.commit()"
   ]
  },
  {
   "cell_type": "code",
   "execution_count": 34,
   "metadata": {},
   "outputs": [],
   "source": [
    "# https://www.sqlite.org/lang.html"
   ]
  },
  {
   "cell_type": "code",
   "execution_count": 35,
   "metadata": {},
   "outputs": [],
   "source": [
    "# https://sqliteonline.com/"
   ]
  }
 ],
 "metadata": {
  "kernelspec": {
   "display_name": "Python 3.8.8 ('base')",
   "language": "python",
   "name": "python3"
  },
  "language_info": {
   "codemirror_mode": {
    "name": "ipython",
    "version": 3
   },
   "file_extension": ".py",
   "mimetype": "text/x-python",
   "name": "python",
   "nbconvert_exporter": "python",
   "pygments_lexer": "ipython3",
   "version": "3.8.8"
  },
  "orig_nbformat": 4,
  "vscode": {
   "interpreter": {
    "hash": "f08154012ddadd8e950e6e9e035c7a7b32c136e7647e9b7c77e02eb723a8bedb"
   }
  }
 },
 "nbformat": 4,
 "nbformat_minor": 2
}
