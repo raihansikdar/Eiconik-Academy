{
 "cells": [
  {
   "cell_type": "markdown",
   "id": "cedea7de",
   "metadata": {},
   "source": [
    "## Statics with Numpy"
   ]
  },
  {
   "cell_type": "code",
   "execution_count": 1,
   "id": "cd9fccfa",
   "metadata": {},
   "outputs": [],
   "source": [
    "import numpy as np"
   ]
  },
  {
   "cell_type": "code",
   "execution_count": 2,
   "id": "dfb87dad",
   "metadata": {},
   "outputs": [],
   "source": [
    "arr = np.array([\n",
    "    [23, 14, 54],\n",
    "    [22, 56, 29],\n",
    "    [22, 53, 78]\n",
    "])"
   ]
  },
  {
   "cell_type": "code",
   "execution_count": 3,
   "id": "98cce7cb",
   "metadata": {},
   "outputs": [
    {
     "data": {
      "text/plain": [
       "array([[23, 14, 54],\n",
       "       [22, 56, 29],\n",
       "       [22, 53, 78]])"
      ]
     },
     "execution_count": 3,
     "metadata": {},
     "output_type": "execute_result"
    }
   ],
   "source": [
    "matrix = arr\n",
    "matrix"
   ]
  },
  {
   "cell_type": "code",
   "execution_count": 4,
   "id": "f550a526",
   "metadata": {},
   "outputs": [
    {
     "data": {
      "text/plain": [
       "351"
      ]
     },
     "execution_count": 4,
     "metadata": {},
     "output_type": "execute_result"
    }
   ],
   "source": [
    "matrix.sum()"
   ]
  },
  {
   "cell_type": "code",
   "execution_count": 5,
   "id": "534c5be4",
   "metadata": {},
   "outputs": [
    {
     "data": {
      "text/plain": [
       "array([ 67, 123, 161])"
      ]
     },
     "execution_count": 5,
     "metadata": {},
     "output_type": "execute_result"
    }
   ],
   "source": [
    "matrix.sum(axis = 0) # column major"
   ]
  },
  {
   "cell_type": "code",
   "execution_count": 6,
   "id": "a1bf0a9c",
   "metadata": {},
   "outputs": [
    {
     "data": {
      "text/plain": [
       "array([ 91, 107, 153])"
      ]
     },
     "execution_count": 6,
     "metadata": {},
     "output_type": "execute_result"
    }
   ],
   "source": [
    "matrix.sum(axis = 1) # row major"
   ]
  },
  {
   "cell_type": "code",
   "execution_count": 7,
   "id": "81cbaec3",
   "metadata": {},
   "outputs": [
    {
     "data": {
      "text/plain": [
       "39.0"
      ]
     },
     "execution_count": 7,
     "metadata": {},
     "output_type": "execute_result"
    }
   ],
   "source": [
    "matrix.mean()"
   ]
  },
  {
   "cell_type": "code",
   "execution_count": 8,
   "id": "1785ea3f",
   "metadata": {
    "scrolled": true
   },
   "outputs": [
    {
     "data": {
      "text/plain": [
       "array([22.33333333, 41.        , 53.66666667])"
      ]
     },
     "execution_count": 8,
     "metadata": {},
     "output_type": "execute_result"
    }
   ],
   "source": [
    "matrix.mean(axis=0)"
   ]
  },
  {
   "cell_type": "code",
   "execution_count": 9,
   "id": "8928acc8",
   "metadata": {},
   "outputs": [
    {
     "data": {
      "text/plain": [
       "array([30.33333333, 35.66666667, 51.        ])"
      ]
     },
     "execution_count": 9,
     "metadata": {},
     "output_type": "execute_result"
    }
   ],
   "source": [
    "matrix.mean(axis = 1)"
   ]
  },
  {
   "cell_type": "code",
   "execution_count": 10,
   "id": "524b5682",
   "metadata": {},
   "outputs": [
    {
     "data": {
      "text/plain": [
       "True"
      ]
     },
     "execution_count": 10,
     "metadata": {},
     "output_type": "execute_result"
    }
   ],
   "source": [
    "matrix.all()      # not a single value will be 0 .if 0 then return False"
   ]
  },
  {
   "cell_type": "code",
   "execution_count": 11,
   "id": "c53f7261",
   "metadata": {},
   "outputs": [
    {
     "data": {
      "text/plain": [
       "True"
      ]
     },
     "execution_count": 11,
     "metadata": {},
     "output_type": "execute_result"
    }
   ],
   "source": [
    "matrix.any()     # if one value is true return true"
   ]
  },
  {
   "cell_type": "code",
   "execution_count": 12,
   "id": "46b2327b",
   "metadata": {},
   "outputs": [
    {
     "data": {
      "text/plain": [
       "array([[ 23,  14,  54],\n",
       "       [ 45,  70,  83],\n",
       "       [ 67, 123, 161]], dtype=int32)"
      ]
     },
     "execution_count": 12,
     "metadata": {},
     "output_type": "execute_result"
    }
   ],
   "source": [
    "matrix.cumsum(axis = 0)"
   ]
  },
  {
   "cell_type": "code",
   "execution_count": 13,
   "id": "b1414baf",
   "metadata": {},
   "outputs": [
    {
     "data": {
      "text/plain": [
       "array([[    23,     14,     54],\n",
       "       [   506,    784,   1566],\n",
       "       [ 11132,  41552, 122148]], dtype=int32)"
      ]
     },
     "execution_count": 13,
     "metadata": {},
     "output_type": "execute_result"
    }
   ],
   "source": [
    "matrix.cumprod(axis = 0)"
   ]
  },
  {
   "cell_type": "code",
   "execution_count": 14,
   "id": "6c50c0a3",
   "metadata": {},
   "outputs": [
    {
     "data": {
      "text/plain": [
       "78"
      ]
     },
     "execution_count": 14,
     "metadata": {},
     "output_type": "execute_result"
    }
   ],
   "source": [
    "matrix.max()"
   ]
  },
  {
   "cell_type": "code",
   "execution_count": 15,
   "id": "1ec0e901",
   "metadata": {},
   "outputs": [
    {
     "data": {
      "text/plain": [
       "array([23, 56, 78])"
      ]
     },
     "execution_count": 15,
     "metadata": {},
     "output_type": "execute_result"
    }
   ],
   "source": [
    "matrix.max(axis = 0)"
   ]
  },
  {
   "cell_type": "code",
   "execution_count": 16,
   "id": "65ecdefd",
   "metadata": {},
   "outputs": [
    {
     "data": {
      "text/plain": [
       "14"
      ]
     },
     "execution_count": 16,
     "metadata": {},
     "output_type": "execute_result"
    }
   ],
   "source": [
    "matrix.min()"
   ]
  },
  {
   "cell_type": "code",
   "execution_count": 17,
   "id": "411e5d2c",
   "metadata": {},
   "outputs": [
    {
     "data": {
      "text/plain": [
       "array([14, 22, 22])"
      ]
     },
     "execution_count": 17,
     "metadata": {},
     "output_type": "execute_result"
    }
   ],
   "source": [
    "matrix.min(axis = 1)"
   ]
  },
  {
   "cell_type": "code",
   "execution_count": 18,
   "id": "afc91664",
   "metadata": {},
   "outputs": [
    {
     "data": {
      "text/plain": [
       "421.1111111111111"
      ]
     },
     "execution_count": 18,
     "metadata": {},
     "output_type": "execute_result"
    }
   ],
   "source": [
    "matrix.var()  #variance"
   ]
  },
  {
   "cell_type": "code",
   "execution_count": 19,
   "id": "07bc7442",
   "metadata": {},
   "outputs": [
    {
     "data": {
      "text/plain": [
       "array([2.22222222e-01, 3.66000000e+02, 4.00222222e+02])"
      ]
     },
     "execution_count": 19,
     "metadata": {},
     "output_type": "execute_result"
    }
   ],
   "source": [
    "matrix.var(axis = 0) "
   ]
  },
  {
   "cell_type": "code",
   "execution_count": 20,
   "id": "426933f6",
   "metadata": {},
   "outputs": [
    {
     "data": {
      "text/plain": [
       "array([ 0.47140452, 19.13112647, 20.00555478])"
      ]
     },
     "execution_count": 20,
     "metadata": {},
     "output_type": "execute_result"
    }
   ],
   "source": [
    "np.sqrt(matrix.var(axis = 0) )"
   ]
  },
  {
   "cell_type": "code",
   "execution_count": 21,
   "id": "93466b19",
   "metadata": {},
   "outputs": [
    {
     "data": {
      "text/plain": [
       "array([ 0.47140452, 19.13112647, 20.00555478])"
      ]
     },
     "execution_count": 21,
     "metadata": {},
     "output_type": "execute_result"
    }
   ],
   "source": [
    "matrix.std(axis=0)"
   ]
  },
  {
   "cell_type": "code",
   "execution_count": 22,
   "id": "590614c0",
   "metadata": {},
   "outputs": [
    {
     "data": {
      "text/plain": [
       "array([[ 440.33333333, -194.83333333,  409.5       ],\n",
       "       [-194.83333333,  322.33333333,  128.5       ],\n",
       "       [ 409.5       ,  128.5       ,  787.        ]])"
      ]
     },
     "execution_count": 22,
     "metadata": {},
     "output_type": "execute_result"
    }
   ],
   "source": [
    "np.cov(matrix)"
   ]
  },
  {
   "cell_type": "code",
   "execution_count": 23,
   "id": "ed2313a2",
   "metadata": {},
   "outputs": [
    {
     "data": {
      "text/plain": [
       "array([22.5, 54.5, 66. ])"
      ]
     },
     "execution_count": 23,
     "metadata": {},
     "output_type": "execute_result"
    }
   ],
   "source": [
    "np.quantile(matrix, 0.75,axis=0)"
   ]
  },
  {
   "cell_type": "markdown",
   "id": "ec009c18",
   "metadata": {},
   "source": [
    "# Linear Algebra"
   ]
  },
  {
   "cell_type": "code",
   "execution_count": 24,
   "id": "34ac07e0",
   "metadata": {},
   "outputs": [],
   "source": [
    "from numpy import linalg"
   ]
  },
  {
   "cell_type": "code",
   "execution_count": 25,
   "id": "d2b7c049",
   "metadata": {},
   "outputs": [
    {
     "data": {
      "text/plain": [
       "46456.999999999935"
      ]
     },
     "execution_count": 25,
     "metadata": {},
     "output_type": "execute_result"
    }
   ],
   "source": [
    "linalg.det(matrix)"
   ]
  },
  {
   "cell_type": "code",
   "execution_count": 26,
   "id": "7ce5bdcf",
   "metadata": {},
   "outputs": [
    {
     "data": {
      "text/plain": [
       "array([[ 0.06093807,  0.03809975, -0.05635319],\n",
       "       [-0.02320425,  0.01304432,  0.01121467],\n",
       "       [-0.00142067, -0.01960953,  0.02109478]])"
      ]
     },
     "execution_count": 26,
     "metadata": {},
     "output_type": "execute_result"
    }
   ],
   "source": [
    "linalg.inv(matrix)"
   ]
  },
  {
   "cell_type": "code",
   "execution_count": 27,
   "id": "ff654210",
   "metadata": {},
   "outputs": [
    {
     "data": {
      "text/plain": [
       "132.20816918783802"
      ]
     },
     "execution_count": 27,
     "metadata": {},
     "output_type": "execute_result"
    }
   ],
   "source": [
    "linalg.norm(matrix)"
   ]
  },
  {
   "cell_type": "code",
   "execution_count": 28,
   "id": "fccf33d1",
   "metadata": {},
   "outputs": [
    {
     "data": {
      "text/plain": [
       "array([0., 0., 1.])"
      ]
     },
     "execution_count": 28,
     "metadata": {},
     "output_type": "execute_result"
    }
   ],
   "source": [
    "a = matrix\n",
    "b = matrix[:,-1]\n",
    "linalg.solve(a,b)"
   ]
  },
  {
   "cell_type": "code",
   "execution_count": 29,
   "id": "29e338fa",
   "metadata": {},
   "outputs": [
    {
     "data": {
      "text/plain": [
       "(array([[-0.44073058, -0.61199327,  0.65667404],\n",
       "        [-0.47883647,  0.77906726,  0.40468487],\n",
       "        [-0.75925766, -0.13608248, -0.63640346]]),\n",
       " array([127.08269403,  34.91984155,  10.46869348]),\n",
       " array([[-0.29409885, -0.57620533, -0.76255707],\n",
       "        [ 0.00199943,  0.79746895, -0.60335667],\n",
       "        [ 0.95577292, -0.17897119, -0.23338262]]))"
      ]
     },
     "execution_count": 29,
     "metadata": {},
     "output_type": "execute_result"
    }
   ],
   "source": [
    "linalg.svd(matrix)"
   ]
  },
  {
   "cell_type": "code",
   "execution_count": 30,
   "id": "4e4c07a8",
   "metadata": {},
   "outputs": [
    {
     "data": {
      "text/plain": [
       "(array([124.52524257 +0.j        ,  16.23737872+10.46042474j,\n",
       "         16.23737872-10.46042474j]),\n",
       " array([[ 0.46451561+0.j        ,  0.84565438+0.j        ,\n",
       "          0.84565438-0.j        ],\n",
       "        [ 0.46744193+0.j        , -0.39261939-0.27470275j,\n",
       "         -0.39261939+0.27470275j],\n",
       "        [ 0.75214579+0.j        , -0.00411424+0.23503227j,\n",
       "         -0.00411424-0.23503227j]]))"
      ]
     },
     "execution_count": 30,
     "metadata": {},
     "output_type": "execute_result"
    }
   ],
   "source": [
    "linalg.eig(matrix)"
   ]
  },
  {
   "cell_type": "code",
   "execution_count": 31,
   "id": "7d42db24",
   "metadata": {},
   "outputs": [
    {
     "data": {
      "text/plain": [
       "(array([ 10.34860957,  16.5692369 , 130.08215354]),\n",
       " array([[-0.61245287,  0.74006312, -0.27786337],\n",
       "        [ 0.70660845,  0.35492888, -0.61215194],\n",
       "        [-0.35440934, -0.57125482, -0.74031207]]))"
      ]
     },
     "execution_count": 31,
     "metadata": {},
     "output_type": "execute_result"
    }
   ],
   "source": [
    "linalg.eigh(matrix)"
   ]
  },
  {
   "cell_type": "code",
   "execution_count": 32,
   "id": "d8613f60",
   "metadata": {},
   "outputs": [
    {
     "data": {
      "text/plain": [
       "array([[ 4050,  7936, 11720],\n",
       "       [ 4752,  9962, 10148],\n",
       "       [ 6776, 14820, 17618]])"
      ]
     },
     "execution_count": 32,
     "metadata": {},
     "output_type": "execute_result"
    }
   ],
   "source": [
    "np.dot(matrix,matrix*2)"
   ]
  },
  {
   "cell_type": "code",
   "execution_count": 33,
   "id": "9cee1549",
   "metadata": {},
   "outputs": [
    {
     "data": {
      "text/plain": [
       "array([[0, 0, 0],\n",
       "       [0, 0, 0],\n",
       "       [0, 0, 0]])"
      ]
     },
     "execution_count": 33,
     "metadata": {},
     "output_type": "execute_result"
    }
   ],
   "source": [
    "np.cross(matrix,matrix*2)"
   ]
  },
  {
   "cell_type": "code",
   "execution_count": 34,
   "id": "2a95926d",
   "metadata": {},
   "outputs": [
    {
     "data": {
      "text/plain": [
       "3"
      ]
     },
     "execution_count": 34,
     "metadata": {},
     "output_type": "execute_result"
    }
   ],
   "source": [
    "linalg.matrix_rank(matrix)"
   ]
  },
  {
   "cell_type": "code",
   "execution_count": 35,
   "id": "2d8ce1a4",
   "metadata": {},
   "outputs": [
    {
     "data": {
      "text/plain": [
       "array([[-0.8462204 ,  0.99060736, -0.55878905],\n",
       "       [-0.00885131, -0.521551  , -0.66363388],\n",
       "       [-0.00885131,  0.39592515,  0.51397846]])"
      ]
     },
     "execution_count": 35,
     "metadata": {},
     "output_type": "execute_result"
    }
   ],
   "source": [
    "np.sin(matrix)"
   ]
  },
  {
   "cell_type": "code",
   "execution_count": 36,
   "id": "46c1f7b3",
   "metadata": {},
   "outputs": [
    {
     "data": {
      "text/plain": [
       "array([[ 1.58815308,  7.24460662,  0.6738001 ],\n",
       "       [ 0.00885166, -0.61127369,  0.88714284],\n",
       "       [ 0.00885166, -0.4311582 , -0.59918   ]])"
      ]
     },
     "execution_count": 36,
     "metadata": {},
     "output_type": "execute_result"
    }
   ],
   "source": [
    "np.tan(matrix)"
   ]
  },
  {
   "cell_type": "code",
   "execution_count": 37,
   "id": "62a86ee6",
   "metadata": {},
   "outputs": [
    {
     "data": {
      "text/plain": [
       "array([[23, 14, 54],\n",
       "       [22, 56, 29],\n",
       "       [22, 53, 78]])"
      ]
     },
     "execution_count": 37,
     "metadata": {},
     "output_type": "execute_result"
    }
   ],
   "source": [
    "matrix"
   ]
  },
  {
   "cell_type": "code",
   "execution_count": 38,
   "id": "0c62b447",
   "metadata": {},
   "outputs": [
    {
     "data": {
      "text/plain": [
       "array([[23, 22, 22],\n",
       "       [14, 56, 53],\n",
       "       [54, 29, 78]])"
      ]
     },
     "execution_count": 38,
     "metadata": {},
     "output_type": "execute_result"
    }
   ],
   "source": [
    "matrix.T"
   ]
  },
  {
   "cell_type": "code",
   "execution_count": 39,
   "id": "4315c284",
   "metadata": {},
   "outputs": [
    {
     "data": {
      "text/plain": [
       "array([[23, 22, 22],\n",
       "       [14, 56, 53],\n",
       "       [54, 29, 78]])"
      ]
     },
     "execution_count": 39,
     "metadata": {},
     "output_type": "execute_result"
    }
   ],
   "source": [
    "np.transpose(matrix)"
   ]
  },
  {
   "cell_type": "markdown",
   "id": "b093dc6b",
   "metadata": {},
   "source": [
    "## Shaping"
   ]
  },
  {
   "cell_type": "code",
   "execution_count": 40,
   "id": "a0568976",
   "metadata": {},
   "outputs": [
    {
     "data": {
      "text/plain": [
       "(3, 3)"
      ]
     },
     "execution_count": 40,
     "metadata": {},
     "output_type": "execute_result"
    }
   ],
   "source": [
    "matrix.shape"
   ]
  },
  {
   "cell_type": "code",
   "execution_count": 41,
   "id": "76f8b06f",
   "metadata": {},
   "outputs": [
    {
     "data": {
      "text/plain": [
       "array([[23, 14, 54, 22, 56, 29, 22, 53, 78]])"
      ]
     },
     "execution_count": 41,
     "metadata": {},
     "output_type": "execute_result"
    }
   ],
   "source": [
    "matrix.reshape(1,9)"
   ]
  },
  {
   "cell_type": "code",
   "execution_count": 42,
   "id": "ce375023",
   "metadata": {},
   "outputs": [],
   "source": [
    "mat1 = np.array([\n",
    "    [28, 19, 59, 32, 72, 59],\n",
    "    [27, 61, 34, 75, 28, 72],\n",
    "    [27, 58, 83, 19, 68, 90],\n",
    "    [56, 58, 69, 57, 84, 99]\n",
    "])"
   ]
  },
  {
   "cell_type": "code",
   "execution_count": 43,
   "id": "4a747dd8",
   "metadata": {},
   "outputs": [
    {
     "data": {
      "text/plain": [
       "(4, 6)"
      ]
     },
     "execution_count": 43,
     "metadata": {},
     "output_type": "execute_result"
    }
   ],
   "source": [
    "mat1.shape"
   ]
  },
  {
   "cell_type": "code",
   "execution_count": 44,
   "id": "a7a52f25",
   "metadata": {},
   "outputs": [
    {
     "data": {
      "text/plain": [
       "array([[28, 19, 59, 32, 72, 59, 27, 61, 34, 75, 28, 72],\n",
       "       [27, 58, 83, 19, 68, 90, 56, 58, 69, 57, 84, 99]])"
      ]
     },
     "execution_count": 44,
     "metadata": {},
     "output_type": "execute_result"
    }
   ],
   "source": [
    "mat1.reshape(2,12)"
   ]
  },
  {
   "cell_type": "code",
   "execution_count": 45,
   "id": "073295dc",
   "metadata": {},
   "outputs": [
    {
     "data": {
      "text/plain": [
       "array([[28, 19, 59, 32, 72, 59, 27, 61],\n",
       "       [34, 75, 28, 72, 27, 58, 83, 19],\n",
       "       [68, 90, 56, 58, 69, 57, 84, 99]])"
      ]
     },
     "execution_count": 45,
     "metadata": {},
     "output_type": "execute_result"
    }
   ],
   "source": [
    "mat1.reshape(3,8)"
   ]
  },
  {
   "cell_type": "code",
   "execution_count": 46,
   "id": "886149cd",
   "metadata": {},
   "outputs": [
    {
     "data": {
      "text/plain": [
       "array([[28, 19, 59, 32],\n",
       "       [72, 59, 27, 61],\n",
       "       [34, 75, 28, 72],\n",
       "       [27, 58, 83, 19],\n",
       "       [68, 90, 56, 58],\n",
       "       [69, 57, 84, 99]])"
      ]
     },
     "execution_count": 46,
     "metadata": {},
     "output_type": "execute_result"
    }
   ],
   "source": [
    "mat1.reshape(6,4)"
   ]
  },
  {
   "cell_type": "code",
   "execution_count": 47,
   "id": "214e8f00",
   "metadata": {},
   "outputs": [
    {
     "data": {
      "text/plain": [
       "array([[28, 19, 59, 32, 72, 59],\n",
       "       [27, 61, 34, 75, 28, 72],\n",
       "       [27, 58, 83, 19, 68, 90],\n",
       "       [56, 58, 69, 57, 84, 99]])"
      ]
     },
     "execution_count": 47,
     "metadata": {},
     "output_type": "execute_result"
    }
   ],
   "source": [
    "mat1"
   ]
  },
  {
   "cell_type": "code",
   "execution_count": 48,
   "id": "1ae17865",
   "metadata": {},
   "outputs": [
    {
     "data": {
      "text/plain": [
       "array([28, 19, 59, 32, 72, 59, 27, 61, 34, 75, 28, 72, 27, 58, 83, 19, 68,\n",
       "       90, 56, 58, 69, 57, 84, 99])"
      ]
     },
     "execution_count": 48,
     "metadata": {},
     "output_type": "execute_result"
    }
   ],
   "source": [
    "mat1.ravel()"
   ]
  },
  {
   "cell_type": "code",
   "execution_count": 49,
   "id": "799c020f",
   "metadata": {},
   "outputs": [
    {
     "data": {
      "text/plain": [
       "array([[28, 19, 59, 32, 72, 59],\n",
       "       [27, 61, 34, 75, 28, 72],\n",
       "       [27, 58, 83, 19, 68, 90],\n",
       "       [56, 58, 69, 57, 84, 99]])"
      ]
     },
     "execution_count": 49,
     "metadata": {},
     "output_type": "execute_result"
    }
   ],
   "source": [
    "mat1"
   ]
  },
  {
   "cell_type": "code",
   "execution_count": 50,
   "id": "f75d1b11",
   "metadata": {},
   "outputs": [
    {
     "data": {
      "text/plain": [
       "array([28, 19, 59, 32, 72, 59, 27, 61, 34, 75, 28, 72, 27, 58, 83, 19, 68,\n",
       "       90, 56, 58, 69, 57, 84, 99])"
      ]
     },
     "execution_count": 50,
     "metadata": {},
     "output_type": "execute_result"
    }
   ],
   "source": [
    "mat1.flatten()"
   ]
  },
  {
   "cell_type": "code",
   "execution_count": 51,
   "id": "6eac37c5",
   "metadata": {},
   "outputs": [
    {
     "data": {
      "text/plain": [
       "23"
      ]
     },
     "execution_count": 51,
     "metadata": {},
     "output_type": "execute_result"
    }
   ],
   "source": [
    "mat1.argmax() # maximum value index or location"
   ]
  },
  {
   "cell_type": "code",
   "execution_count": 52,
   "id": "aeae689c",
   "metadata": {},
   "outputs": [
    {
     "data": {
      "text/plain": [
       "array([3, 1, 2, 1, 3, 3], dtype=int64)"
      ]
     },
     "execution_count": 52,
     "metadata": {},
     "output_type": "execute_result"
    }
   ],
   "source": [
    "mat1.argmax(axis = 0)"
   ]
  },
  {
   "cell_type": "code",
   "execution_count": 53,
   "id": "dc8363ab",
   "metadata": {},
   "outputs": [
    {
     "data": {
      "text/plain": [
       "array([1, 0, 1, 2, 1, 0], dtype=int64)"
      ]
     },
     "execution_count": 53,
     "metadata": {},
     "output_type": "execute_result"
    }
   ],
   "source": [
    "mat1.argmin(axis = 0)"
   ]
  },
  {
   "cell_type": "code",
   "execution_count": 54,
   "id": "3f91be5e",
   "metadata": {},
   "outputs": [
    {
     "data": {
      "text/plain": [
       "array([[1, 0, 3, 2, 5, 4],\n",
       "       [0, 4, 2, 1, 5, 3],\n",
       "       [3, 0, 1, 4, 2, 5],\n",
       "       [0, 3, 1, 2, 4, 5]], dtype=int64)"
      ]
     },
     "execution_count": 54,
     "metadata": {},
     "output_type": "execute_result"
    }
   ],
   "source": [
    "mat1.argsort()"
   ]
  },
  {
   "cell_type": "code",
   "execution_count": 55,
   "id": "e09bd82d",
   "metadata": {},
   "outputs": [
    {
     "data": {
      "text/plain": [
       "array([[1, 0, 1, 2, 1, 0],\n",
       "       [2, 2, 0, 0, 2, 1],\n",
       "       [0, 3, 3, 3, 0, 2],\n",
       "       [3, 1, 2, 1, 3, 3]], dtype=int64)"
      ]
     },
     "execution_count": 55,
     "metadata": {},
     "output_type": "execute_result"
    }
   ],
   "source": [
    "mat1.argsort(axis = 0)   # location er upor sort kore not value"
   ]
  },
  {
   "cell_type": "code",
   "execution_count": 56,
   "id": "37d12f75",
   "metadata": {},
   "outputs": [
    {
     "data": {
      "text/plain": [
       "(4, 6)"
      ]
     },
     "execution_count": 56,
     "metadata": {},
     "output_type": "execute_result"
    }
   ],
   "source": [
    "mat1.shape"
   ]
  },
  {
   "cell_type": "code",
   "execution_count": 57,
   "id": "28cceebf",
   "metadata": {},
   "outputs": [
    {
     "data": {
      "text/plain": [
       "array([[[28, 19, 59, 32],\n",
       "        [72, 59, 27, 61],\n",
       "        [34, 75, 28, 72]],\n",
       "\n",
       "       [[27, 58, 83, 19],\n",
       "        [68, 90, 56, 58],\n",
       "        [69, 57, 84, 99]]])"
      ]
     },
     "execution_count": 57,
     "metadata": {},
     "output_type": "execute_result"
    }
   ],
   "source": [
    "mat1.reshape(2,3,4)"
   ]
  },
  {
   "cell_type": "code",
   "execution_count": 58,
   "id": "e71d05a2",
   "metadata": {},
   "outputs": [
    {
     "data": {
      "text/plain": [
       "array([[[[28, 19],\n",
       "         [59, 32]],\n",
       "\n",
       "        [[72, 59],\n",
       "         [27, 61]],\n",
       "\n",
       "        [[34, 75],\n",
       "         [28, 72]]],\n",
       "\n",
       "\n",
       "       [[[27, 58],\n",
       "         [83, 19]],\n",
       "\n",
       "        [[68, 90],\n",
       "         [56, 58]],\n",
       "\n",
       "        [[69, 57],\n",
       "         [84, 99]]]])"
      ]
     },
     "execution_count": 58,
     "metadata": {},
     "output_type": "execute_result"
    }
   ],
   "source": [
    "mat1.reshape(2,3,2,2)"
   ]
  },
  {
   "cell_type": "code",
   "execution_count": 59,
   "id": "33a06a0f",
   "metadata": {},
   "outputs": [
    {
     "data": {
      "text/plain": [
       "dtype('int32')"
      ]
     },
     "execution_count": 59,
     "metadata": {},
     "output_type": "execute_result"
    }
   ],
   "source": [
    "mat1.dtype"
   ]
  },
  {
   "cell_type": "code",
   "execution_count": 60,
   "id": "daf42d3e",
   "metadata": {},
   "outputs": [
    {
     "data": {
      "text/plain": [
       "array([[28., 19., 59., 32., 72., 59.],\n",
       "       [27., 61., 34., 75., 28., 72.],\n",
       "       [27., 58., 83., 19., 68., 90.],\n",
       "       [56., 58., 69., 57., 84., 99.]], dtype=float32)"
      ]
     },
     "execution_count": 60,
     "metadata": {},
     "output_type": "execute_result"
    }
   ],
   "source": [
    "mat1.astype(np.float32)"
   ]
  },
  {
   "cell_type": "code",
   "execution_count": 61,
   "id": "94d2c328",
   "metadata": {},
   "outputs": [
    {
     "data": {
      "text/plain": [
       "array([[28.+0.j, 19.+0.j, 59.+0.j, 32.+0.j, 72.+0.j, 59.+0.j],\n",
       "       [27.+0.j, 61.+0.j, 34.+0.j, 75.+0.j, 28.+0.j, 72.+0.j],\n",
       "       [27.+0.j, 58.+0.j, 83.+0.j, 19.+0.j, 68.+0.j, 90.+0.j],\n",
       "       [56.+0.j, 58.+0.j, 69.+0.j, 57.+0.j, 84.+0.j, 99.+0.j]])"
      ]
     },
     "execution_count": 61,
     "metadata": {},
     "output_type": "execute_result"
    }
   ],
   "source": [
    "mat1.astype(np.complex_)"
   ]
  },
  {
   "cell_type": "code",
   "execution_count": 62,
   "id": "59ebc4de",
   "metadata": {},
   "outputs": [
    {
     "data": {
      "text/plain": [
       "[array([[28, 19],\n",
       "        [27, 61],\n",
       "        [27, 58],\n",
       "        [56, 58]]),\n",
       " array([[59, 32],\n",
       "        [34, 75],\n",
       "        [83, 19],\n",
       "        [69, 57]]),\n",
       " array([[72, 59],\n",
       "        [28, 72],\n",
       "        [68, 90],\n",
       "        [84, 99]])]"
      ]
     },
     "execution_count": 62,
     "metadata": {},
     "output_type": "execute_result"
    }
   ],
   "source": [
    "np.hsplit(mat1,3)          # horizantal split column wise"
   ]
  },
  {
   "cell_type": "code",
   "execution_count": 63,
   "id": "c0574a4f",
   "metadata": {},
   "outputs": [
    {
     "data": {
      "text/plain": [
       "[array([[28, 19, 59, 32, 72, 59],\n",
       "        [27, 61, 34, 75, 28, 72]]),\n",
       " array([[27, 58, 83, 19, 68, 90],\n",
       "        [56, 58, 69, 57, 84, 99]])]"
      ]
     },
     "execution_count": 63,
     "metadata": {},
     "output_type": "execute_result"
    }
   ],
   "source": [
    "np.vsplit(mat1,2)            # vertical split row wise"
   ]
  },
  {
   "cell_type": "code",
   "execution_count": 64,
   "id": "d23a9bf7",
   "metadata": {},
   "outputs": [
    {
     "data": {
      "text/plain": [
       "array([[ 1,  2,  3,  4],\n",
       "       [ 1,  4,  9, 16]])"
      ]
     },
     "execution_count": 64,
     "metadata": {},
     "output_type": "execute_result"
    }
   ],
   "source": [
    "np.vstack(\n",
    "      (np.arange(1,5),np.arange(1,5)**2)\n",
    ")"
   ]
  },
  {
   "cell_type": "code",
   "execution_count": 65,
   "id": "6a779a11",
   "metadata": {},
   "outputs": [
    {
     "data": {
      "text/plain": [
       "array([[ 1,  2,  3,  4],\n",
       "       [ 1,  4,  9, 16],\n",
       "       [ 1,  8, 27, 64]])"
      ]
     },
     "execution_count": 65,
     "metadata": {},
     "output_type": "execute_result"
    }
   ],
   "source": [
    "np.vstack(\n",
    "      (np.arange(1,5),np.arange(1,5)**2,np.arange(1,5)**3)\n",
    ")"
   ]
  },
  {
   "cell_type": "code",
   "execution_count": 66,
   "id": "055f12ed",
   "metadata": {},
   "outputs": [
    {
     "data": {
      "text/plain": [
       "array([ 1,  2,  3,  4,  1,  4,  9, 16])"
      ]
     },
     "execution_count": 66,
     "metadata": {},
     "output_type": "execute_result"
    }
   ],
   "source": [
    "np.hstack(\n",
    "      (np.arange(1,5),np.arange(1,5)**2)\n",
    ")"
   ]
  },
  {
   "cell_type": "code",
   "execution_count": 67,
   "id": "f6dddf87",
   "metadata": {},
   "outputs": [
    {
     "data": {
      "text/plain": [
       "array([ 1,  2,  3,  4,  1,  4,  9, 16,  1,  8, 27, 64])"
      ]
     },
     "execution_count": 67,
     "metadata": {},
     "output_type": "execute_result"
    }
   ],
   "source": [
    "np.hstack(\n",
    "      (np.arange(1,5),np.arange(1,5)**2,np.arange(1,5)**3)\n",
    ")"
   ]
  },
  {
   "cell_type": "code",
   "execution_count": null,
   "id": "e8b71cbe",
   "metadata": {},
   "outputs": [],
   "source": []
  }
 ],
 "metadata": {
  "kernelspec": {
   "display_name": "Python 3 (ipykernel)",
   "language": "python",
   "name": "python3"
  },
  "language_info": {
   "codemirror_mode": {
    "name": "ipython",
    "version": 3
   },
   "file_extension": ".py",
   "mimetype": "text/x-python",
   "name": "python",
   "nbconvert_exporter": "python",
   "pygments_lexer": "ipython3",
   "version": "3.8.8"
  }
 },
 "nbformat": 4,
 "nbformat_minor": 5
}
