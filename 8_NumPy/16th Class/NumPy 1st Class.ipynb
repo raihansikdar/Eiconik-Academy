{
 "cells": [
  {
   "cell_type": "code",
   "execution_count": 1,
   "id": "dba40023",
   "metadata": {},
   "outputs": [],
   "source": [
    "import numpy as np"
   ]
  },
  {
   "cell_type": "code",
   "execution_count": 2,
   "id": "16133938",
   "metadata": {},
   "outputs": [
    {
     "data": {
      "text/plain": [
       "'1.20.1'"
      ]
     },
     "execution_count": 2,
     "metadata": {},
     "output_type": "execute_result"
    }
   ],
   "source": [
    "np.__version__"
   ]
  },
  {
   "cell_type": "markdown",
   "id": "041311d7",
   "metadata": {},
   "source": [
    "## Array"
   ]
  },
  {
   "cell_type": "code",
   "execution_count": 3,
   "id": "2aff822e",
   "metadata": {},
   "outputs": [
    {
     "data": {
      "text/plain": [
       "array([ 1,  2, 52,  7,  4,  7])"
      ]
     },
     "execution_count": 3,
     "metadata": {},
     "output_type": "execute_result"
    }
   ],
   "source": [
    "arr = np.array([1,2,52,7,4,7])\n",
    "arr"
   ]
  },
  {
   "cell_type": "markdown",
   "id": "b830e362",
   "metadata": {},
   "source": [
    "## Instant Array Generation"
   ]
  },
  {
   "cell_type": "code",
   "execution_count": 4,
   "id": "a650b5a4",
   "metadata": {},
   "outputs": [
    {
     "data": {
      "text/plain": [
       "array([1., 1.])"
      ]
     },
     "execution_count": 4,
     "metadata": {},
     "output_type": "execute_result"
    }
   ],
   "source": [
    "# 1D Array\n",
    "np.ones([2])"
   ]
  },
  {
   "cell_type": "code",
   "execution_count": 5,
   "id": "936db1fa",
   "metadata": {},
   "outputs": [
    {
     "data": {
      "text/plain": [
       "array([[0., 0.],\n",
       "       [0., 0.]])"
      ]
     },
     "execution_count": 5,
     "metadata": {},
     "output_type": "execute_result"
    }
   ],
   "source": [
    "# 2D Array\n",
    "np.zeros([2,2])"
   ]
  },
  {
   "cell_type": "code",
   "execution_count": 6,
   "id": "02011191",
   "metadata": {},
   "outputs": [
    {
     "data": {
      "text/plain": [
       "array([[[0., 0., 0.],\n",
       "        [0., 0., 0.]],\n",
       "\n",
       "       [[0., 0., 0.],\n",
       "        [0., 0., 0.]]])"
      ]
     },
     "execution_count": 6,
     "metadata": {},
     "output_type": "execute_result"
    }
   ],
   "source": [
    "np.zeros([2,2,3])"
   ]
  },
  {
   "cell_type": "code",
   "execution_count": 7,
   "id": "c25ef021",
   "metadata": {},
   "outputs": [
    {
     "data": {
      "text/plain": [
       "array([[[1., 1., 1.],\n",
       "        [1., 1., 1.]],\n",
       "\n",
       "       [[1., 1., 1.],\n",
       "        [1., 1., 1.]]])"
      ]
     },
     "execution_count": 7,
     "metadata": {},
     "output_type": "execute_result"
    }
   ],
   "source": [
    "np.ones([2,2,3])"
   ]
  },
  {
   "cell_type": "code",
   "execution_count": 8,
   "id": "79ad64b0",
   "metadata": {},
   "outputs": [
    {
     "data": {
      "text/plain": [
       "array([[1., 0., 0.],\n",
       "       [0., 1., 0.],\n",
       "       [0., 0., 1.]])"
      ]
     },
     "execution_count": 8,
     "metadata": {},
     "output_type": "execute_result"
    }
   ],
   "source": [
    "np.eye(3,3) # only 2 dimention"
   ]
  },
  {
   "cell_type": "code",
   "execution_count": 9,
   "id": "36ca09ad",
   "metadata": {},
   "outputs": [
    {
     "data": {
      "text/plain": [
       "array([[1., 0., 0., 0., 0.],\n",
       "       [0., 1., 0., 0., 0.],\n",
       "       [0., 0., 1., 0., 0.],\n",
       "       [0., 0., 0., 1., 0.],\n",
       "       [0., 0., 0., 0., 1.]])"
      ]
     },
     "execution_count": 9,
     "metadata": {},
     "output_type": "execute_result"
    }
   ],
   "source": [
    "np.eye(5,5)"
   ]
  },
  {
   "cell_type": "code",
   "execution_count": 10,
   "id": "aa22ea9f",
   "metadata": {},
   "outputs": [
    {
     "data": {
      "text/plain": [
       "array([[0., 1., 0., 0., 0.],\n",
       "       [0., 0., 1., 0., 0.],\n",
       "       [0., 0., 0., 1., 0.],\n",
       "       [0., 0., 0., 0., 1.],\n",
       "       [0., 0., 0., 0., 0.]])"
      ]
     },
     "execution_count": 10,
     "metadata": {},
     "output_type": "execute_result"
    }
   ],
   "source": [
    "np.eye(5,5,k = 1) # k => by defult (k = 0) "
   ]
  },
  {
   "cell_type": "code",
   "execution_count": 11,
   "id": "6fae89c6",
   "metadata": {},
   "outputs": [
    {
     "data": {
      "text/plain": [
       "array([[1., 0., 0.],\n",
       "       [0., 1., 0.],\n",
       "       [0., 0., 1.]])"
      ]
     },
     "execution_count": 11,
     "metadata": {},
     "output_type": "execute_result"
    }
   ],
   "source": [
    "np.empty([3,3])"
   ]
  },
  {
   "cell_type": "code",
   "execution_count": 12,
   "id": "295de8a2",
   "metadata": {},
   "outputs": [
    {
     "data": {
      "text/plain": [
       "array([[[6.23042070e-307, 4.67296746e-307],\n",
       "        [1.69121096e-306, 9.34609111e-307],\n",
       "        [1.33511018e-306, 1.33511969e-306]],\n",
       "\n",
       "       [[6.23037996e-307, 6.23053954e-307],\n",
       "        [9.34609790e-307, 8.45593934e-307],\n",
       "        [9.34600963e-307, 1.86921143e-306]],\n",
       "\n",
       "       [[6.23061763e-307, 7.56599807e-307],\n",
       "        [1.24610383e-306, 1.24610723e-306],\n",
       "        [2.22522596e-306, 2.22507386e-306]]])"
      ]
     },
     "execution_count": 12,
     "metadata": {},
     "output_type": "execute_result"
    }
   ],
   "source": [
    "np.empty([3,3,2])"
   ]
  },
  {
   "cell_type": "code",
   "execution_count": 13,
   "id": "b7838ab0",
   "metadata": {},
   "outputs": [
    {
     "data": {
      "text/plain": [
       "array([[5, 5, 5],\n",
       "       [5, 5, 5],\n",
       "       [5, 5, 5]])"
      ]
     },
     "execution_count": 13,
     "metadata": {},
     "output_type": "execute_result"
    }
   ],
   "source": [
    "np.full([3,3],5)"
   ]
  },
  {
   "cell_type": "code",
   "execution_count": 14,
   "id": "5c8a224d",
   "metadata": {},
   "outputs": [
    {
     "data": {
      "text/plain": [
       "array([ 1,  2,  3,  4,  5,  6,  7,  8,  9, 10])"
      ]
     },
     "execution_count": 14,
     "metadata": {},
     "output_type": "execute_result"
    }
   ],
   "source": [
    "np.arange(1,11)"
   ]
  },
  {
   "cell_type": "code",
   "execution_count": 15,
   "id": "19d22bb7",
   "metadata": {},
   "outputs": [
    {
     "data": {
      "text/plain": [
       "array([1, 3, 5, 7, 9])"
      ]
     },
     "execution_count": 15,
     "metadata": {},
     "output_type": "execute_result"
    }
   ],
   "source": [
    "np.arange(1,11,2)"
   ]
  },
  {
   "cell_type": "code",
   "execution_count": 16,
   "id": "e6505f86",
   "metadata": {},
   "outputs": [
    {
     "data": {
      "text/plain": [
       "array([1.        , 1.11111111, 1.22222222, 1.33333333, 1.44444444,\n",
       "       1.55555556, 1.66666667, 1.77777778, 1.88888889, 2.        ])"
      ]
     },
     "execution_count": 16,
     "metadata": {},
     "output_type": "execute_result"
    }
   ],
   "source": [
    "np.linspace(1,2,10)"
   ]
  },
  {
   "cell_type": "code",
   "execution_count": 17,
   "id": "859ee190",
   "metadata": {},
   "outputs": [
    {
     "data": {
      "text/plain": [
       "[array([[1, 3, 5, 7, 9],\n",
       "        [1, 3, 5, 7, 9],\n",
       "        [1, 3, 5, 7, 9],\n",
       "        [1, 3, 5, 7, 9],\n",
       "        [1, 3, 5, 7, 9]]),\n",
       " array([[1, 1, 1, 1, 1],\n",
       "        [3, 3, 3, 3, 3],\n",
       "        [5, 5, 5, 5, 5],\n",
       "        [7, 7, 7, 7, 7],\n",
       "        [9, 9, 9, 9, 9]])]"
      ]
     },
     "execution_count": 17,
     "metadata": {},
     "output_type": "execute_result"
    }
   ],
   "source": [
    "np.meshgrid(\n",
    "     np.arange(1,10,2), np.arange(1,10,2)\n",
    ")"
   ]
  },
  {
   "cell_type": "code",
   "execution_count": 18,
   "id": "6b5efd64",
   "metadata": {},
   "outputs": [
    {
     "data": {
      "text/plain": [
       "35"
      ]
     },
     "execution_count": 18,
     "metadata": {},
     "output_type": "execute_result"
    }
   ],
   "source": [
    "np.random.randint(1,100)"
   ]
  },
  {
   "cell_type": "code",
   "execution_count": 19,
   "id": "0acb09a1",
   "metadata": {},
   "outputs": [
    {
     "data": {
      "text/plain": [
       "array([ 0.34642459, -0.95987698,  2.16651817, -0.57054326,  1.30321523,\n",
       "       -1.17352939,  0.03852768, -0.363856  ,  1.39509068, -0.08988226])"
      ]
     },
     "execution_count": 19,
     "metadata": {},
     "output_type": "execute_result"
    }
   ],
   "source": [
    "np.random.randn(10)"
   ]
  },
  {
   "cell_type": "markdown",
   "id": "cf1848e5",
   "metadata": {},
   "source": [
    "## Types of Arrays"
   ]
  },
  {
   "cell_type": "code",
   "execution_count": 20,
   "id": "9fadfba8",
   "metadata": {},
   "outputs": [
    {
     "data": {
      "text/plain": [
       "numpy.ndarray"
      ]
     },
     "execution_count": 20,
     "metadata": {},
     "output_type": "execute_result"
    }
   ],
   "source": [
    "arr = np.random.randn(10)\n",
    "type(arr)"
   ]
  },
  {
   "cell_type": "code",
   "execution_count": 21,
   "id": "8015c26c",
   "metadata": {},
   "outputs": [
    {
     "data": {
      "text/plain": [
       "(numpy.ndarray, dtype('float64'))"
      ]
     },
     "execution_count": 21,
     "metadata": {},
     "output_type": "execute_result"
    }
   ],
   "source": [
    "arr = np.random.randn(10)\n",
    "type(arr), arr.dtype"
   ]
  },
  {
   "cell_type": "code",
   "execution_count": 22,
   "id": "564c6796",
   "metadata": {},
   "outputs": [
    {
     "data": {
      "text/plain": [
       "array([1., 3., 5., 7., 9.], dtype=float16)"
      ]
     },
     "execution_count": 22,
     "metadata": {},
     "output_type": "execute_result"
    }
   ],
   "source": [
    "np.arange(1, 11, 2, dtype = np.float16)"
   ]
  },
  {
   "cell_type": "code",
   "execution_count": 23,
   "id": "9b6bf612",
   "metadata": {},
   "outputs": [
    {
     "data": {
      "text/plain": [
       "array([ 1,  2, 52,  7,  4,  7], dtype=int64)"
      ]
     },
     "execution_count": 23,
     "metadata": {},
     "output_type": "execute_result"
    }
   ],
   "source": [
    "np.array([1,2,52,7,4,7],dtype = np.int64)"
   ]
  },
  {
   "cell_type": "code",
   "execution_count": 24,
   "id": "b01fbd66",
   "metadata": {},
   "outputs": [
    {
     "data": {
      "text/plain": [
       "array([ 1.,  2., 52.,  7.,  4.,  7.], dtype=float16)"
      ]
     },
     "execution_count": 24,
     "metadata": {},
     "output_type": "execute_result"
    }
   ],
   "source": [
    "np.array([1,2,52,7,4,7],dtype = np.float16)"
   ]
  },
  {
   "cell_type": "code",
   "execution_count": 25,
   "id": "8ec90e13",
   "metadata": {},
   "outputs": [
    {
     "data": {
      "text/plain": [
       "array([ True, False, False,  True, False,  True])"
      ]
     },
     "execution_count": 25,
     "metadata": {},
     "output_type": "execute_result"
    }
   ],
   "source": [
    "np.array([True,False,0,1,0,1],dtype = np.bool_)"
   ]
  },
  {
   "cell_type": "code",
   "execution_count": 26,
   "id": "4d640d16",
   "metadata": {},
   "outputs": [
    {
     "data": {
      "text/plain": [
       "array([1.+0.j, 0.+0.j, 0.+0.j, 1.+0.j, 0.+0.j, 1.+0.j])"
      ]
     },
     "execution_count": 26,
     "metadata": {},
     "output_type": "execute_result"
    }
   ],
   "source": [
    "np.array([True,False,0,1,0,1],dtype = np.complex_)"
   ]
  },
  {
   "cell_type": "code",
   "execution_count": 27,
   "id": "f898d035",
   "metadata": {},
   "outputs": [
    {
     "data": {
      "text/plain": [
       "array([b'apple', b'Banana'], dtype='|S6')"
      ]
     },
     "execution_count": 27,
     "metadata": {},
     "output_type": "execute_result"
    }
   ],
   "source": [
    "np.array([\"apple\",\"Banana\"],dtype = np.string_)"
   ]
  },
  {
   "cell_type": "markdown",
   "id": "2feb9b0f",
   "metadata": {},
   "source": [
    "## Inspect Arrays"
   ]
  },
  {
   "cell_type": "code",
   "execution_count": 28,
   "id": "958ae3e7",
   "metadata": {},
   "outputs": [
    {
     "data": {
      "text/plain": [
       "array([ 0.345517  , -0.00340727,  0.15643695, -2.57586805,  2.45912806,\n",
       "       -1.46195796,  0.63030349,  0.7578947 ,  0.10771162,  1.03460943])"
      ]
     },
     "execution_count": 28,
     "metadata": {},
     "output_type": "execute_result"
    }
   ],
   "source": [
    "arr"
   ]
  },
  {
   "cell_type": "code",
   "execution_count": 29,
   "id": "fbb2f5b8",
   "metadata": {},
   "outputs": [
    {
     "data": {
      "text/plain": [
       "1"
      ]
     },
     "execution_count": 29,
     "metadata": {},
     "output_type": "execute_result"
    }
   ],
   "source": [
    "arr.ndim"
   ]
  },
  {
   "cell_type": "code",
   "execution_count": 30,
   "id": "1c0044fd",
   "metadata": {},
   "outputs": [
    {
     "data": {
      "text/plain": [
       "array([ 0.345517  , -0.00340727,  0.15643695, -2.57586805,  2.45912806,\n",
       "       -1.46195796,  0.63030349,  0.7578947 ,  0.10771162,  1.03460943])"
      ]
     },
     "execution_count": 30,
     "metadata": {},
     "output_type": "execute_result"
    }
   ],
   "source": [
    "arr2 = np.full([3,3],5)\n",
    "arr"
   ]
  },
  {
   "cell_type": "code",
   "execution_count": 31,
   "id": "52c5cc57",
   "metadata": {},
   "outputs": [
    {
     "data": {
      "text/plain": [
       "2"
      ]
     },
     "execution_count": 31,
     "metadata": {},
     "output_type": "execute_result"
    }
   ],
   "source": [
    "arr2.ndim"
   ]
  },
  {
   "cell_type": "code",
   "execution_count": 32,
   "id": "3d0a84e2",
   "metadata": {},
   "outputs": [
    {
     "data": {
      "text/plain": [
       "dtype('float64')"
      ]
     },
     "execution_count": 32,
     "metadata": {},
     "output_type": "execute_result"
    }
   ],
   "source": [
    "arr.dtype"
   ]
  },
  {
   "cell_type": "code",
   "execution_count": 33,
   "id": "a4e7d213",
   "metadata": {},
   "outputs": [
    {
     "data": {
      "text/plain": [
       "8"
      ]
     },
     "execution_count": 33,
     "metadata": {},
     "output_type": "execute_result"
    }
   ],
   "source": [
    "arr.itemsize # point er por kotogula ghor ache "
   ]
  },
  {
   "cell_type": "code",
   "execution_count": 34,
   "id": "3041818a",
   "metadata": {},
   "outputs": [
    {
     "data": {
      "text/plain": [
       "10"
      ]
     },
     "execution_count": 34,
     "metadata": {},
     "output_type": "execute_result"
    }
   ],
   "source": [
    "arr.size"
   ]
  },
  {
   "cell_type": "code",
   "execution_count": 35,
   "id": "dfbab62e",
   "metadata": {},
   "outputs": [
    {
     "data": {
      "text/plain": [
       "(10,)"
      ]
     },
     "execution_count": 35,
     "metadata": {},
     "output_type": "execute_result"
    }
   ],
   "source": [
    "arr.shape"
   ]
  },
  {
   "cell_type": "code",
   "execution_count": 36,
   "id": "543254b7",
   "metadata": {},
   "outputs": [
    {
     "data": {
      "text/plain": [
       "(3, 3)"
      ]
     },
     "execution_count": 36,
     "metadata": {},
     "output_type": "execute_result"
    }
   ],
   "source": [
    "arr2.shape"
   ]
  },
  {
   "cell_type": "markdown",
   "id": "34d90e2e",
   "metadata": {},
   "source": [
    "## Slicing and Indexing"
   ]
  },
  {
   "cell_type": "code",
   "execution_count": 37,
   "id": "711921b8",
   "metadata": {},
   "outputs": [],
   "source": [
    "arr3 = np.array([\n",
    "    [23, 14, 54, 27, 67, 54],\n",
    "    [22, 56, 29, 70, 23, 67],\n",
    "    [22, 53, 78, 14, 63, 85],\n",
    "    [21, 53, 64, 52, 73, 94]\n",
    "])"
   ]
  },
  {
   "cell_type": "code",
   "execution_count": 38,
   "id": "f8e109fb",
   "metadata": {},
   "outputs": [
    {
     "data": {
      "text/plain": [
       "(4, 6)"
      ]
     },
     "execution_count": 38,
     "metadata": {},
     "output_type": "execute_result"
    }
   ],
   "source": [
    "arr3.shape"
   ]
  },
  {
   "cell_type": "code",
   "execution_count": 39,
   "id": "f52bb5e9",
   "metadata": {},
   "outputs": [
    {
     "data": {
      "text/plain": [
       "54"
      ]
     },
     "execution_count": 39,
     "metadata": {},
     "output_type": "execute_result"
    }
   ],
   "source": [
    "arr3[0,2]"
   ]
  },
  {
   "cell_type": "code",
   "execution_count": 40,
   "id": "eb35f5b0",
   "metadata": {},
   "outputs": [
    {
     "data": {
      "text/plain": [
       "array([[29, 70],\n",
       "       [78, 14]])"
      ]
     },
     "execution_count": 40,
     "metadata": {},
     "output_type": "execute_result"
    }
   ],
   "source": [
    "arr3[1:3, 2:4]"
   ]
  },
  {
   "cell_type": "code",
   "execution_count": 41,
   "id": "ad533e6f",
   "metadata": {},
   "outputs": [
    {
     "data": {
      "text/plain": [
       "array([[56, 70, 67],\n",
       "       [53, 14, 85],\n",
       "       [53, 52, 94]])"
      ]
     },
     "execution_count": 41,
     "metadata": {},
     "output_type": "execute_result"
    }
   ],
   "source": [
    "arr3[1:, 1::2]"
   ]
  },
  {
   "cell_type": "markdown",
   "id": "5be42e96",
   "metadata": {},
   "source": [
    "## Filtering"
   ]
  },
  {
   "cell_type": "code",
   "execution_count": 42,
   "id": "e05ad016",
   "metadata": {},
   "outputs": [
    {
     "data": {
      "text/plain": [
       "array([[False, False,  True, False,  True,  True],\n",
       "       [False,  True, False,  True, False,  True],\n",
       "       [False,  True,  True, False,  True,  True],\n",
       "       [False,  True,  True,  True,  True,  True]])"
      ]
     },
     "execution_count": 42,
     "metadata": {},
     "output_type": "execute_result"
    }
   ],
   "source": [
    "arr3 > 50"
   ]
  },
  {
   "cell_type": "code",
   "execution_count": 43,
   "id": "2bc2d6fa",
   "metadata": {},
   "outputs": [
    {
     "data": {
      "text/plain": [
       "array([54, 67, 54, 56, 70, 67, 53, 78, 63, 85, 53, 64, 52, 73, 94])"
      ]
     },
     "execution_count": 43,
     "metadata": {},
     "output_type": "execute_result"
    }
   ],
   "source": [
    "arr3[arr3 > 50]"
   ]
  },
  {
   "cell_type": "code",
   "execution_count": 44,
   "id": "24b6393c",
   "metadata": {},
   "outputs": [
    {
     "data": {
      "text/plain": [
       "array([23, 14, 27, 22, 29, 23, 22, 14, 21])"
      ]
     },
     "execution_count": 44,
     "metadata": {},
     "output_type": "execute_result"
    }
   ],
   "source": [
    "arr3[arr3 < 50]"
   ]
  },
  {
   "cell_type": "code",
   "execution_count": 45,
   "id": "8d5c3489",
   "metadata": {},
   "outputs": [
    {
     "data": {
      "text/plain": [
       "array([14, 54, 54, 22, 56, 70, 22, 78, 14, 64, 52, 94])"
      ]
     },
     "execution_count": 45,
     "metadata": {},
     "output_type": "execute_result"
    }
   ],
   "source": [
    "arr3[arr3 % 2 ==0]"
   ]
  },
  {
   "cell_type": "code",
   "execution_count": 46,
   "id": "1a858683",
   "metadata": {},
   "outputs": [
    {
     "data": {
      "text/plain": [
       "array([67, 67, 53, 63, 85, 53, 73])"
      ]
     },
     "execution_count": 46,
     "metadata": {},
     "output_type": "execute_result"
    }
   ],
   "source": [
    "arr3[(arr3 % 2 !=0) & (arr3>50)]"
   ]
  },
  {
   "cell_type": "code",
   "execution_count": 47,
   "id": "4ba1f979",
   "metadata": {},
   "outputs": [
    {
     "data": {
      "text/plain": [
       "array([23, 14, 27, 22, 29, 23, 22, 14, 21])"
      ]
     },
     "execution_count": 47,
     "metadata": {},
     "output_type": "execute_result"
    }
   ],
   "source": [
    "arr3[~(arr3>50)]"
   ]
  },
  {
   "cell_type": "markdown",
   "id": "c8530835",
   "metadata": {},
   "source": [
    "## Operators"
   ]
  },
  {
   "cell_type": "code",
   "execution_count": 48,
   "id": "8c1e2e45",
   "metadata": {},
   "outputs": [
    {
     "data": {
      "text/plain": [
       "array([[ 46,  28, 108,  54, 134, 108],\n",
       "       [ 44, 112,  58, 140,  46, 134],\n",
       "       [ 44, 106, 156,  28, 126, 170],\n",
       "       [ 42, 106, 128, 104, 146, 188]])"
      ]
     },
     "execution_count": 48,
     "metadata": {},
     "output_type": "execute_result"
    }
   ],
   "source": [
    "arr3 + arr3"
   ]
  },
  {
   "cell_type": "code",
   "execution_count": 49,
   "id": "056d3647",
   "metadata": {},
   "outputs": [
    {
     "data": {
      "text/plain": [
       "array([[ 529,  196, 2916,  729, 4489, 2916],\n",
       "       [ 484, 3136,  841, 4900,  529, 4489],\n",
       "       [ 484, 2809, 6084,  196, 3969, 7225],\n",
       "       [ 441, 2809, 4096, 2704, 5329, 8836]])"
      ]
     },
     "execution_count": 49,
     "metadata": {},
     "output_type": "execute_result"
    }
   ],
   "source": [
    "arr3 * arr3"
   ]
  },
  {
   "cell_type": "code",
   "execution_count": 50,
   "id": "f11655bc",
   "metadata": {},
   "outputs": [
    {
     "data": {
      "text/plain": [
       "array([[28, 19, 59, 32, 72, 59],\n",
       "       [27, 61, 34, 75, 28, 72],\n",
       "       [27, 58, 83, 19, 68, 90],\n",
       "       [26, 58, 69, 57, 78, 99]])"
      ]
     },
     "execution_count": 50,
     "metadata": {},
     "output_type": "execute_result"
    }
   ],
   "source": [
    "arr3 + 5"
   ]
  },
  {
   "cell_type": "code",
   "execution_count": 51,
   "id": "70d71493",
   "metadata": {},
   "outputs": [],
   "source": [
    "arr4 = np.array([\n",
    "    [23, 14, 54],\n",
    "    [22, 56, 29],\n",
    "    [22, 53, 78],\n",
    "])"
   ]
  },
  {
   "cell_type": "code",
   "execution_count": 52,
   "id": "7c43812e",
   "metadata": {},
   "outputs": [
    {
     "data": {
      "text/plain": [
       "array([[2025, 3968, 5860],\n",
       "       [2376, 4981, 5074],\n",
       "       [3388, 7410, 8809]])"
      ]
     },
     "execution_count": 52,
     "metadata": {},
     "output_type": "execute_result"
    }
   ],
   "source": [
    "arr4@arr4"
   ]
  },
  {
   "cell_type": "code",
   "execution_count": 53,
   "id": "3260eec4",
   "metadata": {},
   "outputs": [
    {
     "data": {
      "text/plain": [
       "array([[ 529,  196, 2916],\n",
       "       [ 484, 3136,  841],\n",
       "       [ 484, 2809, 6084]])"
      ]
     },
     "execution_count": 53,
     "metadata": {},
     "output_type": "execute_result"
    }
   ],
   "source": [
    "arr4*arr4"
   ]
  },
  {
   "cell_type": "markdown",
   "id": "b6597286",
   "metadata": {},
   "source": [
    "## Load and Save"
   ]
  },
  {
   "cell_type": "code",
   "execution_count": 54,
   "id": "9ecbea38",
   "metadata": {},
   "outputs": [],
   "source": [
    "res = arr4@arr4"
   ]
  },
  {
   "cell_type": "code",
   "execution_count": 55,
   "id": "e335602b",
   "metadata": {},
   "outputs": [],
   "source": [
    "np.save('data.npy', res)"
   ]
  },
  {
   "cell_type": "code",
   "execution_count": 56,
   "id": "72ec5a73",
   "metadata": {},
   "outputs": [
    {
     "data": {
      "text/plain": [
       "array([[2025, 3968, 5860],\n",
       "       [2376, 4981, 5074],\n",
       "       [3388, 7410, 8809]])"
      ]
     },
     "execution_count": 56,
     "metadata": {},
     "output_type": "execute_result"
    }
   ],
   "source": [
    "np.load('data.npy')"
   ]
  },
  {
   "cell_type": "code",
   "execution_count": 57,
   "id": "3542b9bf",
   "metadata": {},
   "outputs": [],
   "source": [
    "np.savez('data.npz', arr4 = arr4, res=res)"
   ]
  },
  {
   "cell_type": "code",
   "execution_count": 58,
   "id": "0aeaafc3",
   "metadata": {},
   "outputs": [],
   "source": [
    "data = np.load('data.npz')"
   ]
  },
  {
   "cell_type": "code",
   "execution_count": 59,
   "id": "499cd239",
   "metadata": {},
   "outputs": [
    {
     "data": {
      "text/plain": [
       "['arr4', 'res']"
      ]
     },
     "execution_count": 59,
     "metadata": {},
     "output_type": "execute_result"
    }
   ],
   "source": [
    "data.files"
   ]
  },
  {
   "cell_type": "code",
   "execution_count": 60,
   "id": "9ccaeaa9",
   "metadata": {},
   "outputs": [
    {
     "data": {
      "text/plain": [
       "array([[23, 14, 54],\n",
       "       [22, 56, 29],\n",
       "       [22, 53, 78]])"
      ]
     },
     "execution_count": 60,
     "metadata": {},
     "output_type": "execute_result"
    }
   ],
   "source": [
    "data['arr4']"
   ]
  },
  {
   "cell_type": "code",
   "execution_count": 61,
   "id": "01c2af61",
   "metadata": {},
   "outputs": [
    {
     "data": {
      "text/plain": [
       "array([[2025, 3968, 5860],\n",
       "       [2376, 4981, 5074],\n",
       "       [3388, 7410, 8809]])"
      ]
     },
     "execution_count": 61,
     "metadata": {},
     "output_type": "execute_result"
    }
   ],
   "source": [
    "data['res']"
   ]
  },
  {
   "cell_type": "code",
   "execution_count": null,
   "id": "87ae422a",
   "metadata": {},
   "outputs": [],
   "source": []
  }
 ],
 "metadata": {
  "kernelspec": {
   "display_name": "Python 3 (ipykernel)",
   "language": "python",
   "name": "python3"
  },
  "language_info": {
   "codemirror_mode": {
    "name": "ipython",
    "version": 3
   },
   "file_extension": ".py",
   "mimetype": "text/x-python",
   "name": "python",
   "nbconvert_exporter": "python",
   "pygments_lexer": "ipython3",
   "version": "3.8.8"
  }
 },
 "nbformat": 4,
 "nbformat_minor": 5
}
