{
 "cells": [
  {
   "cell_type": "code",
   "execution_count": 1,
   "metadata": {},
   "outputs": [],
   "source": [
    "import os"
   ]
  },
  {
   "cell_type": "markdown",
   "metadata": {},
   "source": [
    "# Current Location"
   ]
  },
  {
   "cell_type": "code",
   "execution_count": 2,
   "metadata": {},
   "outputs": [
    {
     "data": {
      "text/plain": [
       "'e:\\\\Eiconik Academy\\\\Eiconik-Academy\\\\4_File_and_Folder_handling\\\\10th_Class'"
      ]
     },
     "execution_count": 2,
     "metadata": {},
     "output_type": "execute_result"
    }
   ],
   "source": [
    "# Current Location\n",
    "os.getcwd() # cwd = current working dir"
   ]
  },
  {
   "cell_type": "markdown",
   "metadata": {},
   "source": [
    "# Getting Content"
   ]
  },
  {
   "cell_type": "code",
   "execution_count": 3,
   "metadata": {},
   "outputs": [
    {
     "data": {
      "text/plain": [
       "['Folder_handling.ipynb']"
      ]
     },
     "execution_count": 3,
     "metadata": {},
     "output_type": "execute_result"
    }
   ],
   "source": [
    "# Getting Content\n",
    "os.listdir()"
   ]
  },
  {
   "cell_type": "code",
   "execution_count": 4,
   "metadata": {},
   "outputs": [
    {
     "data": {
      "text/plain": [
       "['10th_Class', '9th_Class', 'Folder_by_os', 'New2']"
      ]
     },
     "execution_count": 4,
     "metadata": {},
     "output_type": "execute_result"
    }
   ],
   "source": [
    "# Getting Content\n",
    "os.listdir('e:\\\\Eiconik Academy\\\\Eiconik-Academy\\\\4_File_and_Folder_handling')"
   ]
  },
  {
   "cell_type": "code",
   "execution_count": 5,
   "metadata": {},
   "outputs": [
    {
     "data": {
      "text/plain": [
       "['.git',\n",
       " '.ipynb_checkpoints',\n",
       " '10_Pandas',\n",
       " '11_Pandas_and_Seaborn',\n",
       " '1_Core_Python',\n",
       " '2_Object_Oriented_Programming',\n",
       " '3_Exception_Handling',\n",
       " '4_File_and_Folder_handling',\n",
       " '5_DateTime_Package',\n",
       " '6_Databases',\n",
       " '7_Web_Scraping',\n",
       " '8_NumPy',\n",
       " '9_Matplotlib',\n",
       " 'Object_Orianted_Programming.ipynb',\n",
       " 'README.md',\n",
       " 'venv']"
      ]
     },
     "execution_count": 5,
     "metadata": {},
     "output_type": "execute_result"
    }
   ],
   "source": [
    "# Getting Content\n",
    "os.listdir('e:\\\\Eiconik Academy\\\\Eiconik-Academy')"
   ]
  },
  {
   "cell_type": "markdown",
   "metadata": {},
   "source": [
    "# Changing Directory"
   ]
  },
  {
   "cell_type": "code",
   "execution_count": 6,
   "metadata": {},
   "outputs": [
    {
     "data": {
      "text/plain": [
       "'e:\\\\Eiconik Academy\\\\Eiconik-Academy\\\\4_File_and_Folder_handling\\\\10th_Class'"
      ]
     },
     "execution_count": 6,
     "metadata": {},
     "output_type": "execute_result"
    }
   ],
   "source": [
    "os.getcwd()"
   ]
  },
  {
   "cell_type": "code",
   "execution_count": 7,
   "metadata": {},
   "outputs": [],
   "source": [
    "# Change dir\n",
    "os.chdir('e:\\\\Eiconik Academy\\\\Eiconik-Academy\\\\4_File_and_Folder_handling')"
   ]
  },
  {
   "cell_type": "code",
   "execution_count": 8,
   "metadata": {},
   "outputs": [
    {
     "data": {
      "text/plain": [
       "'e:\\\\Eiconik Academy\\\\Eiconik-Academy\\\\4_File_and_Folder_handling'"
      ]
     },
     "execution_count": 8,
     "metadata": {},
     "output_type": "execute_result"
    }
   ],
   "source": [
    "os.getcwd()"
   ]
  },
  {
   "cell_type": "markdown",
   "metadata": {},
   "source": [
    "# Another way to change directory"
   ]
  },
  {
   "cell_type": "code",
   "execution_count": 9,
   "metadata": {},
   "outputs": [],
   "source": [
    "os.chdir('..')"
   ]
  },
  {
   "cell_type": "code",
   "execution_count": 10,
   "metadata": {},
   "outputs": [
    {
     "data": {
      "text/plain": [
       "'e:\\\\Eiconik Academy\\\\Eiconik-Academy'"
      ]
     },
     "execution_count": 10,
     "metadata": {},
     "output_type": "execute_result"
    }
   ],
   "source": [
    "os.getcwd()"
   ]
  },
  {
   "cell_type": "markdown",
   "metadata": {},
   "source": [
    "# Folder operation"
   ]
  },
  {
   "cell_type": "code",
   "execution_count": 11,
   "metadata": {},
   "outputs": [
    {
     "data": {
      "text/plain": [
       "'e:\\\\Eiconik Academy\\\\Eiconik-Academy'"
      ]
     },
     "execution_count": 11,
     "metadata": {},
     "output_type": "execute_result"
    }
   ],
   "source": [
    "os.getcwd()"
   ]
  },
  {
   "cell_type": "code",
   "execution_count": 12,
   "metadata": {},
   "outputs": [],
   "source": [
    "os.chdir('e:\\\\Eiconik Academy\\\\Eiconik-Academy\\\\4_File_and_Folder_handling\\\\10th_Class')"
   ]
  },
  {
   "cell_type": "code",
   "execution_count": 13,
   "metadata": {},
   "outputs": [
    {
     "data": {
      "text/plain": [
       "'e:\\\\Eiconik Academy\\\\Eiconik-Academy\\\\4_File_and_Folder_handling\\\\10th_Class'"
      ]
     },
     "execution_count": 13,
     "metadata": {},
     "output_type": "execute_result"
    }
   ],
   "source": [
    "os.getcwd()"
   ]
  },
  {
   "cell_type": "markdown",
   "metadata": {},
   "source": [
    "# Create Folder"
   ]
  },
  {
   "cell_type": "code",
   "execution_count": 14,
   "metadata": {},
   "outputs": [],
   "source": [
    "os.mkdir('Folder_by_os')"
   ]
  },
  {
   "cell_type": "markdown",
   "metadata": {},
   "source": [
    "### Create 2 Folders in \"Folder_by_os\""
   ]
  },
  {
   "cell_type": "code",
   "execution_count": 15,
   "metadata": {},
   "outputs": [],
   "source": [
    "os.mkdir('Folder_by_os\\\\new1')"
   ]
  },
  {
   "cell_type": "code",
   "execution_count": 16,
   "metadata": {},
   "outputs": [],
   "source": [
    "os.mkdir('Folder_by_os\\\\new2')"
   ]
  },
  {
   "cell_type": "markdown",
   "metadata": {},
   "source": [
    "### Multiple Folder creation"
   ]
  },
  {
   "cell_type": "code",
   "execution_count": 17,
   "metadata": {},
   "outputs": [],
   "source": [
    "os.makedirs('new2//new22') "
   ]
  },
  {
   "cell_type": "markdown",
   "metadata": {},
   "source": [
    "## Renaming of Folder"
   ]
  },
  {
   "cell_type": "code",
   "execution_count": 18,
   "metadata": {},
   "outputs": [],
   "source": [
    "os.rename('new2','New2')"
   ]
  },
  {
   "cell_type": "code",
   "execution_count": 19,
   "metadata": {},
   "outputs": [],
   "source": [
    "os.rename('Folder_by_os\\\\new1','Folder_by_os\\\\New1')"
   ]
  },
  {
   "cell_type": "code",
   "execution_count": 20,
   "metadata": {},
   "outputs": [],
   "source": [
    "# Also can do like this\n",
    "\n",
    "# os.rename(r'Folder_by_os\\new1',r'Folder_by_os\\New1')"
   ]
  },
  {
   "cell_type": "markdown",
   "metadata": {},
   "source": [
    "# Removing Folder"
   ]
  },
  {
   "cell_type": "code",
   "execution_count": 21,
   "metadata": {},
   "outputs": [],
   "source": [
    "os.makedirs('New33\\\\new33')"
   ]
  },
  {
   "cell_type": "code",
   "execution_count": 22,
   "metadata": {},
   "outputs": [],
   "source": [
    "os.makedirs('New33\\\\new333')"
   ]
  },
  {
   "cell_type": "code",
   "execution_count": 23,
   "metadata": {},
   "outputs": [],
   "source": [
    "os.mkdir('New44')"
   ]
  },
  {
   "cell_type": "markdown",
   "metadata": {},
   "source": [
    "We can't remove Patent folder first.We have to remove child folder then Parent folder"
   ]
  },
  {
   "cell_type": "code",
   "execution_count": 24,
   "metadata": {},
   "outputs": [],
   "source": [
    "# It has no child folder\n",
    "os.removedirs('New44')"
   ]
  },
  {
   "cell_type": "code",
   "execution_count": 25,
   "metadata": {},
   "outputs": [],
   "source": [
    "os.removedirs('New33\\\\new33')"
   ]
  },
  {
   "cell_type": "code",
   "execution_count": 26,
   "metadata": {},
   "outputs": [],
   "source": [
    "os.removedirs('New33\\\\new333')"
   ]
  },
  {
   "cell_type": "markdown",
   "metadata": {},
   "source": [
    "# Walk"
   ]
  },
  {
   "cell_type": "code",
   "execution_count": 27,
   "metadata": {},
   "outputs": [
    {
     "data": {
      "text/plain": [
       "['Folder_by_os', 'Folder_handling.ipynb', 'New2']"
      ]
     },
     "execution_count": 27,
     "metadata": {},
     "output_type": "execute_result"
    }
   ],
   "source": [
    "os.listdir()"
   ]
  },
  {
   "cell_type": "code",
   "execution_count": 28,
   "metadata": {},
   "outputs": [
    {
     "data": {
      "text/plain": [
       "<generator object walk at 0x0000025A004AA350>"
      ]
     },
     "execution_count": 28,
     "metadata": {},
     "output_type": "execute_result"
    }
   ],
   "source": [
    "os.walk('.')"
   ]
  },
  {
   "cell_type": "code",
   "execution_count": 29,
   "metadata": {},
   "outputs": [
    {
     "name": "stdout",
     "output_type": "stream",
     "text": [
      ". ['Folder_by_os', 'New2'] ['Folder_handling.ipynb']\n",
      ".\\Folder_by_os ['New1', 'new2'] ['f2_rename.text']\n",
      ".\\Folder_by_os\\New1 [] ['f1.text']\n",
      ".\\Folder_by_os\\new2 [] ['f2_rename.text']\n",
      ".\\New2 ['new22'] []\n",
      ".\\New2\\new22 [] []\n"
     ]
    }
   ],
   "source": [
    "for path,dirs,files in os.walk('.'):\n",
    "    print(path,dirs,files)"
   ]
  },
  {
   "cell_type": "markdown",
   "metadata": {},
   "source": [
    "## Removing Files and folder"
   ]
  },
  {
   "cell_type": "code",
   "execution_count": 30,
   "metadata": {},
   "outputs": [
    {
     "name": "stdout",
     "output_type": "stream",
     "text": [
      ". ['Folder_by_os', 'New2'] ['Folder_handling.ipynb']\n",
      ".\\Folder_by_os ['New1', 'new2'] ['f2_rename.text']\n",
      ".\\Folder_by_os\\New1 [] ['f1.text']\n",
      ".\\Folder_by_os\\new2 [] ['f2_rename.text']\n",
      ".\\New2 ['new22'] []\n",
      ".\\New2\\new22 [] []\n"
     ]
    }
   ],
   "source": [
    "f = []\n",
    "d = []\n",
    "for path,dirs,files in os.walk('.'):\n",
    "    print(path,dirs,files)\n",
    "    f.extend([path+file for file in files])\n",
    "    d.extend([d for d in path if path !='.'])"
   ]
  },
  {
   "cell_type": "code",
   "execution_count": 31,
   "metadata": {},
   "outputs": [
    {
     "data": {
      "text/plain": [
       "['.Folder_handling.ipynb',\n",
       " '.\\\\Folder_by_osf2_rename.text',\n",
       " '.\\\\Folder_by_os\\\\New1f1.text',\n",
       " '.\\\\Folder_by_os\\\\new2f2_rename.text']"
      ]
     },
     "execution_count": 31,
     "metadata": {},
     "output_type": "execute_result"
    }
   ],
   "source": [
    "f"
   ]
  },
  {
   "cell_type": "code",
   "execution_count": 32,
   "metadata": {},
   "outputs": [
    {
     "name": "stdout",
     "output_type": "stream",
     "text": [
      ". ['Folder_by_os', 'New2'] ['Folder_handling.ipynb']\n",
      ".\\Folder_by_os ['New1', 'new2'] ['f2_rename.text']\n",
      ".\\Folder_by_os\\New1 [] ['f1.text']\n",
      ".\\Folder_by_os\\new2 [] ['f2_rename.text']\n",
      ".\\New2 ['new22'] []\n",
      ".\\New2\\new22 [] []\n"
     ]
    }
   ],
   "source": [
    "f = []\n",
    "d = []\n",
    "for path,dirs,files in os.walk('.'):\n",
    "    print(path,dirs,files)\n",
    "    f.extend([os.path.join(path,file) for file in files if(path!='.')])\n",
    "    d.extend([d for d in path if path !='.'])"
   ]
  },
  {
   "cell_type": "code",
   "execution_count": 33,
   "metadata": {},
   "outputs": [
    {
     "data": {
      "text/plain": [
       "['.\\\\Folder_by_os\\\\f2_rename.text',\n",
       " '.\\\\Folder_by_os\\\\New1\\\\f1.text',\n",
       " '.\\\\Folder_by_os\\\\new2\\\\f2_rename.text']"
      ]
     },
     "execution_count": 33,
     "metadata": {},
     "output_type": "execute_result"
    }
   ],
   "source": [
    "f"
   ]
  },
  {
   "cell_type": "code",
   "execution_count": 34,
   "metadata": {},
   "outputs": [],
   "source": [
    "f = []\n",
    "d = []\n",
    "for path,dirs,files in os.walk('.'):\n",
    "    f.extend([os.path.join(path,file) for file in files if(path!='.')])\n",
    "    d.append(path)"
   ]
  },
  {
   "cell_type": "code",
   "execution_count": 35,
   "metadata": {},
   "outputs": [
    {
     "data": {
      "text/plain": [
       "['.\\\\Folder_by_os\\\\f2_rename.text',\n",
       " '.\\\\Folder_by_os\\\\New1\\\\f1.text',\n",
       " '.\\\\Folder_by_os\\\\new2\\\\f2_rename.text']"
      ]
     },
     "execution_count": 35,
     "metadata": {},
     "output_type": "execute_result"
    }
   ],
   "source": [
    "f"
   ]
  },
  {
   "cell_type": "code",
   "execution_count": 36,
   "metadata": {},
   "outputs": [
    {
     "data": {
      "text/plain": [
       "['.',\n",
       " '.\\\\Folder_by_os',\n",
       " '.\\\\Folder_by_os\\\\New1',\n",
       " '.\\\\Folder_by_os\\\\new2',\n",
       " '.\\\\New2',\n",
       " '.\\\\New2\\\\new22']"
      ]
     },
     "execution_count": 36,
     "metadata": {},
     "output_type": "execute_result"
    }
   ],
   "source": [
    "d"
   ]
  },
  {
   "cell_type": "code",
   "execution_count": 37,
   "metadata": {},
   "outputs": [],
   "source": [
    "for file in f:\n",
    "    os.remove(file)"
   ]
  },
  {
   "cell_type": "code",
   "execution_count": 39,
   "metadata": {},
   "outputs": [
    {
     "ename": "FileNotFoundError",
     "evalue": "[WinError 2] The system cannot find the file specified: '.\\\\New2'",
     "output_type": "error",
     "traceback": [
      "\u001b[1;31m---------------------------------------------------------------------------\u001b[0m",
      "\u001b[1;31mFileNotFoundError\u001b[0m                         Traceback (most recent call last)",
      "Cell \u001b[1;32mIn [39], line 2\u001b[0m\n\u001b[0;32m      1\u001b[0m \u001b[39mfor\u001b[39;00m folder \u001b[39min\u001b[39;00m d[::\u001b[39m-\u001b[39m\u001b[39m1\u001b[39m]:\n\u001b[1;32m----> 2\u001b[0m     os\u001b[39m.\u001b[39mremovedirs(folder)\n",
      "File \u001b[1;32mc:\\Users\\User\\anaconda3\\lib\\os.py:241\u001b[0m, in \u001b[0;36mremovedirs\u001b[1;34m(name)\u001b[0m\n\u001b[0;32m    230\u001b[0m \u001b[39mdef\u001b[39;00m \u001b[39mremovedirs\u001b[39m(name):\n\u001b[0;32m    231\u001b[0m     \u001b[39m\"\"\"removedirs(name)\u001b[39;00m\n\u001b[0;32m    232\u001b[0m \n\u001b[0;32m    233\u001b[0m \u001b[39m    Super-rmdir; remove a leaf directory and all empty intermediate\u001b[39;00m\n\u001b[1;32m   (...)\u001b[0m\n\u001b[0;32m    239\u001b[0m \n\u001b[0;32m    240\u001b[0m \u001b[39m    \"\"\"\u001b[39;00m\n\u001b[1;32m--> 241\u001b[0m     rmdir(name)\n\u001b[0;32m    242\u001b[0m     head, tail \u001b[39m=\u001b[39m path\u001b[39m.\u001b[39msplit(name)\n\u001b[0;32m    243\u001b[0m     \u001b[39mif\u001b[39;00m \u001b[39mnot\u001b[39;00m tail:\n",
      "\u001b[1;31mFileNotFoundError\u001b[0m: [WinError 2] The system cannot find the file specified: '.\\\\New2'"
     ]
    }
   ],
   "source": [
    "for folder in d[::-1]:\n",
    "    os.removedirs(folder)"
   ]
  },
  {
   "cell_type": "markdown",
   "metadata": {},
   "source": [
    "### Showing error but file ans folder are deleted"
   ]
  },
  {
   "cell_type": "code",
   "execution_count": null,
   "metadata": {},
   "outputs": [],
   "source": []
  }
 ],
 "metadata": {
  "kernelspec": {
   "display_name": "Python 3.8.8 ('base')",
   "language": "python",
   "name": "python3"
  },
  "language_info": {
   "codemirror_mode": {
    "name": "ipython",
    "version": 3
   },
   "file_extension": ".py",
   "mimetype": "text/x-python",
   "name": "python",
   "nbconvert_exporter": "python",
   "pygments_lexer": "ipython3",
   "version": "3.8.8"
  },
  "orig_nbformat": 4,
  "vscode": {
   "interpreter": {
    "hash": "f08154012ddadd8e950e6e9e035c7a7b32c136e7647e9b7c77e02eb723a8bedb"
   }
  }
 },
 "nbformat": 4,
 "nbformat_minor": 2
}
