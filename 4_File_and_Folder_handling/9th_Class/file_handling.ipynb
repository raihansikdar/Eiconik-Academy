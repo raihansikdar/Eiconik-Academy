{
 "cells": [
  {
   "cell_type": "markdown",
   "metadata": {},
   "source": [
    "# File Handling"
   ]
  },
  {
   "cell_type": "markdown",
   "metadata": {},
   "source": [
    "### Write"
   ]
  },
  {
   "cell_type": "code",
   "execution_count": 1,
   "metadata": {},
   "outputs": [],
   "source": [
    "# write mode\n",
    "file = open('f1.text', mode='w') # it create file and remove previous line and write new line\n",
    "file.write('This is Line1')\n",
    "file.writelines(['\\nThis is Line2', '\\nThis is Line3'])\n",
    "file.close()\n"
   ]
  },
  {
   "cell_type": "code",
   "execution_count": 2,
   "metadata": {},
   "outputs": [],
   "source": [
    "# append mode\n",
    "file = open('f1.text', mode='a')  # it add new line\n",
    "file.write('\\nThis is Line4')\n",
    "file.writelines(['\\nThis is Line5', '\\nThis is Line6'])\n",
    "file.close()\n"
   ]
  },
  {
   "cell_type": "markdown",
   "metadata": {},
   "source": [
    "### xclusive"
   ]
  },
  {
   "cell_type": "code",
   "execution_count": 3,
   "metadata": {},
   "outputs": [
    {
     "name": "stdout",
     "output_type": "stream",
     "text": [
      "File already Exists!\n"
     ]
    }
   ],
   "source": [
    "# xclusive mode\n",
    "try:\n",
    "    file = open('f1.text', mode='x')  # if file exists don't create file\n",
    "    file.write('\\nThis is Line4')\n",
    "    file.writelines(['\\nThis is Line5', '\\nThis is Line6'])\n",
    "    file.close()\n",
    "except Exception as e:\n",
    "    print('File already Exists!')\n"
   ]
  },
  {
   "cell_type": "markdown",
   "metadata": {},
   "source": [
    "### Read"
   ]
  },
  {
   "cell_type": "code",
   "execution_count": 4,
   "metadata": {},
   "outputs": [
    {
     "name": "stdout",
     "output_type": "stream",
     "text": [
      "This is Line1\n",
      "This is Line2\n",
      "This is Line3\n",
      "This is Line4\n",
      "This is Line5\n",
      "This is Line6\n"
     ]
    }
   ],
   "source": [
    "# read mode\n",
    "file = open('f1.text', mode='r')\n",
    "data = file.read()\n",
    "print(data)\n",
    "file.close()\n"
   ]
  },
  {
   "cell_type": "code",
   "execution_count": 5,
   "metadata": {},
   "outputs": [
    {
     "name": "stdout",
     "output_type": "stream",
     "text": [
      "This is Line1\n",
      "\n"
     ]
    }
   ],
   "source": [
    "# read mode\n",
    "file = open('f1.text', mode='r')\n",
    "data = file.readline()\n",
    "print(data)\n",
    "file.close()"
   ]
  },
  {
   "cell_type": "code",
   "execution_count": 6,
   "metadata": {},
   "outputs": [
    {
     "name": "stdout",
     "output_type": "stream",
     "text": [
      "Thi\n"
     ]
    }
   ],
   "source": [
    "# read mode\n",
    "file = open('f1.text', mode='r')\n",
    "data = file.readline(3)\n",
    "print(data)\n",
    "file.close()"
   ]
  },
  {
   "cell_type": "code",
   "execution_count": 7,
   "metadata": {},
   "outputs": [
    {
     "name": "stdout",
     "output_type": "stream",
     "text": [
      "['This is Line1\\n', 'This is Line2\\n', 'This is Line3\\n', 'This is Line4\\n', 'This is Line5\\n', 'This is Line6']\n"
     ]
    }
   ],
   "source": [
    "# read mode\n",
    "file = open('f1.text', mode='r')\n",
    "data = file.readlines()\n",
    "print(data)\n",
    "file.close()\n"
   ]
  },
  {
   "cell_type": "code",
   "execution_count": 8,
   "metadata": {},
   "outputs": [
    {
     "name": "stdout",
     "output_type": "stream",
     "text": [
      "This is \n"
     ]
    }
   ],
   "source": [
    "# read mode\n",
    "file = open('f1.text', mode='r')\n",
    "data = file.read(8)\n",
    "print(data)\n",
    "file.close()\n"
   ]
  },
  {
   "cell_type": "code",
   "execution_count": 9,
   "metadata": {},
   "outputs": [
    {
     "name": "stdout",
     "output_type": "stream",
     "text": [
      "b'This is '\n"
     ]
    }
   ],
   "source": [
    "# read byte mode\n",
    "file = open('f1.text', mode='rb')\n",
    "data = file.read(8)\n",
    "print(data)\n",
    "file.close()\n"
   ]
  },
  {
   "cell_type": "code",
   "execution_count": 10,
   "metadata": {},
   "outputs": [
    {
     "name": "stdout",
     "output_type": "stream",
     "text": [
      "This is Line1\n",
      "This is Line2\n",
      "This is Line3\n",
      "This is Line4\n",
      "This is Line5\n",
      "This is Line6\n"
     ]
    }
   ],
   "source": [
    "# read write mode\n",
    "file = open('f1.text', mode='r+')\n",
    "data = file.read()\n",
    "print(data)\n",
    "file.write('\\nline10')\n",
    "file.close()\n"
   ]
  },
  {
   "cell_type": "code",
   "execution_count": 11,
   "metadata": {},
   "outputs": [
    {
     "name": "stdout",
     "output_type": "stream",
     "text": [
      "Readable: False\n",
      "Writeable: True\n",
      "Closed: False\n",
      "After Closed: True\n"
     ]
    }
   ],
   "source": [
    "# Checker\n",
    "file = open('f1.text', mode='a')\n",
    "print('Readable:', file.readable())\n",
    "print('Writeable:', file.writable())\n",
    "print(\"Closed:\", file.closed)\n",
    "file.close()\n",
    "print(\"After Closed:\", file.closed)\n"
   ]
  },
  {
   "cell_type": "code",
   "execution_count": 12,
   "metadata": {},
   "outputs": [
    {
     "name": "stdout",
     "output_type": "stream",
     "text": [
      "Readable: True\n",
      "Writeable: True\n",
      "Closed: False\n",
      "After Closed: True\n"
     ]
    }
   ],
   "source": [
    "# Checker\n",
    "file = open('f1.text', mode='r+')\n",
    "print('Readable:', file.readable())\n",
    "print('Writeable:', file.writable())\n",
    "print(\"Closed:\", file.closed)\n",
    "file.close()\n",
    "print(\"After Closed:\", file.closed)\n"
   ]
  },
  {
   "cell_type": "markdown",
   "metadata": {},
   "source": [
    "# With"
   ]
  },
  {
   "cell_type": "code",
   "execution_count": 13,
   "metadata": {},
   "outputs": [],
   "source": [
    "# write mode\n",
    "with open('f2.text', mode='w') as file:\n",
    "    file.write('Line with1')\n",
    "    file.writelines(['\\nLine with2', '\\nLine with3'])\n",
    "    # don't need to close\n"
   ]
  },
  {
   "cell_type": "code",
   "execution_count": 14,
   "metadata": {},
   "outputs": [
    {
     "name": "stdout",
     "output_type": "stream",
     "text": [
      "Line with1\n",
      "Line with2\n",
      "Line with3\n"
     ]
    }
   ],
   "source": [
    "# read write mode\n",
    "with open('f2.text', mode='r') as file:\n",
    "    data = file.read()\n",
    "    print(data)\n"
   ]
  },
  {
   "cell_type": "code",
   "execution_count": 15,
   "metadata": {},
   "outputs": [
    {
     "name": "stdout",
     "output_type": "stream",
     "text": [
      "Readable: True\n",
      "Writeable: True\n",
      "Closed: False\n",
      "After Closed: True\n"
     ]
    }
   ],
   "source": [
    "# Checker\n",
    "with open('f2.text', mode='r+') as file:\n",
    "    print('Readable:', file.readable())\n",
    "    print('Writeable:', file.writable())\n",
    "    print(\"Closed:\", file.closed)\n",
    "\n",
    "print(\"After Closed:\", file.closed)\n"
   ]
  },
  {
   "cell_type": "code",
   "execution_count": 16,
   "metadata": {},
   "outputs": [
    {
     "name": "stdout",
     "output_type": "stream",
     "text": [
      "Readable: False\n",
      "Writeable: True\n",
      "Closed: False\n",
      "After Closed: True\n"
     ]
    }
   ],
   "source": [
    "# Checker\n",
    "with open('f2.text', mode='a') as file:\n",
    "    print('Readable:', file.readable())\n",
    "    print('Writeable:', file.writable())\n",
    "    print(\"Closed:\", file.closed)\n",
    "\n",
    "print(\"After Closed:\", file.closed)\n"
   ]
  },
  {
   "cell_type": "markdown",
   "metadata": {},
   "source": [
    "# File Rename"
   ]
  },
  {
   "cell_type": "code",
   "execution_count": 17,
   "metadata": {},
   "outputs": [],
   "source": [
    "import os"
   ]
  },
  {
   "cell_type": "code",
   "execution_count": 18,
   "metadata": {},
   "outputs": [],
   "source": [
    "os.rename('f2.text','f2_rename.text')"
   ]
  },
  {
   "cell_type": "markdown",
   "metadata": {},
   "source": [
    "# Deleting a File"
   ]
  },
  {
   "cell_type": "code",
   "execution_count": 19,
   "metadata": {},
   "outputs": [],
   "source": [
    "# Create a file for remove\n",
    "with open('file3.text', mode='w') as file:\n",
    "    file.write('For remove')\n"
   ]
  },
  {
   "cell_type": "code",
   "execution_count": 20,
   "metadata": {},
   "outputs": [],
   "source": [
    "os.remove('file3.text')\n"
   ]
  },
  {
   "cell_type": "code",
   "execution_count": 21,
   "metadata": {},
   "outputs": [
    {
     "name": "stdout",
     "output_type": "stream",
     "text": [
      "File doesn't exists\n"
     ]
    }
   ],
   "source": [
    "if os.path.exists('file3.text'):\n",
    "    os.remove('file3.text')\n",
    "else:\n",
    "    print(\"File doesn't exists\")\n"
   ]
  }
 ],
 "metadata": {
  "kernelspec": {
   "display_name": "Python 3.8.8 ('base')",
   "language": "python",
   "name": "python3"
  },
  "language_info": {
   "codemirror_mode": {
    "name": "ipython",
    "version": 3
   },
   "file_extension": ".py",
   "mimetype": "text/x-python",
   "name": "python",
   "nbconvert_exporter": "python",
   "pygments_lexer": "ipython3",
   "version": "3.8.8"
  },
  "orig_nbformat": 4,
  "vscode": {
   "interpreter": {
    "hash": "f08154012ddadd8e950e6e9e035c7a7b32c136e7647e9b7c77e02eb723a8bedb"
   }
  }
 },
 "nbformat": 4,
 "nbformat_minor": 2
}
